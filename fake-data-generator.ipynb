{
  "nbformat": 4,
  "nbformat_minor": 0,
  "metadata": {
    "kernelspec": {
      "display_name": "Python 3",
      "language": "python",
      "name": "python3"
    },
    "language_info": {
      "codemirror_mode": {
        "name": "ipython",
        "version": 3
      },
      "file_extension": ".py",
      "mimetype": "text/x-python",
      "name": "python",
      "nbconvert_exporter": "python",
      "pygments_lexer": "ipython3",
      "version": "3.7.4"
    },
    "colab": {
      "name": "hw3.ipynb",
      "provenance": [],
      "include_colab_link": true
    }
  },
  "cells": [
    {
      "cell_type": "markdown",
      "metadata": {
        "id": "view-in-github",
        "colab_type": "text"
      },
      "source": [
        "<a href=\"https://colab.research.google.com/github/wcj365/python-stats-dataviz/blob/master/fake-data-generator.ipynb\" target=\"_parent\"><img src=\"https://colab.research.google.com/assets/colab-badge.svg\" alt=\"Open In Colab\"/></a>"
      ]
    },
    {
      "cell_type": "markdown",
      "metadata": {
        "id": "Myt4Bytpga_D",
        "colab_type": "text"
      },
      "source": [
        "## Step 1 - Install faker module"
      ]
    },
    {
      "cell_type": "code",
      "metadata": {
        "id": "8YAK_A7rNryW",
        "colab_type": "code",
        "colab": {}
      },
      "source": [
        "!pip install faker"
      ],
      "execution_count": 0,
      "outputs": []
    },
    {
      "cell_type": "markdown",
      "metadata": {
        "id": "kjaS9ftCgk4r",
        "colab_type": "text"
      },
      "source": [
        "## Step 2 - Import Libraries"
      ]
    },
    {
      "cell_type": "code",
      "metadata": {
        "id": "If7-OkBENYBM",
        "colab_type": "code",
        "colab": {}
      },
      "source": [
        "from random import randint\n",
        "import pandas as pd\n",
        "import random \n",
        "from faker import Faker\n",
        "import csv"
      ],
      "execution_count": 0,
      "outputs": []
    },
    {
      "cell_type": "markdown",
      "metadata": {
        "id": "OqDO20GPgrIF",
        "colab_type": "text"
      },
      "source": [
        "## Step 3 - Prompt User for the Number of Entries"
      ]
    },
    {
      "cell_type": "code",
      "metadata": {
        "id": "ICW-4YYNOzn4",
        "colab_type": "code",
        "colab": {}
      },
      "source": [
        "number_of_entries = input('How many entries do you want? ')\n",
        "\n",
        "print(\"User entered number of entries = \", number_of_entries)"
      ],
      "execution_count": 0,
      "outputs": []
    },
    {
      "cell_type": "markdown",
      "metadata": {
        "id": "Umg3fza_gTLQ",
        "colab_type": "text"
      },
      "source": [
        "## Step 4 - Generate Fake Data"
      ]
    },
    {
      "cell_type": "code",
      "metadata": {
        "id": "UD4KFEcwPpT2",
        "colab_type": "code",
        "colab": {}
      },
      "source": [
        "\n",
        "fake= Faker()\n",
        "persons = []                             # initialize a list to hold the geerated entries\n",
        "type_ownership = ['Rent' , 'Own'] \n",
        "\n",
        "for i in range(int(number_of_entries)):  # loop through the number of entries \n",
        "                                         # generate one fake observation/person \n",
        "    name = fake.name()\n",
        "    email = fake.email()\n",
        "    address = fake.address()\n",
        "    phone = fake.phone_number()\n",
        "    birth = fake.date_of_birth()\n",
        "    lease_type = (random.choice(type_ownership))\n",
        "    number_of_Children = randint(1, 20)\n",
        "    Annual_income = randint(5000, 300000)\n",
        "    speeding_tickets = randint(1, 20)  \n",
        "\n",
        "    # a dictionary is a key-value pair\n",
        "    person = {\n",
        "        'Name':name,\n",
        "        'Address':address,\n",
        "        'email':email,\n",
        "        'Phone_Number':phone,\n",
        "        'Birth_Date':birth,\n",
        "        'Lease_Type':lease_type,\n",
        "        'Number_of_Children': number_of_Children,\n",
        "        'Annual_Income':Annual_income,\n",
        "        'Speeding_Tickets':speeding_tickets\n",
        "    }  \n",
        "    print(person.values())            # only print the values, not the keys\n",
        "    persons.append(person.values())   # we only want to keep the values of a dictionary, not the keys.\n",
        "\n",
        "                       "
      ],
      "execution_count": 0,
      "outputs": []
    },
    {
      "cell_type": "code",
      "metadata": {
        "id": "FZpcFJJ0iX56",
        "colab_type": "code",
        "colab": {}
      },
      "source": [
        "from google.colab import drive\n",
        "drive.mount('/content/drive')"
      ],
      "execution_count": 0,
      "outputs": []
    },
    {
      "cell_type": "markdown",
      "metadata": {
        "id": "xrCeOv97g4zf",
        "colab_type": "text"
      },
      "source": [
        "## Step 5 - Save Fake Data to a CSV File"
      ]
    },
    {
      "cell_type": "code",
      "metadata": {
        "id": "Zj8kRKmeM2Tl",
        "colab_type": "code",
        "colab": {}
      },
      "source": [
        "# save data to a CSV file\n",
        "\n",
        "column_labels =[                \n",
        "    'Name',\n",
        "    'Address',\n",
        "    'email',\n",
        "    'Phone_Number',\n",
        "    'Birth_Date',\n",
        "    'Lease_Type',\n",
        "    'Number_of_Children',\n",
        "    'Annual_Income',\n",
        "    'Speeding_Tickets'\n",
        "]\n",
        "\n",
        "with open(\"persons.csv\", \"w\") as csv_file:    # open a CSV file to save the data\n",
        "    for person in persons:\n",
        "        csv_writer = csv.writer(csv_file)     # create a CSV writer object to write data\n",
        "        csv_writer.writerow(column_labels)    # write the column headers.\n",
        "        csv_writer.writerows(persons)         # write rows of persons \n"
      ],
      "execution_count": 0,
      "outputs": []
    }
  ]
}