{
 "cells": [
  {
   "cell_type": "markdown",
   "metadata": {},
   "source": [
    "### 12 - Estimation and Confidence Interval\n",
    "\n",
    "Source: https://www.britannica.com/science/statistics/Estimation-of-a-population-mean\n",
    "\n",
    "The most fundamental point and interval estimation process involves the estimation of a population mean. Suppose it is of interest to estimate the population mean, μ, for a quantitative variable. Data collected from a simple random sample can be used to compute the sample mean, x̄, where the value of x̄ provides a point estimate of μ.\n",
    "\n",
    "When the sample mean is used as a point estimate of the population mean, some error can be expected owing to the fact that a sample, or subset of the population, is used to compute the point estimate. The absolute value of the difference between the sample mean, x̄, and the population mean, μ, written |x̄ − μ|, is called the sampling error. Interval estimation incorporates a probability statement about the magnitude of the sampling error. The sampling distribution of x̄ provides the basis for such a statement.\n",
    "\n",
    "Statisticians have shown that the mean of the sampling distribution of x̄ is equal to the population mean, μ, and that the standard deviation is given by σ/Square root of√n, where σ is the population standard deviation. The standard deviation of a sampling distribution is called the standard error. For large sample sizes, the central limit theorem indicates that the sampling distribution of x̄ can be approximated by a normal probability distribution. As a matter of practice, statisticians usually consider samples of size 30 or more to be large.\n",
    "\n"
   ]
  },
  {
   "cell_type": "code",
   "execution_count": 50,
   "metadata": {},
   "outputs": [],
   "source": [
    "# Import useful libraries\n",
    "\n",
    "import math\n",
    "import pandas as pd\n",
    "import numpy as np\n",
    "import matplotlib.pyplot as plt\n",
    "\n",
    "plt.rcParams[\"figure.figsize\"] = (12,12)     # set global parameter to increase the plot size. Default size is too small"
   ]
  },
  {
   "cell_type": "code",
   "execution_count": 51,
   "metadata": {},
   "outputs": [
    {
     "name": "stdout",
     "output_type": "stream",
     "text": [
      "<class 'pandas.core.frame.DataFrame'>\n",
      "RangeIndex: 7115 entries, 0 to 7114\n",
      "Data columns (total 4 columns):\n",
      "INSTNM           7115 non-null object\n",
      "CONTROL          7115 non-null int64\n",
      "ST_FIPS          7115 non-null int64\n",
      "TUITIONFEE_IN    4028 non-null float64\n",
      "dtypes: float64(1), int64(2), object(1)\n",
      "memory usage: 222.4+ KB\n"
     ]
    }
   ],
   "source": [
    "# load 2017-2018 college scorecard data\n",
    "# Again, we only load the needed columns\n",
    "\n",
    "col_names = [\"ST_FIPS\", \"INSTNM\",\"CONTROL\", \"TUITIONFEE_IN\"]\n",
    "df = pd.read_csv(\"MERGED2017_18_PP.csv\", usecols=col_names)\n",
    "df.info()"
   ]
  },
  {
   "cell_type": "code",
   "execution_count": 52,
   "metadata": {},
   "outputs": [
    {
     "data": {
      "text/html": [
       "<div>\n",
       "<style scoped>\n",
       "    .dataframe tbody tr th:only-of-type {\n",
       "        vertical-align: middle;\n",
       "    }\n",
       "\n",
       "    .dataframe tbody tr th {\n",
       "        vertical-align: top;\n",
       "    }\n",
       "\n",
       "    .dataframe thead th {\n",
       "        text-align: right;\n",
       "    }\n",
       "</style>\n",
       "<table border=\"1\" class=\"dataframe\">\n",
       "  <thead>\n",
       "    <tr style=\"text-align: right;\">\n",
       "      <th></th>\n",
       "      <th>INSTNM</th>\n",
       "      <th>CONTROL</th>\n",
       "      <th>ST_FIPS</th>\n",
       "      <th>TUITIONFEE_IN</th>\n",
       "    </tr>\n",
       "  </thead>\n",
       "  <tbody>\n",
       "    <tr>\n",
       "      <th>count</th>\n",
       "      <td>7115</td>\n",
       "      <td>7115.000000</td>\n",
       "      <td>7115.000000</td>\n",
       "      <td>4028.000000</td>\n",
       "    </tr>\n",
       "    <tr>\n",
       "      <th>unique</th>\n",
       "      <td>6981</td>\n",
       "      <td>NaN</td>\n",
       "      <td>NaN</td>\n",
       "      <td>NaN</td>\n",
       "    </tr>\n",
       "    <tr>\n",
       "      <th>top</th>\n",
       "      <td>Stevens-Henager College</td>\n",
       "      <td>NaN</td>\n",
       "      <td>NaN</td>\n",
       "      <td>NaN</td>\n",
       "    </tr>\n",
       "    <tr>\n",
       "      <th>freq</th>\n",
       "      <td>7</td>\n",
       "      <td>NaN</td>\n",
       "      <td>NaN</td>\n",
       "      <td>NaN</td>\n",
       "    </tr>\n",
       "    <tr>\n",
       "      <th>mean</th>\n",
       "      <td>NaN</td>\n",
       "      <td>2.129585</td>\n",
       "      <td>29.131975</td>\n",
       "      <td>15081.399950</td>\n",
       "    </tr>\n",
       "    <tr>\n",
       "      <th>std</th>\n",
       "      <td>NaN</td>\n",
       "      <td>0.834534</td>\n",
       "      <td>16.741847</td>\n",
       "      <td>12723.724262</td>\n",
       "    </tr>\n",
       "    <tr>\n",
       "      <th>min</th>\n",
       "      <td>NaN</td>\n",
       "      <td>1.000000</td>\n",
       "      <td>1.000000</td>\n",
       "      <td>0.000000</td>\n",
       "    </tr>\n",
       "    <tr>\n",
       "      <th>25%</th>\n",
       "      <td>NaN</td>\n",
       "      <td>1.000000</td>\n",
       "      <td>13.000000</td>\n",
       "      <td>5246.250000</td>\n",
       "    </tr>\n",
       "    <tr>\n",
       "      <th>50%</th>\n",
       "      <td>NaN</td>\n",
       "      <td>2.000000</td>\n",
       "      <td>29.000000</td>\n",
       "      <td>11296.000000</td>\n",
       "    </tr>\n",
       "    <tr>\n",
       "      <th>75%</th>\n",
       "      <td>NaN</td>\n",
       "      <td>3.000000</td>\n",
       "      <td>42.000000</td>\n",
       "      <td>19400.000000</td>\n",
       "    </tr>\n",
       "    <tr>\n",
       "      <th>max</th>\n",
       "      <td>NaN</td>\n",
       "      <td>3.000000</td>\n",
       "      <td>78.000000</td>\n",
       "      <td>74514.000000</td>\n",
       "    </tr>\n",
       "  </tbody>\n",
       "</table>\n",
       "</div>"
      ],
      "text/plain": [
       "                         INSTNM      CONTROL      ST_FIPS  TUITIONFEE_IN\n",
       "count                      7115  7115.000000  7115.000000    4028.000000\n",
       "unique                     6981          NaN          NaN            NaN\n",
       "top     Stevens-Henager College          NaN          NaN            NaN\n",
       "freq                          7          NaN          NaN            NaN\n",
       "mean                        NaN     2.129585    29.131975   15081.399950\n",
       "std                         NaN     0.834534    16.741847   12723.724262\n",
       "min                         NaN     1.000000     1.000000       0.000000\n",
       "25%                         NaN     1.000000    13.000000    5246.250000\n",
       "50%                         NaN     2.000000    29.000000   11296.000000\n",
       "75%                         NaN     3.000000    42.000000   19400.000000\n",
       "max                         NaN     3.000000    78.000000   74514.000000"
      ]
     },
     "execution_count": 52,
     "metadata": {},
     "output_type": "execute_result"
    }
   ],
   "source": [
    "df.describe(include=\"all\")"
   ]
  },
  {
   "cell_type": "code",
   "execution_count": 53,
   "metadata": {},
   "outputs": [
    {
     "data": {
      "text/html": [
       "<div>\n",
       "<style scoped>\n",
       "    .dataframe tbody tr th:only-of-type {\n",
       "        vertical-align: middle;\n",
       "    }\n",
       "\n",
       "    .dataframe tbody tr th {\n",
       "        vertical-align: top;\n",
       "    }\n",
       "\n",
       "    .dataframe thead th {\n",
       "        text-align: right;\n",
       "    }\n",
       "</style>\n",
       "<table border=\"1\" class=\"dataframe\">\n",
       "  <thead>\n",
       "    <tr style=\"text-align: right;\">\n",
       "      <th></th>\n",
       "      <th>INSTNM</th>\n",
       "      <th>CONTROL</th>\n",
       "      <th>ST_FIPS</th>\n",
       "      <th>TUITIONFEE_IN</th>\n",
       "    </tr>\n",
       "  </thead>\n",
       "  <tbody>\n",
       "    <tr>\n",
       "      <th>count</th>\n",
       "      <td>7115</td>\n",
       "      <td>7115</td>\n",
       "      <td>7115</td>\n",
       "      <td>4028.000000</td>\n",
       "    </tr>\n",
       "    <tr>\n",
       "      <th>unique</th>\n",
       "      <td>6981</td>\n",
       "      <td>3</td>\n",
       "      <td>59</td>\n",
       "      <td>NaN</td>\n",
       "    </tr>\n",
       "    <tr>\n",
       "      <th>top</th>\n",
       "      <td>Stevens-Henager College</td>\n",
       "      <td>3</td>\n",
       "      <td>6</td>\n",
       "      <td>NaN</td>\n",
       "    </tr>\n",
       "    <tr>\n",
       "      <th>freq</th>\n",
       "      <td>7</td>\n",
       "      <td>2998</td>\n",
       "      <td>716</td>\n",
       "      <td>NaN</td>\n",
       "    </tr>\n",
       "    <tr>\n",
       "      <th>mean</th>\n",
       "      <td>NaN</td>\n",
       "      <td>NaN</td>\n",
       "      <td>NaN</td>\n",
       "      <td>15081.399950</td>\n",
       "    </tr>\n",
       "    <tr>\n",
       "      <th>std</th>\n",
       "      <td>NaN</td>\n",
       "      <td>NaN</td>\n",
       "      <td>NaN</td>\n",
       "      <td>12723.724262</td>\n",
       "    </tr>\n",
       "    <tr>\n",
       "      <th>min</th>\n",
       "      <td>NaN</td>\n",
       "      <td>NaN</td>\n",
       "      <td>NaN</td>\n",
       "      <td>0.000000</td>\n",
       "    </tr>\n",
       "    <tr>\n",
       "      <th>25%</th>\n",
       "      <td>NaN</td>\n",
       "      <td>NaN</td>\n",
       "      <td>NaN</td>\n",
       "      <td>5246.250000</td>\n",
       "    </tr>\n",
       "    <tr>\n",
       "      <th>50%</th>\n",
       "      <td>NaN</td>\n",
       "      <td>NaN</td>\n",
       "      <td>NaN</td>\n",
       "      <td>11296.000000</td>\n",
       "    </tr>\n",
       "    <tr>\n",
       "      <th>75%</th>\n",
       "      <td>NaN</td>\n",
       "      <td>NaN</td>\n",
       "      <td>NaN</td>\n",
       "      <td>19400.000000</td>\n",
       "    </tr>\n",
       "    <tr>\n",
       "      <th>max</th>\n",
       "      <td>NaN</td>\n",
       "      <td>NaN</td>\n",
       "      <td>NaN</td>\n",
       "      <td>74514.000000</td>\n",
       "    </tr>\n",
       "  </tbody>\n",
       "</table>\n",
       "</div>"
      ],
      "text/plain": [
       "                         INSTNM CONTROL ST_FIPS  TUITIONFEE_IN\n",
       "count                      7115    7115    7115    4028.000000\n",
       "unique                     6981       3      59            NaN\n",
       "top     Stevens-Henager College       3       6            NaN\n",
       "freq                          7    2998     716            NaN\n",
       "mean                        NaN     NaN     NaN   15081.399950\n",
       "std                         NaN     NaN     NaN   12723.724262\n",
       "min                         NaN     NaN     NaN       0.000000\n",
       "25%                         NaN     NaN     NaN    5246.250000\n",
       "50%                         NaN     NaN     NaN   11296.000000\n",
       "75%                         NaN     NaN     NaN   19400.000000\n",
       "max                         NaN     NaN     NaN   74514.000000"
      ]
     },
     "execution_count": 53,
     "metadata": {},
     "output_type": "execute_result"
    }
   ],
   "source": [
    "# ST_FIPS representing states and CONTROL representing institution ownership types. \n",
    "# So they should be categorical variable even the value are numbers\n",
    "# convert them from integer type to string type\n",
    "\n",
    "df[\"ST_FIPS\"] = df[\"ST_FIPS\"].astype(str)\n",
    "df[\"CONTROL\"] = df[\"CONTROL\"].astype(str)\n",
    "df.describe(include=\"all\")"
   ]
  },
  {
   "cell_type": "code",
   "execution_count": 54,
   "metadata": {},
   "outputs": [
    {
     "data": {
      "text/html": [
       "<div>\n",
       "<style scoped>\n",
       "    .dataframe tbody tr th:only-of-type {\n",
       "        vertical-align: middle;\n",
       "    }\n",
       "\n",
       "    .dataframe tbody tr th {\n",
       "        vertical-align: top;\n",
       "    }\n",
       "\n",
       "    .dataframe thead th {\n",
       "        text-align: right;\n",
       "    }\n",
       "</style>\n",
       "<table border=\"1\" class=\"dataframe\">\n",
       "  <thead>\n",
       "    <tr style=\"text-align: right;\">\n",
       "      <th></th>\n",
       "      <th>INSTNM</th>\n",
       "      <th>CONTROL</th>\n",
       "      <th>ST_FIPS</th>\n",
       "      <th>TUITIONFEE_IN</th>\n",
       "    </tr>\n",
       "  </thead>\n",
       "  <tbody>\n",
       "    <tr>\n",
       "      <th>577</th>\n",
       "      <td>United States Air Force Academy</td>\n",
       "      <td>1</td>\n",
       "      <td>8</td>\n",
       "      <td>0.0</td>\n",
       "    </tr>\n",
       "    <tr>\n",
       "      <th>629</th>\n",
       "      <td>United States Coast Guard Academy</td>\n",
       "      <td>1</td>\n",
       "      <td>9</td>\n",
       "      <td>0.0</td>\n",
       "    </tr>\n",
       "    <tr>\n",
       "      <th>1500</th>\n",
       "      <td>United States Naval Academy</td>\n",
       "      <td>1</td>\n",
       "      <td>24</td>\n",
       "      <td>0.0</td>\n",
       "    </tr>\n",
       "    <tr>\n",
       "      <th>2449</th>\n",
       "      <td>United States Military Academy</td>\n",
       "      <td>1</td>\n",
       "      <td>36</td>\n",
       "      <td>0.0</td>\n",
       "    </tr>\n",
       "  </tbody>\n",
       "</table>\n",
       "</div>"
      ],
      "text/plain": [
       "                                 INSTNM CONTROL ST_FIPS  TUITIONFEE_IN\n",
       "577     United States Air Force Academy       1       8            0.0\n",
       "629   United States Coast Guard Academy       1       9            0.0\n",
       "1500        United States Naval Academy       1      24            0.0\n",
       "2449     United States Military Academy       1      36            0.0"
      ]
     },
     "execution_count": 54,
     "metadata": {},
     "output_type": "execute_result"
    }
   ],
   "source": [
    "# Find out the colleges that have zero tuition\n",
    "\n",
    "df[df[\"TUITIONFEE_IN\"] == 0]"
   ]
  },
  {
   "cell_type": "code",
   "execution_count": 55,
   "metadata": {},
   "outputs": [
    {
     "name": "stdout",
     "output_type": "stream",
     "text": [
      "<class 'pandas.core.frame.DataFrame'>\n",
      "Int64Index: 7111 entries, 0 to 7114\n",
      "Data columns (total 4 columns):\n",
      "INSTNM           7111 non-null object\n",
      "CONTROL          7111 non-null object\n",
      "ST_FIPS          7111 non-null object\n",
      "TUITIONFEE_IN    4024 non-null float64\n",
      "dtypes: float64(1), object(3)\n",
      "memory usage: 277.8+ KB\n"
     ]
    }
   ],
   "source": [
    "# Drop the colleges with zero tuition\n",
    "\n",
    "df = df[df[\"TUITIONFEE_IN\"] != 0]\n",
    "df.info()"
   ]
  },
  {
   "cell_type": "code",
   "execution_count": 56,
   "metadata": {},
   "outputs": [
    {
     "data": {
      "text/plain": [
       "3087"
      ]
     },
     "execution_count": 56,
     "metadata": {},
     "output_type": "execute_result"
    }
   ],
   "source": [
    "# Find out how many colleges having missing tuition\n",
    "\n",
    "df[\"TUITIONFEE_IN\"].isna().sum()"
   ]
  },
  {
   "cell_type": "code",
   "execution_count": 57,
   "metadata": {},
   "outputs": [
    {
     "name": "stdout",
     "output_type": "stream",
     "text": [
      "<class 'pandas.core.frame.DataFrame'>\n",
      "Int64Index: 4024 entries, 0 to 7114\n",
      "Data columns (total 4 columns):\n",
      "INSTNM           4024 non-null object\n",
      "CONTROL          4024 non-null object\n",
      "ST_FIPS          4024 non-null object\n",
      "TUITIONFEE_IN    4024 non-null float64\n",
      "dtypes: float64(1), object(3)\n",
      "memory usage: 157.2+ KB\n"
     ]
    }
   ],
   "source": [
    "# Drop these colleges with missing tuition from the dataframe\n",
    "\n",
    "df.dropna(inplace=True)\n",
    "df.info()"
   ]
  },
  {
   "cell_type": "markdown",
   "metadata": {},
   "source": [
    "Finally, we have a population of 4,024 colleges. \n",
    "\n",
    "We will now proceed to take a random sample of colleges and use the sample mean as an estimator for the population mean. Since the sample mean is only the approximation of the population mean, we would like to find out our confidence level and confidence interval of our estimate and the margin of errors.\n",
    "\n",
    "The formula for calculating standard deviation of a sample is:\n",
    "\n",
    " √(∑(xi - x(bar))^2) /n-1)  \n",
    "\n",
    "The term n-1 is called the degrees of freedom, meaning \"number of independent variables - number of parameters estimated\".\n",
    "in this case the mean is being estimated.\n",
    "\n",
    "The formula for calculating standard deviation of a population is:\n",
    "\n",
    "√(∑((xi - µ )^2) /n) \n",
    "\n",
    "The Standard Error (SE) = Standard Deviation / Square Root of Sample Size\n",
    "\n",
    "SE is used to measure the sampling error."
   ]
  },
  {
   "cell_type": "code",
   "execution_count": 58,
   "metadata": {},
   "outputs": [
    {
     "data": {
      "text/plain": [
       "14641.42"
      ]
     },
     "execution_count": 58,
     "metadata": {},
     "output_type": "execute_result"
    }
   ],
   "source": [
    "# Random sample of colleges\n",
    "SAMPLE_SIZE = 50         # This variable will be used through out the rest of cells\n",
    "\n",
    "df_sample = df.sample(SAMPLE_SIZE)\n",
    "sample_mean = df_sample[\"TUITIONFEE_IN\"].mean()\n",
    "sample_mean                   "
   ]
  },
  {
   "cell_type": "code",
   "execution_count": 60,
   "metadata": {},
   "outputs": [
    {
     "data": {
      "text/plain": [
       "12153.82"
      ]
     },
     "execution_count": 60,
     "metadata": {},
     "output_type": "execute_result"
    }
   ],
   "source": [
    "#### Let's calculate the sample standard deviation the hard way\n",
    "\n",
    "tuition_list = list(df_sample[\"TUITIONFEE_IN\"])\n",
    "degree_of_freedom = SAMPLE_SIZE - 1\n",
    "variance = 0\n",
    "for tuition in tuition_list:\n",
    "    variance += (tuition - sample_mean)**2\n",
    "sample_std = math.sqrt(variance/degree_of_freedom)\n",
    "round(sample_std, 2)"
   ]
  },
  {
   "cell_type": "code",
   "execution_count": 61,
   "metadata": {},
   "outputs": [
    {
     "data": {
      "text/plain": [
       "12153.82"
      ]
     },
     "execution_count": 61,
     "metadata": {},
     "output_type": "execute_result"
    }
   ],
   "source": [
    "#### Let's calculate the sample standard deviation easy way using Pandas\n",
    "\n",
    "sample_std = df_sample[\"TUITIONFEE_IN\"].std()\n",
    "round(sample_std, 2)"
   ]
  },
  {
   "cell_type": "markdown",
   "metadata": {},
   "source": [
    "#### Let's calculate the sample standard deviation easy way using Numpy\n",
    "\n",
    "Notes:\n",
    "\n",
    "Delta Degrees of Freedom (DDOF): the divisor used in the calculation is N - ddof, where N represents the number of observations. By default, ddof is zero.\n",
    "\n",
    "In standard statistical practice, ddof=1 provides an unbiased estimator of the variance of a hypothetical infinite population. ddof=0 provides a maximum likelihood estimate of the variance for normally distributed variables.\n"
   ]
  },
  {
   "cell_type": "code",
   "execution_count": 62,
   "metadata": {},
   "outputs": [
    {
     "data": {
      "text/plain": [
       "12153.82"
      ]
     },
     "execution_count": 62,
     "metadata": {},
     "output_type": "execute_result"
    }
   ],
   "source": [
    "sample_std = np.std(df_sample[\"TUITIONFEE_IN\"], ddof=1)\n",
    "round(sample_std, 2)"
   ]
  },
  {
   "cell_type": "markdown",
   "metadata": {},
   "source": [
    "### Confidence Intervals \n",
    "\n",
    "We will use the following chracteristics of a normal distribution:\n",
    "\n",
    "- 68% of values are within 1 standard deviation of the mean, 𝜇±𝜎\n",
    "- 95% of values are within 2 standard deviations of the mean, 𝜇±2𝜎\n",
    "- 99.7% of values are within 3 standard deviations of the mean, 𝜇±3𝜎 (This is where the famous 6 sigma came from)"
   ]
  },
  {
   "cell_type": "code",
   "execution_count": 31,
   "metadata": {},
   "outputs": [
    {
     "data": {
      "text/plain": [
       "1672.9857821565486"
      ]
     },
     "execution_count": 31,
     "metadata": {},
     "output_type": "execute_result"
    }
   ],
   "source": [
    "# let's calculate the standard error first \n",
    "# Since we assume we don't know the population standard deviation, we use sample standard deviation as an estimate\n",
    "\n",
    "std_err = sample_std / math.sqrt(SAMPLE_SIZE)       # standard error\n",
    "std_err"
   ]
  },
  {
   "cell_type": "code",
   "execution_count": 63,
   "metadata": {},
   "outputs": [
    {
     "name": "stdout",
     "output_type": "stream",
     "text": [
      "Lower confidence limit at 68% confidence level =  12968.43\n",
      "Upper confidence limit at 68% confidence level =  16314.41\n"
     ]
    }
   ],
   "source": [
    "# Calculate 68% Confidence Interval (CI) - one standard error from the population mean\n",
    "# 68% chances the population mean is within the sample_mean (+ or -) the standard error (SE)\n",
    "\n",
    "LCL_68 = sample_mean -  std_err\n",
    "UCL_68 = sample_mean +  std_err\n",
    "\n",
    "print(\"Lower confidence limit at 68% confidence level = \", round(LCL_68,2))\n",
    "print(\"Upper confidence limit at 68% confidence level = \", round(UCL_68,2))"
   ]
  },
  {
   "cell_type": "code",
   "execution_count": 64,
   "metadata": {},
   "outputs": [
    {
     "name": "stdout",
     "output_type": "stream",
     "text": [
      "Lower confidence limit at 95% confidence level =  11295.45\n",
      "Upper confidence limit at 95% confidence level =  17987.39\n"
     ]
    }
   ],
   "source": [
    "# Calculate 95% Confidence Interval (CI) - one standard error from the population mean\n",
    "# 90% chances the population mean is within the sample_mean + or - 2 * the standard error (SE)\n",
    "\n",
    "LCL_95 = sample_mean -  2 * std_err\n",
    "UCL_95 = sample_mean +  2 * std_err\n",
    "print(\"Lower confidence limit at 95% confidence level = \", round(LCL_95,2))\n",
    "print(\"Upper confidence limit at 95% confidence level = \", round(UCL_95,2))\n"
   ]
  },
  {
   "cell_type": "code",
   "execution_count": 65,
   "metadata": {},
   "outputs": [
    {
     "name": "stdout",
     "output_type": "stream",
     "text": [
      "Lower confidence limit at 99.7% confidence level =  9622.46\n",
      "Upper confidence limit at 99.7% confidence level =  19660.38\n"
     ]
    }
   ],
   "source": [
    "# Calculate 99.7% Confidence Interval (CI) - one standard error from the population mean\n",
    "# 99.7% chances the population mean is within the sample_mean + or - 3 * the standard error (SE)\n",
    "\n",
    "LCL_997 = sample_mean -  3 * std_err\n",
    "UCL_997 = sample_mean +  3 * std_err\n",
    "print(\"Lower confidence limit at 99.7% confidence level = \", round(LCL_997,2))\n",
    "print(\"Upper confidence limit at 99.7% confidence level = \", round(UCL_997,2))"
   ]
  },
  {
   "cell_type": "code",
   "execution_count": 66,
   "metadata": {},
   "outputs": [
    {
     "data": {
      "text/plain": [
       "15096.391401590457"
      ]
     },
     "execution_count": 66,
     "metadata": {},
     "output_type": "execute_result"
    }
   ],
   "source": [
    "df[\"TUITIONFEE_IN\"].mean()"
   ]
  },
  {
   "cell_type": "markdown",
   "metadata": {},
   "source": [
    "### The End!\n",
    "\n",
    "\n",
    "#### Now, the Bonus Follows: Let's compare the tuition of different types of institutions using Boxplot"
   ]
  },
  {
   "cell_type": "code",
   "execution_count": 35,
   "metadata": {},
   "outputs": [
    {
     "data": {
      "text/html": [
       "<div>\n",
       "<style scoped>\n",
       "    .dataframe tbody tr th:only-of-type {\n",
       "        vertical-align: middle;\n",
       "    }\n",
       "\n",
       "    .dataframe tbody tr th {\n",
       "        vertical-align: top;\n",
       "    }\n",
       "\n",
       "    .dataframe thead th {\n",
       "        text-align: right;\n",
       "    }\n",
       "</style>\n",
       "<table border=\"1\" class=\"dataframe\">\n",
       "  <thead>\n",
       "    <tr style=\"text-align: right;\">\n",
       "      <th></th>\n",
       "      <th>INSTNM</th>\n",
       "      <th>CONTROL</th>\n",
       "      <th>ST_FIPS</th>\n",
       "      <th>TUITIONFEE_IN</th>\n",
       "    </tr>\n",
       "  </thead>\n",
       "  <tbody>\n",
       "    <tr>\n",
       "      <th>5177</th>\n",
       "      <td>SAE Expression College</td>\n",
       "      <td>Private for-profit</td>\n",
       "      <td>6</td>\n",
       "      <td>23899.0</td>\n",
       "    </tr>\n",
       "    <tr>\n",
       "      <th>2518</th>\n",
       "      <td>John Wesley University</td>\n",
       "      <td>Private nonprofit</td>\n",
       "      <td>37</td>\n",
       "      <td>11230.0</td>\n",
       "    </tr>\n",
       "    <tr>\n",
       "      <th>6845</th>\n",
       "      <td>Columbia College - Redstone Arsenal</td>\n",
       "      <td>Private nonprofit</td>\n",
       "      <td>1</td>\n",
       "      <td>6840.0</td>\n",
       "    </tr>\n",
       "    <tr>\n",
       "      <th>2803</th>\n",
       "      <td>The North Coast College</td>\n",
       "      <td>Private for-profit</td>\n",
       "      <td>39</td>\n",
       "      <td>20439.0</td>\n",
       "    </tr>\n",
       "    <tr>\n",
       "      <th>2508</th>\n",
       "      <td>Gaston College</td>\n",
       "      <td>Public</td>\n",
       "      <td>37</td>\n",
       "      <td>2704.0</td>\n",
       "    </tr>\n",
       "    <tr>\n",
       "      <th>6199</th>\n",
       "      <td>National American University-Georgetown</td>\n",
       "      <td>Private for-profit</td>\n",
       "      <td>48</td>\n",
       "      <td>15000.0</td>\n",
       "    </tr>\n",
       "    <tr>\n",
       "      <th>639</th>\n",
       "      <td>Goldey-Beacom College</td>\n",
       "      <td>Private nonprofit</td>\n",
       "      <td>10</td>\n",
       "      <td>23850.0</td>\n",
       "    </tr>\n",
       "    <tr>\n",
       "      <th>595</th>\n",
       "      <td>Eastern Connecticut State University</td>\n",
       "      <td>Public</td>\n",
       "      <td>9</td>\n",
       "      <td>10919.0</td>\n",
       "    </tr>\n",
       "    <tr>\n",
       "      <th>1793</th>\n",
       "      <td>University of Northwestern-St Paul</td>\n",
       "      <td>Private nonprofit</td>\n",
       "      <td>27</td>\n",
       "      <td>30794.0</td>\n",
       "    </tr>\n",
       "    <tr>\n",
       "      <th>1436</th>\n",
       "      <td>Northern Maine Community College</td>\n",
       "      <td>Public</td>\n",
       "      <td>23</td>\n",
       "      <td>3681.0</td>\n",
       "    </tr>\n",
       "  </tbody>\n",
       "</table>\n",
       "</div>"
      ],
      "text/plain": [
       "                                       INSTNM             CONTROL ST_FIPS  \\\n",
       "5177                   SAE Expression College  Private for-profit       6   \n",
       "2518                   John Wesley University   Private nonprofit      37   \n",
       "6845      Columbia College - Redstone Arsenal   Private nonprofit       1   \n",
       "2803                  The North Coast College  Private for-profit      39   \n",
       "2508                           Gaston College              Public      37   \n",
       "6199  National American University-Georgetown  Private for-profit      48   \n",
       "639                     Goldey-Beacom College   Private nonprofit      10   \n",
       "595      Eastern Connecticut State University              Public       9   \n",
       "1793       University of Northwestern-St Paul   Private nonprofit      27   \n",
       "1436         Northern Maine Community College              Public      23   \n",
       "\n",
       "      TUITIONFEE_IN  \n",
       "5177        23899.0  \n",
       "2518        11230.0  \n",
       "6845         6840.0  \n",
       "2803        20439.0  \n",
       "2508         2704.0  \n",
       "6199        15000.0  \n",
       "639         23850.0  \n",
       "595         10919.0  \n",
       "1793        30794.0  \n",
       "1436         3681.0  "
      ]
     },
     "execution_count": 35,
     "metadata": {},
     "output_type": "execute_result"
    }
   ],
   "source": [
    "# Transform the cryptic numbers to explicit lables. \n",
    "def get_ownership(control):\n",
    "    if control == \"1\":\n",
    "        return \"Public\"\n",
    "    elif control ==\"2\":\n",
    "        return \"Private nonprofit\"\n",
    "    elif control ==\"3\":\n",
    "        return \"Private for-profit\"\n",
    "    else: \n",
    "        return np.nan\n",
    "    \n",
    "df[\"CONTROL\"] = df[\"CONTROL\"].apply(get_ownership)\n",
    "df.sample(10)"
   ]
  },
  {
   "cell_type": "code",
   "execution_count": 36,
   "metadata": {},
   "outputs": [
    {
     "data": {
      "text/plain": [
       "<matplotlib.axes._subplots.AxesSubplot at 0x269375192b0>"
      ]
     },
     "execution_count": 36,
     "metadata": {},
     "output_type": "execute_result"
    },
    {
     "data": {
      "image/png": "[encoded data removed]",
      "text/plain": [
       "<Figure size 864x864 with 1 Axes>"
      ]
     },
     "metadata": {
      "needs_background": "light"
     },
     "output_type": "display_data"
    }
   ],
   "source": [
    "# Display the boxplot by different ownership types\n",
    "\n",
    "df.boxplot(\"TUITIONFEE_IN\",by=\"CONTROL\")"
   ]
  },
  {
   "cell_type": "markdown",
   "metadata": {},
   "source": [
    "### The End "
   ]
  },
  {
   "cell_type": "code",
   "execution_count": null,
   "metadata": {},
   "outputs": [],
   "source": []
  }
 ],
 "metadata": {
  "kernelspec": {
   "display_name": "Python 3",
   "language": "python",
   "name": "python3"
  },
  "language_info": {
   "codemirror_mode": {
    "name": "ipython",
    "version": 3
   },
   "file_extension": ".py",
   "mimetype": "text/x-python",
   "name": "python",
   "nbconvert_exporter": "python",
   "pygments_lexer": "ipython3",
   "version": "3.7.1"
  }
 },
 "nbformat": 4,
 "nbformat_minor": 2
}
