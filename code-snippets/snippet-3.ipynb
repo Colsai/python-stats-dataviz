{
 "cells": [
  {
   "cell_type": "markdown",
   "metadata": {},
   "source": [
    "# Snippet 3\n",
    "## Calculate Descriptive Statistics\n",
    "- mean\n",
    "- minimum\n",
    "- maximum\n",
    "- variance\n",
    "- standard deviation"
   ]
  },
  {
   "cell_type": "code",
   "execution_count": null,
   "metadata": {},
   "outputs": [],
   "source": [
    "## 1 - Mean"
   ]
  },
  {
   "cell_type": "code",
   "execution_count": null,
   "metadata": {},
   "outputs": [],
   "source": [
    "# function to calculate the mean for a given list of numbers\n",
    "\n",
    "def mean(a_list):\n",
    "    \n",
    "    total = 0\n",
    "\n",
    "    for num in a_list:\n",
    "        total += num\n",
    "\n",
    "    return total / len(a_list)\n",
    "        "
   ]
  },
  {
   "cell_type": "code",
   "execution_count": 29,
   "metadata": {},
   "outputs": [
    {
     "name": "stdout",
     "output_type": "stream",
     "text": [
      "mean =  18.83\n"
     ]
    }
   ],
   "source": [
    "# Test the mean function\n",
    "\n",
    "the_list = [12, 4, 78, 10, 3, 6]\n",
    "\n",
    "the_mean = mean(the_list)\n",
    "\n",
    "print(\"mean = \", round(the_mean, 2))     # round up to 2 decimal points"
   ]
  },
  {
   "cell_type": "markdown",
   "metadata": {},
   "source": [
    "## 2 - Minimum"
   ]
  },
  {
   "cell_type": "code",
   "execution_count": 5,
   "metadata": {},
   "outputs": [],
   "source": [
    "# Define the min function\n",
    "\n",
    "def min(a_list):\n",
    "    \n",
    "    min = a_list[0]      # start with the first element \n",
    "    \n",
    "    for num in a_list:      \n",
    "        if num < min:\n",
    "            min = num\n",
    "    \n",
    "    return min         "
   ]
  },
  {
   "cell_type": "code",
   "execution_count": 16,
   "metadata": {},
   "outputs": [
    {
     "name": "stdout",
     "output_type": "stream",
     "text": [
      "min =  3\n"
     ]
    }
   ],
   "source": [
    "# Test the min function\n",
    "\n",
    "the_list = [12, 4, 78, 10, 3, 6]\n",
    "\n",
    "the_min = min(the_list)\n",
    "\n",
    "print(\"min = \", the_min) "
   ]
  },
  {
   "cell_type": "markdown",
   "metadata": {},
   "source": [
    "## 3 - The Maximum"
   ]
  },
  {
   "cell_type": "code",
   "execution_count": 13,
   "metadata": {},
   "outputs": [],
   "source": [
    "# Define the min function\n",
    "\n",
    "def max(a_list):\n",
    "    \n",
    "    max = a_list[0]      # start with the first element \n",
    "    \n",
    "    for num in a_list:      \n",
    "        if num > max:\n",
    "            max = num\n",
    "    \n",
    "    return max"
   ]
  },
  {
   "cell_type": "code",
   "execution_count": 15,
   "metadata": {},
   "outputs": [
    {
     "name": "stdout",
     "output_type": "stream",
     "text": [
      "max =  78\n"
     ]
    }
   ],
   "source": [
    "# Test the max function\n",
    "\n",
    "the_list = [12, 4, 78, 10, 3, 6]\n",
    "\n",
    "the_max = max(the_list)\n",
    "\n",
    "print(\"max = \", the_max) "
   ]
  },
  {
   "cell_type": "markdown",
   "metadata": {},
   "source": [
    "## 4 - Variance \n",
    "Variance is the average of the squared differences from the Mean."
   ]
  },
  {
   "cell_type": "code",
   "execution_count": 19,
   "metadata": {},
   "outputs": [],
   "source": [
    "# Define the variance function\n",
    "\n",
    "def var(a_list):\n",
    "    \n",
    "    the_mean = mean(a_list)                     # we call the mean function defined earlier - code reuse\n",
    "    \n",
    "    squared_diff = [(x - the_mean) ** 2 for x in a_list]    # This is handy one-liner list comprehension\n",
    "    \n",
    "    return mean(squared_diff)                   # we call the mean function defined earlier, again - code reuse\n",
    "        "
   ]
  },
  {
   "cell_type": "code",
   "execution_count": 25,
   "metadata": {},
   "outputs": [
    {
     "name": "stdout",
     "output_type": "stream",
     "text": [
      "var =  710.14\n"
     ]
    }
   ],
   "source": [
    "# Test the variance function\n",
    "\n",
    "the_list = [12, 4, 78, 10, 3, 6]\n",
    "\n",
    "the_var = var(the_list)\n",
    "\n",
    "print(\"var = \", round(the_var, 2)) "
   ]
  },
  {
   "cell_type": "markdown",
   "metadata": {},
   "source": [
    "## 5 - Standard Deviation\n",
    "The Standard Deviation is just the square root of the Variance"
   ]
  },
  {
   "cell_type": "code",
   "execution_count": 22,
   "metadata": {},
   "outputs": [],
   "source": [
    "# Define the std function\n",
    "\n",
    "import math\n",
    "\n",
    "def std(a_list):\n",
    "    the_var = var(a_list)\n",
    "    return math.sqrt(the_var)\n",
    "    "
   ]
  },
  {
   "cell_type": "code",
   "execution_count": 27,
   "metadata": {},
   "outputs": [
    {
     "name": "stdout",
     "output_type": "stream",
     "text": [
      "std =  26.65\n"
     ]
    }
   ],
   "source": [
    "# Test the std function\n",
    "\n",
    "the_list = [12, 4, 78, 10, 3, 6]\n",
    "\n",
    "the_std = std(the_list)\n",
    "\n",
    "print(\"std = \", round(the_std,2)) "
   ]
  },
  {
   "cell_type": "code",
   "execution_count": null,
   "metadata": {},
   "outputs": [],
   "source": []
  }
 ],
 "metadata": {
  "kernelspec": {
   "display_name": "Python 3",
   "language": "python",
   "name": "python3"
  },
  "language_info": {
   "codemirror_mode": {
    "name": "ipython",
    "version": 3
   },
   "file_extension": ".py",
   "mimetype": "text/x-python",
   "name": "python",
   "nbconvert_exporter": "python",
   "pygments_lexer": "ipython3",
   "version": "3.7.4"
  }
 },
 "nbformat": 4,
 "nbformat_minor": 2
}
