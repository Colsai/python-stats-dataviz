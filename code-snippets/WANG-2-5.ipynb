{
 "cells": [
  {
   "cell_type": "markdown",
   "metadata": {},
   "source": [
    "## Assignment 2.5 - Answers\n",
    "\n",
    "1. Visit  https://www.practicepython.org/\n",
    "\n",
    "2. Work on exercise 1 through 6.\n",
    "\n",
    "3. Use only one Jupyter Notebook. \n",
    "\n",
    "4. In the notebook, use one cell for one exercise.\n",
    "\n",
    "5. Provide comments  with the code to explain your logic if necessary.\n",
    "\n",
    "### Notes:\n",
    "\n",
    "**Best Practice - Separate calculations from output display**\n",
    "\n",
    "Instead of displaying the numbers within the loop, use a List variable to capture the numbers and display the numbers outside of the loop. This not only makes it easier to debug but also makes it easier to read.\n",
    "\n"
   ]
  },
  {
   "cell_type": "markdown",
   "metadata": {},
   "source": [
    "### Answer for exercise #3"
   ]
  },
  {
   "cell_type": "markdown",
   "metadata": {},
   "source": [
    "### Solution one\n",
    "Use for loop."
   ]
  },
  {
   "cell_type": "code",
   "execution_count": 25,
   "metadata": {},
   "outputs": [
    {
     "name": "stdout",
     "output_type": "stream",
     "text": [
      "[1, 1, 2, 3]\n"
     ]
    }
   ],
   "source": [
    "a =  [1, 1, 2, 3, 5, 8, 13, 21, 34, 55, 89]\n",
    "\n",
    "b = []\n",
    "MAX = 5\n",
    "\n",
    "for x in a:\n",
    "    if x < MAX:\n",
    "        b.append(x)\n",
    "        \n",
    "print(b)\n",
    "    "
   ]
  },
  {
   "cell_type": "markdown",
   "metadata": {},
   "source": [
    "### Solution two \n",
    "Use list comprehension. This is very clean and parsimoneous. "
   ]
  },
  {
   "cell_type": "code",
   "execution_count": 3,
   "metadata": {},
   "outputs": [
    {
     "data": {
      "text/plain": [
       "[1, 1, 2, 3]"
      ]
     },
     "execution_count": 3,
     "metadata": {},
     "output_type": "execute_result"
    }
   ],
   "source": [
    "a = [1, 1, 2, 3, 5, 8, 13, 21, 34, 55, 89]\n",
    "\n",
    "b = [x for x in a if x < 5]\n",
    "\n",
    "b"
   ]
  },
  {
   "cell_type": "markdown",
   "metadata": {},
   "source": [
    "## Answer for exercise # 4"
   ]
  },
  {
   "cell_type": "markdown",
   "metadata": {},
   "source": [
    "### Solution One \n",
    "Use list comprehension"
   ]
  },
  {
   "cell_type": "code",
   "execution_count": 31,
   "metadata": {},
   "outputs": [
    {
     "name": "stdin",
     "output_type": "stream",
     "text": [
      "Enter an integer:  56\n"
     ]
    },
    {
     "name": "stdout",
     "output_type": "stream",
     "text": [
      "[1, 2, 4, 7, 8, 14, 28, 56]\n"
     ]
    }
   ],
   "source": [
    "x = int(input(\"Enter an integer: \"))\n",
    "\n",
    "y = [i for i in range(1, x + 1) if x % i == 0]\n",
    "\n",
    "print(y)"
   ]
  },
  {
   "cell_type": "markdown",
   "metadata": {},
   "source": [
    "### Solution Two\n",
    "Using for loop"
   ]
  },
  {
   "cell_type": "code",
   "execution_count": 32,
   "metadata": {},
   "outputs": [
    {
     "name": "stdin",
     "output_type": "stream",
     "text": [
      "Enter an integer:  56\n"
     ]
    },
    {
     "name": "stdout",
     "output_type": "stream",
     "text": [
      "[1, 2, 4, 7, 8, 14, 28, 56]\n"
     ]
    }
   ],
   "source": [
    "x = int(input(\"Enter an integer: \"))\n",
    "\n",
    "y = []\n",
    "\n",
    "for i in range(1, x + 1):\n",
    "    if x % i == 0:\n",
    "        y.append(i)\n",
    "        \n",
    "print(y)"
   ]
  },
  {
   "cell_type": "markdown",
   "metadata": {},
   "source": [
    "## Answer for exercise #5\n",
    "### Solution One\n",
    "Use list comprehension.\n",
    "\n",
    "Difference between a set and a list: \n",
    "\n",
    "**A set does not allow for duplicate members while a list does.**"
   ]
  },
  {
   "cell_type": "code",
   "execution_count": 27,
   "metadata": {},
   "outputs": [
    {
     "name": "stdout",
     "output_type": "stream",
     "text": [
      "[1, 2, 3, 5, 8, 13]\n"
     ]
    }
   ],
   "source": [
    "a = [1, 1, 2, 3, 5, 8, 13, 21, 34, 55, 89]\n",
    "b = [1, 2, 3, 4, 5, 6, 7, 8, 9, 10, 11, 12, 13]\n",
    "\n",
    "c = [x for x in set(a) if x in b]\n",
    "# c = [x for x in b if x in a]      This works too\n",
    "\n",
    "print(c)"
   ]
  },
  {
   "cell_type": "markdown",
   "metadata": {},
   "source": [
    "### Solution Two\n",
    "Use for loop."
   ]
  },
  {
   "cell_type": "code",
   "execution_count": 28,
   "metadata": {},
   "outputs": [
    {
     "name": "stdout",
     "output_type": "stream",
     "text": [
      "[1, 2, 3, 5, 8, 13]\n"
     ]
    }
   ],
   "source": [
    "c = []\n",
    "\n",
    "for x in set(a):\n",
    "    if x in b:\n",
    "        c.append(x)\n",
    "        \n",
    "print(c)"
   ]
  }
 ],
 "metadata": {
  "kernelspec": {
   "display_name": "Python 3",
   "language": "python",
   "name": "python3"
  },
  "language_info": {
   "codemirror_mode": {
    "name": "ipython",
    "version": 3
   },
   "file_extension": ".py",
   "mimetype": "text/x-python",
   "name": "python",
   "nbconvert_exporter": "python",
   "pygments_lexer": "ipython3",
   "version": "3.7.1"
  }
 },
 "nbformat": 4,
 "nbformat_minor": 2
}
