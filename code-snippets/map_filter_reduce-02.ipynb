{
  "nbformat": 4,
  "nbformat_minor": 0,
  "metadata": {
    "colab": {
      "name": "python-map-filter-reduce.ipynb",
      "provenance": [],
      "authorship_tag": "ABX9TyNkwJ5SeavLGms1dJmD5XAZ",
      "include_colab_link": true
    },
    "kernelspec": {
      "name": "python3",
      "display_name": "Python 3"
    }
  },
  "cells": [
    {
      "cell_type": "markdown",
      "metadata": {
        "id": "view-in-github",
        "colab_type": "text"
      },
      "source": [
        "<a href=\"https://colab.research.google.com/github/wcj365/python-stats-dataviz/blob/master/code-snippets/map_filter_reduce-02.ipynb\" target=\"_parent\"><img src=\"https://colab.research.google.com/assets/colab-badge.svg\" alt=\"Open In Colab\"/></a>"
      ]
    },
    {
      "cell_type": "markdown",
      "metadata": {
        "id": "lorZKZb8rUdB",
        "colab_type": "text"
      },
      "source": [
        "# Map, Filter, Reduce Function in Python\n",
        "These functions are conceptually related to the Hadoop MapReduce and PySpark transformations and actions.\n",
        "- Map is to transform a list to another list of same length\n",
        "- Filter is to generated a shorter list\n",
        "- Reduce is to reduce the list to a single number\n",
        "\n",
        "Here, we use a list of strings for illustration. In another Jupyter notebook, we will use a list of numbers for illustration."
      ]
    },
    {
      "cell_type": "code",
      "metadata": {
        "id": "2nxqmNz2sKLe",
        "colab_type": "code",
        "colab": {}
      },
      "source": [
        "x = ['Python', 'Programming', 'Is', 'Awesome!']"
      ],
      "execution_count": 0,
      "outputs": []
    },
    {
      "cell_type": "markdown",
      "metadata": {
        "id": "XUmsFE7nr1HK",
        "colab_type": "text"
      },
      "source": [
        "## 1. Map\n",
        "\n",
        "Change all words to upper cases."
      ]
    },
    {
      "cell_type": "code",
      "metadata": {
        "id": "uSAorJNlsUKh",
        "colab_type": "code",
        "outputId": "220b36cf-7da7-4c97-abeb-d3ca03f8a2f5",
        "colab": {
          "base_uri": "https://localhost:8080/",
          "height": 35
        }
      },
      "source": [
        "# Change the wrods to lower case\n",
        "\n",
        "ordered = map(lambda s: s.upper(), x)\n",
        "\n",
        "list(ordered)"
      ],
      "execution_count": 8,
      "outputs": [
        {
          "output_type": "execute_result",
          "data": {
            "text/plain": [
              "['PYTHON', 'PROGRAMMING', 'IS', 'AWESOME!']"
            ]
          },
          "metadata": {
            "tags": []
          },
          "execution_count": 8
        }
      ]
    },
    {
      "cell_type": "markdown",
      "metadata": {
        "id": "rPIsoGQVswkF",
        "colab_type": "text"
      },
      "source": [
        "## 2. Filter\n",
        "Filter out words that are longer than eight characters long."
      ]
    },
    {
      "cell_type": "code",
      "metadata": {
        "id": "-v716b2Jo2Da",
        "colab_type": "code",
        "colab": {
          "base_uri": "https://localhost:8080/",
          "height": 35
        },
        "outputId": "b1beb55e-6c96-4aa9-9168-9ca201069f24"
      },
      "source": [
        "filtered = filter(lambda s: len(s) <= 8, x)\n",
        "\n",
        "list(filtered)"
      ],
      "execution_count": 10,
      "outputs": [
        {
          "output_type": "execute_result",
          "data": {
            "text/plain": [
              "['Python', 'Is', 'Awesome!']"
            ]
          },
          "metadata": {
            "tags": []
          },
          "execution_count": 10
        }
      ]
    },
    {
      "cell_type": "markdown",
      "metadata": {
        "id": "R31ZORSdteAq",
        "colab_type": "text"
      },
      "source": [
        "## 3. Reduce\n",
        "Concatenate all word into a sentence."
      ]
    },
    {
      "cell_type": "code",
      "metadata": {
        "id": "xZ9i4hd9qiho",
        "colab_type": "code",
        "outputId": "95ad23b9-8277-471e-85e6-30341751324a",
        "colab": {
          "base_uri": "https://localhost:8080/",
          "height": 35
        }
      },
      "source": [
        "import functools\n",
        "\n",
        "sentence = functools.reduce(lambda s1, s2: s1 + \" \" + s2, x)\n",
        "\n",
        "sentence"
      ],
      "execution_count": 12,
      "outputs": [
        {
          "output_type": "execute_result",
          "data": {
            "text/plain": [
              "'Python Programming Is Awesome!'"
            ]
          },
          "metadata": {
            "tags": []
          },
          "execution_count": 12
        }
      ]
    }
  ]
}