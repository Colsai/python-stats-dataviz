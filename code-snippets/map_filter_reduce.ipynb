{
  "nbformat": 4,
  "nbformat_minor": 0,
  "metadata": {
    "colab": {
      "name": "python-map-filter-reduce.ipynb",
      "provenance": [],
      "authorship_tag": "ABX9TyNGCQ99kLJvvMr9gBsdKS+L",
      "include_colab_link": true
    },
    "kernelspec": {
      "name": "python3",
      "display_name": "Python 3"
    }
  },
  "cells": [
    {
      "cell_type": "markdown",
      "metadata": {
        "id": "view-in-github",
        "colab_type": "text"
      },
      "source": [
        "<a href=\"https://colab.research.google.com/github/wcj365/python-stats-dataviz/blob/master/code-snippets/map_filter_reduce.ipynb\" target=\"_parent\"><img src=\"https://colab.research.google.com/assets/colab-badge.svg\" alt=\"Open In Colab\"/></a>"
      ]
    },
    {
      "cell_type": "markdown",
      "metadata": {
        "id": "lorZKZb8rUdB",
        "colab_type": "text"
      },
      "source": [
        "# Map, Filter, Reduce Function in Python\n",
        "These functions are conceptually related to the Hadoop MapReduce and PySpark transformations and actions.\n",
        "- Map is to transform a list to another list of same length\n",
        "- Filter is to generated a shorter list\n",
        "- Reduce is to reduce the list to a single number\n",
        "\n",
        "Here, we use a list of numbers for illustration. In another Jupyter notebook, we will use a list of strings for illustration."
      ]
    },
    {
      "cell_type": "markdown",
      "metadata": {
        "id": "XUmsFE7nr1HK",
        "colab_type": "text"
      },
      "source": [
        "## 1. Map\n",
        "There are three different ways to square the numbers in a list:\n",
        "- for loop\n",
        "- list comprehension\n",
        "- map function"
      ]
    },
    {
      "cell_type": "code",
      "metadata": {
        "id": "2nxqmNz2sKLe",
        "colab_type": "code",
        "colab": {}
      },
      "source": [
        "items = [1,2,3,4,5,6]"
      ],
      "execution_count": 0,
      "outputs": []
    },
    {
      "cell_type": "code",
      "metadata": {
        "id": "JY34V5__O9Yp",
        "colab_type": "code",
        "outputId": "2cb46bdd-3048-43a0-ffc1-6159e02ec4c0",
        "colab": {
          "base_uri": "https://localhost:8080/",
          "height": 34
        }
      },
      "source": [
        "# method 1 - for loop\n",
        "\n",
        "squared = []\n",
        "for i in items:\n",
        "    squared.append(i**2)\n",
        "squared"
      ],
      "execution_count": 0,
      "outputs": [
        {
          "output_type": "execute_result",
          "data": {
            "text/plain": [
              "[1, 4, 9, 16, 25, 36]"
            ]
          },
          "metadata": {
            "tags": []
          },
          "execution_count": 1
        }
      ]
    },
    {
      "cell_type": "code",
      "metadata": {
        "id": "uSAorJNlsUKh",
        "colab_type": "code",
        "outputId": "06f96afe-999d-4d14-d12f-98194c04a9cb",
        "colab": {
          "base_uri": "https://localhost:8080/",
          "height": 34
        }
      },
      "source": [
        "# Method 2 - list comprehension\n",
        "\n",
        "squared = [x**2 for x in items]\n",
        "print(squared)"
      ],
      "execution_count": 0,
      "outputs": [
        {
          "output_type": "stream",
          "text": [
            "[1, 4, 9, 16, 25, 36]\n"
          ],
          "name": "stdout"
        }
      ]
    },
    {
      "cell_type": "markdown",
      "metadata": {
        "id": "QigiDryNO_1Z",
        "colab_type": "text"
      },
      "source": [
        ""
      ]
    },
    {
      "cell_type": "code",
      "metadata": {
        "id": "B3mMzIizO-_Z",
        "colab_type": "code",
        "outputId": "7106ca15-6933-4e6b-cf04-ebb99c15497f",
        "colab": {
          "base_uri": "https://localhost:8080/",
          "height": 51
        }
      },
      "source": [
        "# Method 3 - map\n",
        "\n",
        "# iterate the list and apply the functon to each member\n",
        "squared = map(lambda x: x**2, items)  \n",
        "\n",
        "print(type(squared2))   # type map\n",
        "\n",
        "print(list(squared2))   # conver the map to a list then print"
      ],
      "execution_count": 0,
      "outputs": [
        {
          "output_type": "stream",
          "text": [
            "<class 'map'>\n",
            "[1, 4, 9, 16, 25, 36]\n"
          ],
          "name": "stdout"
        }
      ]
    },
    {
      "cell_type": "markdown",
      "metadata": {
        "id": "rPIsoGQVswkF",
        "colab_type": "text"
      },
      "source": [
        "## 2. Filter\n",
        "There are also three different ways to filter a list. We show two of them here:\n",
        "- list comprehension \n",
        "- filter function"
      ]
    },
    {
      "cell_type": "code",
      "metadata": {
        "id": "p7fAvSnMpX2t",
        "colab_type": "code",
        "outputId": "4843a61f-2180-4977-bfaf-d5f3ab70d247",
        "colab": {
          "base_uri": "https://localhost:8080/",
          "height": 34
        }
      },
      "source": [
        "# Method 1 - list comprehension\n",
        "\n",
        "odd_numbers = [x for x in items if x % 2 != 0]\n",
        "\n",
        "odd_numbers"
      ],
      "execution_count": 0,
      "outputs": [
        {
          "output_type": "execute_result",
          "data": {
            "text/plain": [
              "[1, 3, 5]"
            ]
          },
          "metadata": {
            "tags": []
          },
          "execution_count": 6
        }
      ]
    },
    {
      "cell_type": "code",
      "metadata": {
        "id": "BfQ9PLIYpiyP",
        "colab_type": "code",
        "outputId": "b0d4711a-68d9-4eff-e48a-24edbe8c17ba",
        "colab": {
          "base_uri": "https://localhost:8080/",
          "height": 51
        }
      },
      "source": [
        "# Method 2 - filter function\n",
        "\n",
        "# Iterate the list and apply the filtering function to each member\n",
        "odd_numbers = filter(lambda x: x % 2 != 0, items)\n",
        "\n",
        "print(type(odd_numbers2))    # the output is of type filter\n",
        "\n",
        "print(list(odd_numbers2))    # convert the filter to a list then print"
      ],
      "execution_count": 0,
      "outputs": [
        {
          "output_type": "stream",
          "text": [
            "<class 'filter'>\n",
            "[1, 3, 5]\n"
          ],
          "name": "stdout"
        }
      ]
    },
    {
      "cell_type": "markdown",
      "metadata": {
        "id": "R31ZORSdteAq",
        "colab_type": "text"
      },
      "source": [
        "## 3. Reduce\n",
        "Reduce generates a summary statistics from a list. Literally, reduce means to reduce many data points to one number. We can use for loop. but reduce function is more compact. Note that the reduce function is from the Python functools module."
      ]
    },
    {
      "cell_type": "code",
      "metadata": {
        "id": "xZ9i4hd9qiho",
        "colab_type": "code",
        "outputId": "b6701423-3647-4cc7-eb4f-b3e673116569",
        "colab": {
          "base_uri": "https://localhost:8080/",
          "height": 51
        }
      },
      "source": [
        "import functools\n",
        "\n",
        "product = functools.reduce(lambda x, y: x * y, items)\n",
        "\n",
        "print(type(product))\n",
        "\n",
        "print(product)"
      ],
      "execution_count": 0,
      "outputs": [
        {
          "output_type": "stream",
          "text": [
            "<class 'int'>\n",
            "720\n"
          ],
          "name": "stdout"
        }
      ]
    }
  ]
}