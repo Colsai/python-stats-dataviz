{
  "nbformat": 4,
  "nbformat_minor": 0,
  "metadata": {
    "kernelspec": {
      "display_name": "Python 3",
      "language": "python",
      "name": "python3"
    },
    "language_info": {
      "codemirror_mode": {
        "name": "ipython",
        "version": 3
      },
      "file_extension": ".py",
      "mimetype": "text/x-python",
      "name": "python",
      "nbconvert_exporter": "python",
      "pygments_lexer": "ipython3",
      "version": "3.7.4"
    },
    "colab": {
      "name": "01 - Python-Basics.ipynb",
      "provenance": [],
      "include_colab_link": true
    }
  },
  "cells": [
    {
      "cell_type": "markdown",
      "metadata": {
        "id": "view-in-github",
        "colab_type": "text"
      },
      "source": [
        "<a href=\"https://colab.research.google.com/github/wcj365/python-stats-dataviz/blob/master/01%20-%20Python-Basics.ipynb\" target=\"_parent\"><img src=\"https://colab.research.google.com/assets/colab-badge.svg\" alt=\"Open In Colab\"/></a>"
      ]
    },
    {
      "cell_type": "markdown",
      "metadata": {
        "id": "GfYjLm17XI2M",
        "colab_type": "text"
      },
      "source": [
        "# 01 - Python Basics\n",
        "“Python is an interpreted, object-oriented, high-level programming language with dynamic semantics. Its high-level built in data structures, combined with dynamic typing and dynamic binding, make it very attractive for Rapid Application Development, as well as for use as a scripting or glue language to connect existing components together.” - python.org"
      ]
    },
    {
      "cell_type": "code",
      "metadata": {
        "id": "Q9Gfb0yzXLF0",
        "colab_type": "code",
        "colab": {
          "base_uri": "https://localhost:8080/",
          "height": 104
        },
        "outputId": "b47c441d-a55f-4595-bf4b-9adc1b09e216"
      },
      "source": [
        "# check versions (overkill, but why not?)\n",
        "import sys\n",
        "import pandas as pd\n",
        "import plotly as py\n",
        "import datetime as dt\n",
        "\n",
        "print('Python version:', sys.version)\n",
        "print('Pandas version: ', pd.__version__)\n",
        "print('Plotly version: ', py.__version__)\n",
        "print('Today: ', dt.date.today())"
      ],
      "execution_count": 5,
      "outputs": [
        {
          "output_type": "stream",
          "text": [
            "Python version: 3.6.9 (default, Apr 18 2020, 01:56:04) \n",
            "[GCC 8.4.0]\n",
            "Pandas version:  1.0.3\n",
            "Plotly version:  4.4.1\n",
            "Today:  2020-05-13\n"
          ],
          "name": "stdout"
        }
      ]
    },
    {
      "cell_type": "markdown",
      "metadata": {
        "id": "EhTPDYC0XI2N",
        "colab_type": "text"
      },
      "source": [
        "## 1. Basic Data Types\n",
        "- Integer\n",
        "- Float\n",
        "- String\n",
        "- Boolean\n",
        "- **Additional types:** Complex, Byte, Date/time, None\n",
        "- **To find out the type:** type()\n",
        "- **Assign a value to a variable:** variable = value\n",
        "- **Casting/Conversion of Types :** int(), float(), str(), bool()"
      ]
    },
    {
      "cell_type": "code",
      "metadata": {
        "id": "7HAr2F2AXI2O",
        "colab_type": "code",
        "colab": {},
        "outputId": "7c5f0af6-8b42-4d63-9bb6-68fffdfe04f9"
      },
      "source": [
        "# Write Python code here\n",
        "print(\"hello, world!\")   # this is a simple statementr\n",
        "print(10)\n",
        "print(10, 10.5)\n",
        "print(True, False)\n",
        "x = 10\n",
        "print(x)"
      ],
      "execution_count": 0,
      "outputs": [
        {
          "output_type": "stream",
          "text": [
            "hello, world!\n",
            "10\n",
            "10 10.5\n",
            "True False\n",
            "10\n"
          ],
          "name": "stdout"
        }
      ]
    },
    {
      "cell_type": "code",
      "metadata": {
        "id": "UfVisjRfXI2S",
        "colab_type": "code",
        "colab": {},
        "outputId": "42848c84-907e-4d89-aae6-f3735d4b3ba4"
      },
      "source": [
        "y = True\n",
        "print(y)\n",
        "y = False\n",
        "print(y)\n",
        "\n"
      ],
      "execution_count": 0,
      "outputs": [
        {
          "output_type": "stream",
          "text": [
            "True\n",
            "False\n"
          ],
          "name": "stdout"
        }
      ]
    },
    {
      "cell_type": "code",
      "metadata": {
        "id": "m5cdUkHYXI2V",
        "colab_type": "code",
        "colab": {},
        "outputId": "c87fc1bd-c48d-4727-8974-5e1455176686"
      },
      "source": [
        "print(x)"
      ],
      "execution_count": 0,
      "outputs": [
        {
          "output_type": "stream",
          "text": [
            "10\n"
          ],
          "name": "stdout"
        }
      ]
    },
    {
      "cell_type": "code",
      "metadata": {
        "id": "Y0yT9gUaXI2a",
        "colab_type": "code",
        "colab": {},
        "outputId": "8974c8a8-ee7c-4fe9-b403-d9522b1568b2"
      },
      "source": [
        "x"
      ],
      "execution_count": 0,
      "outputs": [
        {
          "output_type": "execute_result",
          "data": {
            "text/plain": [
              "10"
            ]
          },
          "metadata": {
            "tags": []
          },
          "execution_count": 4
        }
      ]
    },
    {
      "cell_type": "code",
      "metadata": {
        "id": "LAH2EC9xXI2d",
        "colab_type": "code",
        "colab": {},
        "outputId": "588cc499-248b-4e10-c462-fb4fe55f208c"
      },
      "source": [
        "print(type(x))"
      ],
      "execution_count": 0,
      "outputs": [
        {
          "output_type": "stream",
          "text": [
            "<class 'int'>\n"
          ],
          "name": "stdout"
        }
      ]
    },
    {
      "cell_type": "code",
      "metadata": {
        "id": "eP3q6GWGXI2g",
        "colab_type": "code",
        "colab": {},
        "outputId": "ec25c28f-fbfe-4531-b5a8-26c36256911c"
      },
      "source": [
        "type(x)"
      ],
      "execution_count": 0,
      "outputs": [
        {
          "output_type": "execute_result",
          "data": {
            "text/plain": [
              "int"
            ]
          },
          "metadata": {
            "tags": []
          },
          "execution_count": 6
        }
      ]
    },
    {
      "cell_type": "code",
      "metadata": {
        "id": "oFdTeW7xXI2i",
        "colab_type": "code",
        "colab": {},
        "outputId": "4ddc1729-618b-4b67-b387-0e114117f749"
      },
      "source": [
        "x = \"50.5\"\n",
        "print(x)\n",
        "type(x)"
      ],
      "execution_count": 0,
      "outputs": [
        {
          "output_type": "stream",
          "text": [
            "50.5\n"
          ],
          "name": "stdout"
        },
        {
          "output_type": "execute_result",
          "data": {
            "text/plain": [
              "str"
            ]
          },
          "metadata": {
            "tags": []
          },
          "execution_count": 7
        }
      ]
    },
    {
      "cell_type": "code",
      "metadata": {
        "id": "Blya4qQYXI2m",
        "colab_type": "code",
        "colab": {},
        "outputId": "fc3bf6c3-4c65-4e34-9170-fdc703a89c44"
      },
      "source": [
        "y = float(x)\n",
        "print(y)\n",
        "type(y)"
      ],
      "execution_count": 0,
      "outputs": [
        {
          "output_type": "stream",
          "text": [
            "50.5\n"
          ],
          "name": "stdout"
        },
        {
          "output_type": "execute_result",
          "data": {
            "text/plain": [
              "float"
            ]
          },
          "metadata": {
            "tags": []
          },
          "execution_count": 8
        }
      ]
    },
    {
      "cell_type": "code",
      "metadata": {
        "id": "Xky8oqyvXI2s",
        "colab_type": "code",
        "colab": {},
        "outputId": "c2c1248c-fd46-4187-90f7-8948a7d04bcd"
      },
      "source": [
        "while True: \n",
        "    try:\n",
        "        x = input(\"Please enter an integer:\")\n",
        "        y = int(x)\n",
        "        break\n",
        "    except:\n",
        "        print(\"Only integer is allowed\")\n",
        "        continue  \n",
        "    \n",
        "\n",
        "print(\"You have entered a number:\", y)"
      ],
      "execution_count": 0,
      "outputs": [
        {
          "output_type": "stream",
          "text": [
            "Please enter an integer: 5\n"
          ],
          "name": "stdin"
        },
        {
          "output_type": "stream",
          "text": [
            "You have entered a number: 5\n"
          ],
          "name": "stdout"
        }
      ]
    },
    {
      "cell_type": "markdown",
      "metadata": {
        "id": "z44w6PnDXI2x",
        "colab_type": "text"
      },
      "source": [
        "## 2. Numerical Operations\n",
        "- Addition: \n",
        "- Subtraction\n",
        "- Multiplcation\n",
        "- Division\n",
        "- Power: **x ** y or pow(x, y)**\n",
        "- Modular: **%**"
      ]
    },
    {
      "cell_type": "code",
      "metadata": {
        "id": "t8dUCNgLXI2x",
        "colab_type": "code",
        "colab": {}
      },
      "source": [
        "# Write Python code here"
      ],
      "execution_count": 0,
      "outputs": []
    },
    {
      "cell_type": "code",
      "metadata": {
        "id": "EA-E4ljnXI2z",
        "colab_type": "code",
        "colab": {},
        "outputId": "30dd0ed1-97f6-40f6-9061-718c7a7d2b21"
      },
      "source": [
        "x = 5\n",
        "y = 10\n",
        "print(pow(3,3))\n"
      ],
      "execution_count": 0,
      "outputs": [
        {
          "output_type": "stream",
          "text": [
            "27\n"
          ],
          "name": "stdout"
        }
      ]
    },
    {
      "cell_type": "code",
      "metadata": {
        "id": "eFdGe-MTXI22",
        "colab_type": "code",
        "colab": {},
        "outputId": "748eee2a-c7ca-4591-8059-d29e0ba92059"
      },
      "source": [
        "x = 8 % 3\n",
        "print(x)"
      ],
      "execution_count": 0,
      "outputs": [
        {
          "output_type": "stream",
          "text": [
            "2\n"
          ],
          "name": "stdout"
        }
      ]
    },
    {
      "cell_type": "markdown",
      "metadata": {
        "id": "LwiSjb_jXI27",
        "colab_type": "text"
      },
      "source": [
        "## 3. String Operations\n",
        "A string is a collection of characters (refer to Collection Data Types). \n",
        "\n",
        "Some useful string methods:\n",
        "- in\n",
        "- len\n",
        "- strip()\n",
        "- lower()\n",
        "- upper()\n",
        "- replace()\n",
        "- slicing - \\[start, stop, step] "
      ]
    },
    {
      "cell_type": "code",
      "metadata": {
        "id": "GI2S-mwXXI27",
        "colab_type": "code",
        "colab": {}
      },
      "source": [
        "# write code here"
      ],
      "execution_count": 0,
      "outputs": []
    },
    {
      "cell_type": "code",
      "metadata": {
        "id": "WRzbipuwXI2-",
        "colab_type": "code",
        "colab": {},
        "outputId": "e9c6bd0a-a645-4812-938a-d36749193c7d"
      },
      "source": [
        "x = \"hello world\"\n",
        "y = \"x\" in x\n",
        "y\n",
        "type(y)"
      ],
      "execution_count": 0,
      "outputs": [
        {
          "output_type": "execute_result",
          "data": {
            "text/plain": [
              "bool"
            ]
          },
          "metadata": {
            "tags": []
          },
          "execution_count": 27
        }
      ]
    },
    {
      "cell_type": "code",
      "metadata": {
        "id": "z3_Y45yxXI3A",
        "colab_type": "code",
        "colab": {},
        "outputId": "c4f2fed0-afa4-431a-a0fd-d973226d1c60"
      },
      "source": [
        "x = \"  Hello World!  \"\n",
        "print(len(x))"
      ],
      "execution_count": 0,
      "outputs": [
        {
          "output_type": "stream",
          "text": [
            "16\n"
          ],
          "name": "stdout"
        }
      ]
    },
    {
      "cell_type": "code",
      "metadata": {
        "id": "mHl_0SPIXI3C",
        "colab_type": "code",
        "colab": {},
        "outputId": "6bb9dcb8-28c1-4f0e-81db-fa9221ac71b1"
      },
      "source": [
        "print(len(x.strip()))"
      ],
      "execution_count": 0,
      "outputs": [
        {
          "output_type": "stream",
          "text": [
            "12\n"
          ],
          "name": "stdout"
        }
      ]
    },
    {
      "cell_type": "code",
      "metadata": {
        "id": "-sUXsCm_XI3E",
        "colab_type": "code",
        "colab": {},
        "outputId": "07da4243-0994-49e8-9c11-a75e4768dd0e"
      },
      "source": [
        "y = x.strip()\n",
        "z = len(y)\n",
        "print(z)"
      ],
      "execution_count": 0,
      "outputs": [
        {
          "output_type": "stream",
          "text": [
            "12\n"
          ],
          "name": "stdout"
        }
      ]
    },
    {
      "cell_type": "code",
      "metadata": {
        "id": "Ws4fdtxIXI3H",
        "colab_type": "code",
        "colab": {},
        "outputId": "6687f250-621a-4c9c-9cfe-4b9a4dfb72e5"
      },
      "source": [
        "txt = \"Enter a new notebook name:\"\n",
        "#      0123456789012345\n",
        "\n",
        "#x = txt.strip(\" ,.grt\")\n",
        "\n",
        "print(\"banana\" in txt)\n",
        "\n",
        "y = txt[10:15]\n",
        "y"
      ],
      "execution_count": 0,
      "outputs": [
        {
          "output_type": "stream",
          "text": [
            "False\n"
          ],
          "name": "stdout"
        },
        {
          "output_type": "execute_result",
          "data": {
            "text/plain": [
              "'w not'"
            ]
          },
          "metadata": {
            "tags": []
          },
          "execution_count": 31
        }
      ]
    },
    {
      "cell_type": "markdown",
      "metadata": {
        "id": "Qf45FTLUXI3K",
        "colab_type": "text"
      },
      "source": [
        "## 4. Logical Operations (Comparison)\n",
        "- \\>\n",
        "- \\>=\n",
        "- \\<\n",
        "- \\<=\n",
        "- \\== \n",
        "- \\!=\n",
        "- \\|\n",
        "- \\&\n"
      ]
    },
    {
      "cell_type": "code",
      "metadata": {
        "id": "VLLi1B-UXI3K",
        "colab_type": "code",
        "colab": {}
      },
      "source": [
        "# write code here"
      ],
      "execution_count": 0,
      "outputs": []
    },
    {
      "cell_type": "code",
      "metadata": {
        "id": "1iyip14-XI3N",
        "colab_type": "code",
        "colab": {},
        "outputId": "2328b2d9-caef-45fe-e35b-0df3b62ee4a9"
      },
      "source": [
        "(100 < 9) & (10 > 9)"
      ],
      "execution_count": 0,
      "outputs": [
        {
          "output_type": "execute_result",
          "data": {
            "text/plain": [
              "False"
            ]
          },
          "metadata": {
            "tags": []
          },
          "execution_count": 33
        }
      ]
    },
    {
      "cell_type": "code",
      "metadata": {
        "id": "SH6zdEpxXI3P",
        "colab_type": "code",
        "colab": {}
      },
      "source": [
        ""
      ],
      "execution_count": 0,
      "outputs": []
    },
    {
      "cell_type": "markdown",
      "metadata": {
        "id": "bOaFw5QEXI3R",
        "colab_type": "text"
      },
      "source": [
        "## 5. Control flow\n",
        "- Conditional: **if/elif/else**\n",
        "- Loop: **for (iterate through a collection)**\n",
        "- Loop: **while (a condition is true)**\n",
        "- Nested loop\n",
        "- Leaving the loop: **break, continue**\n",
        "- infinite loop: **while True**\n",
        "- Exception handling: **try/except**"
      ]
    },
    {
      "cell_type": "code",
      "metadata": {
        "id": "lO7y7UZHXI3R",
        "colab_type": "code",
        "colab": {},
        "outputId": "b9707b74-91b1-45d0-a33c-08bbcd6e841a"
      },
      "source": [
        "x = 20\n",
        "y = 20\n",
        "if x > y:\n",
        "    print(\"x is larger than y\")\n",
        "elif x == y:\n",
        "    print(\"x is the same as y\")\n",
        "else:\n",
        "    print(\"x is less than y\")"
      ],
      "execution_count": 0,
      "outputs": [
        {
          "output_type": "stream",
          "text": [
            "x is the same as y\n"
          ],
          "name": "stdout"
        }
      ]
    },
    {
      "cell_type": "code",
      "metadata": {
        "id": "N-KJbt-zXI3T",
        "colab_type": "code",
        "colab": {},
        "outputId": "725a3f00-8d6d-4211-f828-0b37b7d5f044"
      },
      "source": [
        "# Write Python code here\n",
        "y = \"hello world\"\n",
        "print(list(y))"
      ],
      "execution_count": 0,
      "outputs": [
        {
          "output_type": "stream",
          "text": [
            "['h', 'e', 'l', 'l', 'o', ' ', 'w', 'o', 'r', 'l', 'd']\n"
          ],
          "name": "stdout"
        }
      ]
    },
    {
      "cell_type": "code",
      "metadata": {
        "id": "6iF3ZCs3XI3V",
        "colab_type": "code",
        "colab": {},
        "outputId": "f4385ae3-9537-4cac-c724-591410acb790"
      },
      "source": [
        "for sequence in range(5):\n",
        "    print(y[sequence])"
      ],
      "execution_count": 0,
      "outputs": [
        {
          "output_type": "stream",
          "text": [
            "h\n",
            "e\n",
            "l\n",
            "l\n",
            "o\n"
          ],
          "name": "stdout"
        }
      ]
    },
    {
      "cell_type": "code",
      "metadata": {
        "id": "KDkzWOhAXI3Y",
        "colab_type": "code",
        "colab": {},
        "outputId": "2ef7951f-dfed-4838-8696-f38768d67ed4"
      },
      "source": [
        "x = \"hello world\" \n",
        "for a_member in x:\n",
        "    print(a_member.upper())"
      ],
      "execution_count": 0,
      "outputs": [
        {
          "output_type": "stream",
          "text": [
            "H\n",
            "E\n",
            "L\n",
            "L\n",
            "O\n",
            " \n",
            "W\n",
            "O\n",
            "R\n",
            "L\n",
            "D\n"
          ],
          "name": "stdout"
        }
      ]
    },
    {
      "cell_type": "markdown",
      "metadata": {
        "id": "3rWp51xaXI3a",
        "colab_type": "text"
      },
      "source": [
        "## 6. Input/Output\n",
        "- Accept user input: **input()**\n",
        "- Output to the standard output device: **print()**\n",
        "- Special statement: **with open(<file path/name>) as**\n",
        "- Open a file: **open()**\n",
        "- Close a file: **close()**\n",
        "- write to a file: **write()**\n"
      ]
    },
    {
      "cell_type": "code",
      "metadata": {
        "id": "4e8VOudAXI3b",
        "colab_type": "code",
        "colab": {}
      },
      "source": [
        "# write code here"
      ],
      "execution_count": 0,
      "outputs": []
    },
    {
      "cell_type": "code",
      "metadata": {
        "id": "LdpljIikXI3d",
        "colab_type": "code",
        "colab": {},
        "outputId": "519d2d65-6e01-41b4-d44b-fffe81797e5d"
      },
      "source": [
        "# write code here\n",
        "with open(\"test.txt\",\"r\") as f:\n",
        "    for line in f:\n",
        "        print(line, end=\"\")"
      ],
      "execution_count": 0,
      "outputs": [
        {
          "output_type": "stream",
          "text": [
            "This is a test\n",
            "please ignore\n",
            "I have nothing to say"
          ],
          "name": "stdout"
        }
      ]
    },
    {
      "cell_type": "code",
      "metadata": {
        "id": "IW39CaklXI3f",
        "colab_type": "code",
        "colab": {}
      },
      "source": [
        "with open(\"write.txt\", \"w\") as f:\n",
        "    f.write(\"don't worry\\n\")\n",
        "    f.write(\"Take care\")\n",
        "    f.close()"
      ],
      "execution_count": 0,
      "outputs": []
    },
    {
      "cell_type": "markdown",
      "metadata": {
        "id": "wlv8HvEjXI3i",
        "colab_type": "text"
      },
      "source": [
        "## 7. Functions \n",
        "- Regular functions\n",
        "- Lambda Functions \n",
        "- Inputs (parameters, arguments) \n",
        "- Outputs (returns)"
      ]
    },
    {
      "cell_type": "code",
      "metadata": {
        "id": "0PA5V4GJXI3i",
        "colab_type": "code",
        "colab": {},
        "outputId": "95b61409-a0cc-48d7-f7ee-6dac9517714b"
      },
      "source": [
        "# Write code here\n",
        "def square(x):\n",
        "    return x**2\n",
        "a = 10\n",
        "b = square(10)\n",
        "b"
      ],
      "execution_count": 0,
      "outputs": [
        {
          "output_type": "execute_result",
          "data": {
            "text/plain": [
              "100"
            ]
          },
          "metadata": {
            "tags": []
          },
          "execution_count": 43
        }
      ]
    },
    {
      "cell_type": "code",
      "metadata": {
        "id": "ykXzeQNQXI3k",
        "colab_type": "code",
        "colab": {},
        "outputId": "63162e2f-ba59-41be-ddc6-9b4790279dd7"
      },
      "source": [
        "square = lambda x: x**2    # very compact\n",
        "a = 10\n",
        "b = square(a)\n",
        "b"
      ],
      "execution_count": 0,
      "outputs": [
        {
          "output_type": "execute_result",
          "data": {
            "text/plain": [
              "100"
            ]
          },
          "metadata": {
            "tags": []
          },
          "execution_count": 44
        }
      ]
    },
    {
      "cell_type": "code",
      "metadata": {
        "id": "lutZdWVrXI3m",
        "colab_type": "code",
        "colab": {},
        "outputId": "dda60b44-94c4-4523-ab3c-73d191b6e6c2"
      },
      "source": [
        "addition = lambda x, y: x + y  \n",
        "x, y = 10, 40\n",
        "z = addition(x, y)\n",
        "z"
      ],
      "execution_count": 0,
      "outputs": [
        {
          "output_type": "execute_result",
          "data": {
            "text/plain": [
              "50"
            ]
          },
          "metadata": {
            "tags": []
          },
          "execution_count": 45
        }
      ]
    },
    {
      "cell_type": "markdown",
      "metadata": {
        "id": "b9ori36EXI3o",
        "colab_type": "text"
      },
      "source": [
        "## 8. Some Useful Build-in Functions\n",
        "- abs()\n",
        "- round()\n",
        "- min()\n",
        "- max()\n",
        "- len()"
      ]
    },
    {
      "cell_type": "code",
      "metadata": {
        "id": "_hPMfkxdXI3p",
        "colab_type": "code",
        "colab": {}
      },
      "source": [
        ""
      ],
      "execution_count": 0,
      "outputs": []
    },
    {
      "cell_type": "code",
      "metadata": {
        "id": "vk_3aP1tXI3s",
        "colab_type": "code",
        "colab": {}
      },
      "source": [
        "# write code here"
      ],
      "execution_count": 0,
      "outputs": []
    },
    {
      "cell_type": "markdown",
      "metadata": {
        "id": "5AZRb1i3XI3u",
        "colab_type": "text"
      },
      "source": [
        "## 9. Modules and Classes\n",
        "\n",
        "- math \n",
        "- random \n",
        "- os\n",
        "- pathlib\n",
        "\n",
        "import [*module*]\n",
        "\n",
        "from [*module*] import [*class*]\n",
        "\n",
        "- import math\n",
        "- from math import sqrt\n",
        "- import random\n",
        "- from random import randint"
      ]
    },
    {
      "cell_type": "code",
      "metadata": {
        "id": "V84qDzHeXI3u",
        "colab_type": "code",
        "colab": {}
      },
      "source": [
        "# write code here\n",
        "x = input(\"Enter your name:\")\n",
        "\n",
        "y = input(\"Enter your age\")\n",
        "\n",
        "age = int(y)\n",
        "z = 2019 - age + 100\n",
        "print(\"Hey,\", x, \"you will be 100 years old in \", z)"
      ],
      "execution_count": 0,
      "outputs": []
    },
    {
      "cell_type": "code",
      "metadata": {
        "id": "rpZxG-XHXI3w",
        "colab_type": "code",
        "colab": {}
      },
      "source": [
        "for i in range(4):\n",
        "    x = input(\"enter a number:\")"
      ],
      "execution_count": 0,
      "outputs": []
    },
    {
      "cell_type": "code",
      "metadata": {
        "id": "vBYaPTBfXI3z",
        "colab_type": "code",
        "colab": {}
      },
      "source": [
        "count = 0\n",
        "total = 0\n",
        "while count < 4:\n",
        "    x = input(\"enter a number:\")\n",
        "    total = total + int(x)\n",
        "    count = count + 1\n",
        "print(total)   "
      ],
      "execution_count": 0,
      "outputs": []
    }
  ]
}