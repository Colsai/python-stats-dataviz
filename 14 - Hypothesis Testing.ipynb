{
  "nbformat": 4,
  "nbformat_minor": 0,
  "metadata": {
    "kernelspec": {
      "display_name": "Python 3",
      "language": "python",
      "name": "python3"
    },
    "language_info": {
      "codemirror_mode": {
        "name": "ipython",
        "version": 3
      },
      "file_extension": ".py",
      "mimetype": "text/x-python",
      "name": "python",
      "nbconvert_exporter": "python",
      "pygments_lexer": "ipython3",
      "version": "3.7.4"
    },
    "colab": {
      "name": "14 - Hypothesis Testing.ipynb",
      "provenance": [],
      "include_colab_link": true
    }
  },
  "cells": [
    {
      "cell_type": "markdown",
      "metadata": {
        "id": "view-in-github",
        "colab_type": "text"
      },
      "source": [
        "<a href=\"https://colab.research.google.com/github/wcj365/python-stats-dataviz/blob/master/14%20-%20Hypothesis%20Testing.ipynb\" target=\"_parent\"><img src=\"https://colab.research.google.com/assets/colab-badge.svg\" alt=\"Open In Colab\"/></a>"
      ]
    },
    {
      "cell_type": "markdown",
      "metadata": {
        "id": "Oa4c8ATJFdW7",
        "colab_type": "text"
      },
      "source": [
        "## 14 - Hypothesis Testing\n",
        "\n",
        "**Null Hypothesis:** Status Quo\n",
        "\n",
        "**Alternative Hypothesis:** Challenging the status quo\n",
        "\n",
        "### One-Sample t-Test\n",
        "A one-sample t-test checks whether a sample mean differs from the population mean.\n",
        "\n",
        "### Two-Sample t-Test\n",
        "A two-sample t-test investigates whether the means of two independent data samples differ from one another. In a two-sample test, the null hypothesis is that the means of both groups are the same."
      ]
    },
    {
      "cell_type": "code",
      "metadata": {
        "id": "lRMLVL2SFdW-",
        "colab_type": "code",
        "colab": {}
      },
      "source": [
        "import math\n",
        "import scipy.stats as stats\n",
        "import numpy as np"
      ],
      "execution_count": 0,
      "outputs": []
    },
    {
      "cell_type": "code",
      "metadata": {
        "id": "yMZDCdtfFdXL",
        "colab_type": "code",
        "colab": {
          "base_uri": "https://localhost:8080/",
          "height": 589
        },
        "outputId": "5edd2d63-e0b2-45d8-fb49-8301cdb735ec"
      },
      "source": [
        "# Generate three random samples from normal distribution.\n",
        "# rvs stands for \"random variable sample\"\n",
        "# The inputs are (population mean, population standard deviation, sample size)\n",
        "\n",
        "x1 = stats.norm.rvs(10000, 1000, 50)\n",
        "x2 = stats.norm.rvs(1000, 100, 50)\n",
        "x3 = stats.norm.rvs(1000, 100, 50)\n",
        "print(x1)\n",
        "print(x2)\n",
        "print(x3)"
      ],
      "execution_count": 4,
      "outputs": [
        {
          "output_type": "stream",
          "text": [
            "[ 8892.5419476   8880.60349125  9933.10573274 10242.89280698\n",
            "  9574.59963647 11015.68662426  8950.26910536  9413.52037614\n",
            " 12541.30257325 10661.58207338  9553.46211005 11284.92265966\n",
            " 11743.0319755   9419.50158648 10030.15547029  9818.04859664\n",
            " 11592.99178839  9455.80743369 10179.71242169 10218.50850933\n",
            " 10286.88527807  9332.46414959  9706.62376894  9931.82821025\n",
            "  9647.10685708  9309.39086588 11833.39667801  9263.58485309\n",
            "  9963.95743231  8313.95468574 10648.71401652 11657.39889729\n",
            "  8812.86561169 11034.13958046 10819.9416706   9690.65376058\n",
            " 11226.39721014  9701.93912815 10218.03763115 10274.46650508\n",
            "  9675.27639018 10903.44502777  8885.91754944  8630.67176298\n",
            " 11045.12386603  9646.8375689  11191.09897377  9307.25396189\n",
            "  9430.14182421 11157.77127195]\n",
            "[1141.07716085  944.9305697  1144.55513145  919.33297258 1039.44303219\n",
            " 1051.3659284   931.36924514 1228.12682316 1089.99564413 1063.90645926\n",
            " 1064.07019839  970.53764936 1042.32028801  896.72407958 1114.91436234\n",
            " 1037.68463018 1057.9806607   845.8502075  1229.70239513  942.29728821\n",
            "  912.58442101  765.55365885 1127.1502201   995.47647339  891.13722366\n",
            " 1105.31306886  911.39927762 1136.85361918 1093.71046813  992.09402797\n",
            " 1164.07046779  933.82999453 1209.95391509  871.30854119 1036.91324147\n",
            "  981.05380882 1063.23007745 1092.70402257 1003.04668065  938.73933119\n",
            "  934.42734995 1125.46199204  764.16790635  945.64166953 1078.11343649\n",
            "  780.68108603  842.55740395  950.37847585  901.05711216  965.45063943]\n",
            "[ 919.48746171  986.65517671  971.48313348 1124.74335461  871.60983215\n",
            " 1099.8528966  1045.18596679  675.41540594 1047.18280688  984.98217636\n",
            " 1172.15804705  965.23172681  980.8150003   935.40731518 1136.48475006\n",
            "  963.37139104 1015.5578858   776.9242125   956.64421294 1055.22851701\n",
            "  923.56501333  906.55386701 1102.5102166  1106.79391819  948.72481064\n",
            "  795.95133144  963.00710452  992.23665228 1070.14624917  923.77212864\n",
            "  803.98746784 1123.5699196   801.61909094  872.16447828 1020.53225463\n",
            "  823.07957457 1221.14395174 1001.98744199  934.90937209 1104.61178187\n",
            " 1046.48578059  891.17663563 1167.32684607  929.73143849  984.92924509\n",
            " 1056.01502401  964.72834386  949.53345584  818.50509969  855.56231634]\n"
          ],
          "name": "stdout"
        }
      ]
    },
    {
      "cell_type": "code",
      "metadata": {
        "id": "jBUetD5zFdXW",
        "colab_type": "code",
        "colab": {
          "base_uri": "https://localhost:8080/",
          "height": 69
        },
        "outputId": "ff9d1f04-cb31-42ba-c62b-f82c7892d94b"
      },
      "source": [
        "print(round(x1.mean(),2))\n",
        "print(round(x2.mean(),2))\n",
        "print(round(x3.mean(),2))"
      ],
      "execution_count": 5,
      "outputs": [
        {
          "output_type": "stream",
          "text": [
            "10098.99\n",
            "1005.4\n",
            "975.79\n"
          ],
          "name": "stdout"
        }
      ]
    },
    {
      "cell_type": "markdown",
      "metadata": {
        "id": "mD3OT-MNFdXd",
        "colab_type": "text"
      },
      "source": [
        "### One Sample t-Test\n",
        "\n",
        "H0: the mean of population that x1 sampled from is 0\n",
        "\n",
        "Ha: the mean of population that x1 sampled from is not 0\n"
      ]
    },
    {
      "cell_type": "code",
      "metadata": {
        "id": "V8tPHMoQFdXe",
        "colab_type": "code",
        "colab": {
          "base_uri": "https://localhost:8080/",
          "height": 35
        },
        "outputId": "092ee919-f423-4444-f80a-bb82dbd82849"
      },
      "source": [
        "stats.ttest_1samp(x1, 0)"
      ],
      "execution_count": 8,
      "outputs": [
        {
          "output_type": "execute_result",
          "data": {
            "text/plain": [
              "Ttest_1sampResult(statistic=74.76855251618234, pvalue=3.64053014577373e-52)"
            ]
          },
          "metadata": {
            "tags": []
          },
          "execution_count": 8
        }
      ]
    },
    {
      "cell_type": "markdown",
      "metadata": {
        "id": "4WiqpIbZFdXl",
        "colab_type": "text"
      },
      "source": [
        "p-value is the probability of having the sameple under the hull hypothesis.\n",
        "If the population mean is 0 (null hypothesis), then the chance for the sample to have a mean of 10098.99 is very very slim - almost impossible."
      ]
    },
    {
      "cell_type": "markdown",
      "metadata": {
        "id": "uwT_PbNzHzQp",
        "colab_type": "text"
      },
      "source": [
        "H0: the mean of population that x1 sampled from is 9500\n",
        "\n",
        "Ha: the mean of population that x1 sampled from is not 9500"
      ]
    },
    {
      "cell_type": "code",
      "metadata": {
        "id": "KGDLn7QdHllN",
        "colab_type": "code",
        "colab": {
          "base_uri": "https://localhost:8080/",
          "height": 35
        },
        "outputId": "fdb87a9b-ba0b-4817-f285-8ab77c556c19"
      },
      "source": [
        "stats.ttest_1samp(x1, 9500)"
      ],
      "execution_count": 10,
      "outputs": [
        {
          "output_type": "execute_result",
          "data": {
            "text/plain": [
              "Ttest_1sampResult(statistic=4.434667244386324, pvalue=5.2066525356193545e-05)"
            ]
          },
          "metadata": {
            "tags": []
          },
          "execution_count": 10
        }
      ]
    },
    {
      "cell_type": "markdown",
      "metadata": {
        "id": "vYTPPfMuICSw",
        "colab_type": "text"
      },
      "source": [
        "p-value is the probability of having the sameple under the hull hypothesis. If the population mean is 9500 (null hypothesis), then the chance for the sample to have a mean of 10098.99 is very slim."
      ]
    },
    {
      "cell_type": "code",
      "metadata": {
        "id": "ZiOFqdgJIBYj",
        "colab_type": "code",
        "colab": {}
      },
      "source": [
        ""
      ],
      "execution_count": 0,
      "outputs": []
    },
    {
      "cell_type": "markdown",
      "metadata": {
        "id": "U7K0BHJSFdXm",
        "colab_type": "text"
      },
      "source": [
        "### Two Sample Test - x1 vs x2\n",
        "\n",
        "H0: The populations that X1 and X2 were sampled from have the same mean\n",
        "Ha: The populations that X1 and X2 were sampled from have different means"
      ]
    },
    {
      "cell_type": "code",
      "metadata": {
        "id": "1_tAewhhFdXn",
        "colab_type": "code",
        "colab": {},
        "outputId": "c6e0eae7-75cd-42ea-8c43-ded190aff378"
      },
      "source": [
        "stats.ttest_ind(x1,x2)"
      ],
      "execution_count": 0,
      "outputs": [
        {
          "output_type": "execute_result",
          "data": {
            "text/plain": [
              "Ttest_indResult(statistic=75.2982688917182, pvalue=1.5464486135779753e-88)"
            ]
          },
          "metadata": {
            "tags": []
          },
          "execution_count": 97
        }
      ]
    },
    {
      "cell_type": "markdown",
      "metadata": {
        "id": "RYXUGMhhFdXr",
        "colab_type": "text"
      },
      "source": [
        "Very small tiny p-value, so reject the null hypothesis and accept the alternative hypothesis."
      ]
    },
    {
      "cell_type": "markdown",
      "metadata": {
        "id": "OnmnctInFdXs",
        "colab_type": "text"
      },
      "source": [
        "### Two Sample Test - x2 vs x3\n",
        "\n",
        "H0: The populations that X2 and X3 were sampled from have the same mean\n",
        "Ha: The populations that X2 and X3 were sampled from have different means"
      ]
    },
    {
      "cell_type": "code",
      "metadata": {
        "id": "Dms6WRlQFdXt",
        "colab_type": "code",
        "colab": {},
        "outputId": "ae7b9a8e-7316-4bbf-a259-0a0450fb5400"
      },
      "source": [
        "stats.ttest_ind(x2, x3)"
      ],
      "execution_count": 0,
      "outputs": [
        {
          "output_type": "execute_result",
          "data": {
            "text/plain": [
              "Ttest_indResult(statistic=0.44192131789576433, pvalue=0.6595198044117564)"
            ]
          },
          "metadata": {
            "tags": []
          },
          "execution_count": 98
        }
      ]
    },
    {
      "cell_type": "markdown",
      "metadata": {
        "id": "oHmrR_SaFdXx",
        "colab_type": "text"
      },
      "source": [
        "Very large p-value, so unable to reject the null hypothesis."
      ]
    },
    {
      "cell_type": "markdown",
      "metadata": {
        "id": "eOYq73gpFdXy",
        "colab_type": "text"
      },
      "source": [
        "### Two Sample Test - x4 vs x5 \n",
        "\n",
        "Let's make the population means different (1000 vs 1005)\n",
        "\n",
        "H0: The populations that X4 and X5 were sampled from have the same mean\n",
        "Ha: The populations that X4 and X5 were sampled from have different means"
      ]
    },
    {
      "cell_type": "code",
      "metadata": {
        "id": "XwqyXgTmFdXz",
        "colab_type": "code",
        "colab": {},
        "outputId": "75ea9253-c4cb-4189-e690-c76e29454f76"
      },
      "source": [
        "x4 = stats.norm.rvs(1000, 100, 50)\n",
        "x5 = stats.norm.rvs(1005, 100, 50)\n",
        "stats.ttest_ind(x4,x5)"
      ],
      "execution_count": 0,
      "outputs": [
        {
          "output_type": "execute_result",
          "data": {
            "text/plain": [
              "Ttest_indResult(statistic=-0.6165788219522748, pvalue=0.5389422757221363)"
            ]
          },
          "metadata": {
            "tags": []
          },
          "execution_count": 99
        }
      ]
    },
    {
      "cell_type": "markdown",
      "metadata": {
        "id": "F8l4lsL6FdX2",
        "colab_type": "text"
      },
      "source": [
        "Still relatively large p-value, so unable to reject the null hypothesis. \n",
        "Even though the population means are different but the difference is not statistically significant."
      ]
    },
    {
      "cell_type": "markdown",
      "metadata": {
        "id": "yGLtsuoIFdX3",
        "colab_type": "text"
      },
      "source": [
        "### Two Sample Test - x4 vs x5 \n",
        "\n",
        "Let's make the population means more different (1000 vs 1025)\n",
        "\n",
        "H0: The populations that X4 and X5 were sampled from have the same mean\n",
        "Ha: The populations that X4 and X5 were sampled from have different means"
      ]
    },
    {
      "cell_type": "code",
      "metadata": {
        "id": "zgBe09SoFdX3",
        "colab_type": "code",
        "colab": {},
        "outputId": "7cf9823f-f35c-468c-fc4a-7093a28ee8cc"
      },
      "source": [
        "x4 = stats.norm.rvs(1000, 100, 50)\n",
        "x5 = stats.norm.rvs(1020, 100, 50)\n",
        "stats.ttest_ind(x4,x5)"
      ],
      "execution_count": 0,
      "outputs": [
        {
          "output_type": "execute_result",
          "data": {
            "text/plain": [
              "Ttest_indResult(statistic=-0.49293490714470384, pvalue=0.6231612843320816)"
            ]
          },
          "metadata": {
            "tags": []
          },
          "execution_count": 103
        }
      ]
    },
    {
      "cell_type": "markdown",
      "metadata": {
        "id": "nX5k9y7MFdX8",
        "colab_type": "text"
      },
      "source": [
        "The p-value is smaller but still greater than 0.05 that standard used in research. We will not reject the null hypothesis. We conclude the populations are not significantly different."
      ]
    },
    {
      "cell_type": "markdown",
      "metadata": {
        "id": "Tj2D2tLuFdX9",
        "colab_type": "text"
      },
      "source": [
        "### Two Sample Test - x4 vs x5 \n",
        "\n",
        "Let's make the population means larger different (1000 vs 1050) - 5% difference\n",
        "\n",
        "H0: The populations that X4 and X5 were sampled from have the same mean\n",
        "Ha: The populations that X4 and X5 were sampled from have different means"
      ]
    },
    {
      "cell_type": "code",
      "metadata": {
        "id": "ZEWy5azZFdX9",
        "colab_type": "code",
        "colab": {},
        "outputId": "2056400a-35f0-4f9a-e8b4-9274bdd49005"
      },
      "source": [
        "x4 = stats.norm.rvs(1000, 100, 50)\n",
        "x5 = stats.norm.rvs(1050, 100, 50)\n",
        "stats.ttest_ind(x4,x5)"
      ],
      "execution_count": 0,
      "outputs": [
        {
          "output_type": "execute_result",
          "data": {
            "text/plain": [
              "Ttest_indResult(statistic=-2.8765854978573033, pvalue=0.004933252916142617)"
            ]
          },
          "metadata": {
            "tags": []
          },
          "execution_count": 108
        }
      ]
    },
    {
      "cell_type": "markdown",
      "metadata": {
        "id": "sIw3ACs8FdYB",
        "colab_type": "text"
      },
      "source": [
        "Now, we have a p-value that is less than standard 0.05.\n",
        "We can reject the null hypothesis and state that the means of the two populations are the same."
      ]
    },
    {
      "cell_type": "markdown",
      "metadata": {
        "id": "s4vcuA6zFdYB",
        "colab_type": "text"
      },
      "source": [
        "### The End"
      ]
    }
  ]
}