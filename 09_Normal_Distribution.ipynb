{
  "nbformat": 4,
  "nbformat_minor": 0,
  "metadata": {
    "kernelspec": {
      "display_name": "Python 3",
      "language": "python",
      "name": "python3"
    },
    "language_info": {
      "codemirror_mode": {
        "name": "ipython",
        "version": 3
      },
      "file_extension": ".py",
      "mimetype": "text/x-python",
      "name": "python",
      "nbconvert_exporter": "python",
      "pygments_lexer": "ipython3",
      "version": "3.7.4"
    },
    "colab": {
      "name": "09 - Normal Distribution.ipynb",
      "provenance": [],
      "include_colab_link": true
    }
  },
  "cells": [
    {
      "cell_type": "markdown",
      "metadata": {
        "id": "view-in-github",
        "colab_type": "text"
      },
      "source": [
        "<a href=\"https://colab.research.google.com/github/wcj365/python-stats-dataviz/blob/master/09_Normal_Distribution.ipynb\" target=\"_parent\"><img src=\"https://colab.research.google.com/assets/colab-badge.svg\" alt=\"Open In Colab\"/></a>"
      ]
    },
    {
      "cell_type": "markdown",
      "metadata": {
        "id": "_OwpDQQuyBSG",
        "colab_type": "text"
      },
      "source": [
        "### 09 - The Normal Distribution\n",
        "References: \n",
        "- http://hamelg.blogspot.com/2015/11/python-for-data-analysis-part-22.html\n",
        "- https://online.stat.psu.edu/stat414/node/97/\n",
        "\n",
        "A continuous random variable takes on an uncountably infinite number of possible values. For a discrete random variable X that takes on a finite or countably infinite number of possible values, we determined P(X = x) for all of the possible values of X, and called it the probability mass function (\"p.m.f.\"). \n",
        "\n",
        "For continuous random variables, as we shall soon see, the probability that X takes on any particular value x is 0. That is, finding P(X = x) for a continuous random variable X is not going to work. Instead, we'll need to find the probability that X falls in some interval (a, b), that is, we'll need to find P(a < X < b). We'll do that using a probability density function (\"p.d.f.\").\n",
        "\n",
        "The normal or Gaussian distribution is a continuous probability distribution characterized by a symmetric bell-shaped curve. A normal distribution is defined by its center (mean) and spread (standard deviation.). The bulk of the observations generated from a normal distribution lie near the mean, which lies at the exact center of the distribution: as a rule of thumb, about 68% of the data lies within 1 standard deviation of the mean, 95% lies within 2 standard deviations and 99.7% lies within 3 standard deviations.\n",
        "The normal distribution is perhaps the most important distribution in all of statistics. It turns out that many real world phenomena, like IQ test scores and human heights, roughly follow a normal distribution, so it is often used to model random variables. Many common statistical tests assume distributions are normal.\n",
        "\n",
        "#### Properties of normal distribution\n",
        "- Mean = Median = Mode\n",
        "- Curve is symmetric about the center, i.e 50% of the values are less than the mean(𝜇) and 50% of values are greater than the mean(𝜇)\n",
        "- The total area under the curve is 1. This curve is called probability density functoin (PDF)\n",
        "- 68% of values are within 1 standard deviation of the mean, 𝜇±𝜎\n",
        "- 95% of values are within 2 standard deviations of the mean, 𝜇±2𝜎\n",
        "- 99.7% of values are within 3 standard deviations of the mean, 𝜇±3𝜎 (This is where the famous 6 sigma came from)"
      ]
    },
    {
      "cell_type": "code",
      "metadata": {
        "id": "7i6j7hPfyBSH",
        "colab_type": "code",
        "colab": {}
      },
      "source": [
        "import numpy as np\n",
        "from scipy import stats\n",
        "import matplotlib.pyplot as plt\n",
        "import seaborn as sns\n",
        "\n",
        "plt.rcParams[\"figure.figsize\"] = (12,8)"
      ],
      "execution_count": 0,
      "outputs": []
    },
    {
      "cell_type": "markdown",
      "metadata": {
        "id": "d2q4WKXJyBSN",
        "colab_type": "text"
      },
      "source": [
        "## Probability Density Functoin (PDF) of a Normal Distribution\n",
        "\n",
        "Inputs:\n",
        "- x = list of values (x-axis)\n",
        "- mu = the mean\n",
        "- sigma = the standard variance\n",
        "\n",
        "Outputs:\n",
        "- list of probabilities (y-axis)\n",
        "\n",
        "![Normal Distribution Density Function](images/Normal-Distribution.jpg)"
      ]
    },
    {
      "cell_type": "code",
      "metadata": {
        "id": "rEyzNS8TyBSO",
        "colab_type": "code",
        "colab": {}
      },
      "source": [
        "# Write a function to implement the PDF of a normal distribution.\n",
        "\n",
        "def norm_pdf(x, mu,sigma):\n",
        "    return np.exp(-((x - mu)**2) / (2* sigma**2)) / (sigma * np.sqrt(2*np.pi)) \n"
      ],
      "execution_count": 0,
      "outputs": []
    },
    {
      "cell_type": "code",
      "metadata": {
        "id": "CAnFunkLyBSR",
        "colab_type": "code",
        "colab": {
          "base_uri": "https://localhost:8080/",
          "height": 34
        },
        "outputId": "24f428a9-1896-44e3-8913-3851819813d8"
      },
      "source": [
        "# Call this function to generate a data point\n",
        "x = 0\n",
        "y = norm_pdf(x, 0, 1)\n",
        "round(y,3)"
      ],
      "execution_count": 50,
      "outputs": [
        {
          "output_type": "execute_result",
          "data": {
            "text/plain": [
              "0.399"
            ]
          },
          "metadata": {
            "tags": []
          },
          "execution_count": 50
        }
      ]
    },
    {
      "cell_type": "markdown",
      "metadata": {
        "id": "LO8ynLtsyBSX",
        "colab_type": "text"
      },
      "source": [
        "#### The Standard Normal Distribution\n",
        "It’s a normal distribution with 𝜇 = 0 and 𝜎 = 1, commonly represented by 𝑁(0,1)\n",
        "We can convert any normal distribution to standard normal distribution i.e 𝑁(0,1) by taking the data points (say 𝑥) and transform it to z=(𝑥-𝜇)/𝜎\n",
        "This process is called standardizing & the value of z is called a z-score"
      ]
    },
    {
      "cell_type": "code",
      "metadata": {
        "id": "O7rchRA9yBSY",
        "colab_type": "code",
        "colab": {
          "base_uri": "https://localhost:8080/",
          "height": 34
        },
        "outputId": "dfbf21eb-9f96-47db-ebb2-03e28b8e9cbe"
      },
      "source": [
        "# Generate sample data of standard normal distribution\n",
        "\n",
        "mu = 0\n",
        "sigma = 1\n",
        "\n",
        "# generate a sequence of numbers starting at -5, increment by 0.1 until it reaches 5\n",
        "x = np.arange(-5, 5, 0.1)  \n",
        "\n",
        "# calculate the y according to the normal probability density function\n",
        "y = norm_pdf(x, mu, sigma)  \n",
        "\n",
        "len(x)        # find out how many data points we have generated"
      ],
      "execution_count": 51,
      "outputs": [
        {
          "output_type": "execute_result",
          "data": {
            "text/plain": [
              "100"
            ]
          },
          "metadata": {
            "tags": []
          },
          "execution_count": 51
        }
      ]
    },
    {
      "cell_type": "code",
      "metadata": {
        "id": "VvrV0eJ1-E4J",
        "colab_type": "code",
        "colab": {
          "base_uri": "https://localhost:8080/",
          "height": 500
        },
        "outputId": "051d8eec-2fea-4feb-a2d3-2029dea8dd4f"
      },
      "source": [
        "# Use Mtplotlib line plot\n",
        "\n",
        "plt.figure(figsize=(12,8))\n",
        "plt.plot(x,y, lw=3)"
      ],
      "execution_count": 52,
      "outputs": [
        {
          "output_type": "execute_result",
          "data": {
            "text/plain": [
              "[<matplotlib.lines.Line2D at 0x7f4f2414efd0>]"
            ]
          },
          "metadata": {
            "tags": []
          },
          "execution_count": 52
        },
        {
          "output_type": "display_data",
          "data": {
            "image/png": "[encoded data removed]",
            "text/plain": [
              "<Figure size 864x576 with 1 Axes>"
            ]
          },
          "metadata": {
            "tags": [],
            "needs_background": "light"
          }
        }
      ]
    },
    {
      "cell_type": "code",
      "metadata": {
        "id": "03Rd6goG8Pz0",
        "colab_type": "code",
        "colab": {
          "base_uri": "https://localhost:8080/",
          "height": 554
        },
        "outputId": "2929dc3b-01a5-4a4c-9743-ccedc30a9e93"
      },
      "source": [
        "# Use Seaborn lineplot\n",
        "\n",
        "sns.lineplot(x,y)"
      ],
      "execution_count": 53,
      "outputs": [
        {
          "output_type": "execute_result",
          "data": {
            "text/plain": [
              "<matplotlib.axes._subplots.AxesSubplot at 0x7f4f24190518>"
            ]
          },
          "metadata": {
            "tags": []
          },
          "execution_count": 53
        },
        {
          "output_type": "display_data",
          "data": {
            "image/png": "[encoded data removed]",
            "text/plain": [
              "<Figure size 864x648 with 1 Axes>"
            ]
          },
          "metadata": {
            "tags": [],
            "needs_background": "light"
          }
        }
      ]
    },
    {
      "cell_type": "code",
      "metadata": {
        "id": "Iz-TLHeEyBSc",
        "colab_type": "code",
        "colab": {
          "base_uri": "https://localhost:8080/",
          "height": 959
        },
        "outputId": "a68abc65-6d76-4dae-8aa4-49a2bd39882c"
      },
      "source": [
        "# Use Numpy's random number generator of a normal distribution\n",
        "# Generate 100 data points and plot the histogram\n",
        "\n",
        "np.random.seed(10)\n",
        "sample_data = np.random.normal(0,1,100)     # 100 data points\n",
        "plt.figure(figsize=(12,8))\n",
        "plt.hist(sample_data, bins=100, alpha=0.7)"
      ],
      "execution_count": 54,
      "outputs": [
        {
          "output_type": "execute_result",
          "data": {
            "text/plain": [
              "(array([1., 0., 1., 2., 0., 1., 0., 0., 1., 0., 0., 0., 1., 1., 0., 1., 0.,\n",
              "        0., 0., 0., 0., 1., 1., 1., 0., 2., 0., 0., 2., 1., 2., 1., 0., 0.,\n",
              "        3., 4., 0., 0., 4., 1., 2., 4., 1., 3., 2., 3., 2., 0., 3., 2., 2.,\n",
              "        3., 3., 3., 1., 2., 2., 0., 1., 3., 1., 3., 0., 0., 2., 0., 2., 1.,\n",
              "        1., 1., 3., 0., 1., 1., 1., 1., 1., 0., 1., 0., 0., 0., 1., 0., 1.,\n",
              "        0., 0., 0., 0., 1., 0., 0., 0., 0., 0., 0., 0., 0., 2., 1.]),\n",
              " array([-2.13171211, -2.08571848, -2.03972485, -1.99373121, -1.94773758,\n",
              "        -1.90174395, -1.85575032, -1.80975669, -1.76376306, -1.71776942,\n",
              "        -1.67177579, -1.62578216, -1.57978853, -1.5337949 , -1.48780127,\n",
              "        -1.44180763, -1.395814  , -1.34982037, -1.30382674, -1.25783311,\n",
              "        -1.21183948, -1.16584584, -1.11985221, -1.07385858, -1.02786495,\n",
              "        -0.98187132, -0.93587769, -0.88988405, -0.84389042, -0.79789679,\n",
              "        -0.75190316, -0.70590953, -0.6599159 , -0.61392226, -0.56792863,\n",
              "        -0.521935  , -0.47594137, -0.42994774, -0.38395411, -0.33796047,\n",
              "        -0.29196684, -0.24597321, -0.19997958, -0.15398595, -0.10799232,\n",
              "        -0.06199868, -0.01600505,  0.02998858,  0.07598221,  0.12197584,\n",
              "         0.16796947,  0.21396311,  0.25995674,  0.30595037,  0.351944  ,\n",
              "         0.39793763,  0.44393126,  0.4899249 ,  0.53591853,  0.58191216,\n",
              "         0.62790579,  0.67389942,  0.71989305,  0.76588669,  0.81188032,\n",
              "         0.85787395,  0.90386758,  0.94986121,  0.99585484,  1.04184848,\n",
              "         1.08784211,  1.13383574,  1.17982937,  1.225823  ,  1.27181663,\n",
              "         1.31781027,  1.3638039 ,  1.40979753,  1.45579116,  1.50178479,\n",
              "         1.54777842,  1.59377206,  1.63976569,  1.68575932,  1.73175295,\n",
              "         1.77774658,  1.82374021,  1.86973384,  1.91572748,  1.96172111,\n",
              "         2.00771474,  2.05370837,  2.099702  ,  2.14569563,  2.19168927,\n",
              "         2.2376829 ,  2.28367653,  2.32967016,  2.37566379,  2.42165742,\n",
              "         2.46765106]),\n",
              " <a list of 100 Patch objects>)"
            ]
          },
          "metadata": {
            "tags": []
          },
          "execution_count": 54
        },
        {
          "output_type": "display_data",
          "data": {
            "image/png": "[encoded data removed]",
            "text/plain": [
              "<Figure size 864x576 with 1 Axes>"
            ]
          },
          "metadata": {
            "tags": [],
            "needs_background": "light"
          }
        }
      ]
    },
    {
      "cell_type": "code",
      "metadata": {
        "id": "BOt66XujyBSh",
        "colab_type": "code",
        "colab": {
          "base_uri": "https://localhost:8080/",
          "height": 1000
        },
        "outputId": "4e6c9e76-c92f-412f-d3fc-1b1a193ee17f"
      },
      "source": [
        "# Use Numpy's random number generator of a normal distribution\n",
        "# Generate 10,000 data points and plot the histogram\n",
        "\n",
        "np.random.seed(10)\n",
        "sample_data = np.random.normal(0,1,10000)    # 10,000 data points\n",
        "plt.figure(figsize=(12,8))\n",
        "plt.hist(sample_data, bins=100, alpha=0.7)\n"
      ],
      "execution_count": 56,
      "outputs": [
        {
          "output_type": "execute_result",
          "data": {
            "text/plain": [
              "(array([  1.,   0.,   0.,   2.,   2.,   2.,   1.,   0.,   5.,   2.,   6.,\n",
              "         11.,  10.,   6.,   2.,  15.,  19.,  21.,  25.,  24.,  34.,  28.,\n",
              "         40.,  60.,  55.,  67.,  73.,  61.,  76.,  89., 115., 128., 132.,\n",
              "        146., 168., 164., 190., 167., 197., 219., 235., 246., 264., 288.,\n",
              "        250., 283., 270., 280., 315., 302., 276., 299., 304., 261., 283.,\n",
              "        264., 290., 246., 243., 213., 244., 172., 198., 188., 173., 157.,\n",
              "        137., 122., 110., 105.,  72.,  83.,  59.,  55.,  53.,  33.,  48.,\n",
              "         33.,  30.,  31.,  21.,  20.,  26.,   9.,   6.,   8.,   5.,   4.,\n",
              "          6.,   2.,   4.,   1.,   3.,   1.,   1.,   0.,   1.,   1.,   2.,\n",
              "          1.]),\n",
              " array([-3.6216388 , -3.54850751, -3.47537623, -3.40224495, -3.32911367,\n",
              "        -3.25598239, -3.18285111, -3.10971983, -3.03658855, -2.96345726,\n",
              "        -2.89032598, -2.8171947 , -2.74406342, -2.67093214, -2.59780086,\n",
              "        -2.52466958, -2.4515383 , -2.37840701, -2.30527573, -2.23214445,\n",
              "        -2.15901317, -2.08588189, -2.01275061, -1.93961933, -1.86648805,\n",
              "        -1.79335676, -1.72022548, -1.6470942 , -1.57396292, -1.50083164,\n",
              "        -1.42770036, -1.35456908, -1.2814378 , -1.20830651, -1.13517523,\n",
              "        -1.06204395, -0.98891267, -0.91578139, -0.84265011, -0.76951883,\n",
              "        -0.69638755, -0.62325626, -0.55012498, -0.4769937 , -0.40386242,\n",
              "        -0.33073114, -0.25759986, -0.18446858, -0.1113373 , -0.03820601,\n",
              "         0.03492527,  0.10805655,  0.18118783,  0.25431911,  0.32745039,\n",
              "         0.40058167,  0.47371295,  0.54684424,  0.61997552,  0.6931068 ,\n",
              "         0.76623808,  0.83936936,  0.91250064,  0.98563192,  1.0587632 ,\n",
              "         1.13189449,  1.20502577,  1.27815705,  1.35128833,  1.42441961,\n",
              "         1.49755089,  1.57068217,  1.64381345,  1.71694474,  1.79007602,\n",
              "         1.8632073 ,  1.93633858,  2.00946986,  2.08260114,  2.15573242,\n",
              "         2.22886371,  2.30199499,  2.37512627,  2.44825755,  2.52138883,\n",
              "         2.59452011,  2.66765139,  2.74078267,  2.81391396,  2.88704524,\n",
              "         2.96017652,  3.0333078 ,  3.10643908,  3.17957036,  3.25270164,\n",
              "         3.32583292,  3.39896421,  3.47209549,  3.54522677,  3.61835805,\n",
              "         3.69148933]),\n",
              " <a list of 100 Patch objects>)"
            ]
          },
          "metadata": {
            "tags": []
          },
          "execution_count": 56
        },
        {
          "output_type": "display_data",
          "data": {
            "image/png": "[encoded data removed]",
            "text/plain": [
              "<Figure size 864x576 with 1 Axes>"
            ]
          },
          "metadata": {
            "tags": [],
            "needs_background": "light"
          }
        }
      ]
    },
    {
      "cell_type": "markdown",
      "metadata": {
        "id": "FwB2LoXzyBSm",
        "colab_type": "text"
      },
      "source": [
        "### The scipy.stats library \n",
        "\n",
        "It provides handy facilities for normal distribution so that we don't need to use the raw probability function as seen in the previoius cell:\n",
        "- Our own function\n",
        "- Numpy's random number generator\n",
        "\n",
        "The scipy nickname for the normal distribution is norm. \n",
        "\n",
        "This graph shows the relationship between PDF and CDF.\n",
        "\n",
        "- pdf ( probability density function)\n",
        "\n",
        "This basically is a probability law for a continuous random variable ( for discrete, it is probability mass function).\n",
        "\n",
        "The probability law defines the chances of the random variable taking a particular value say x, i.e. P (X=x). However this definition is not valid for continuous random variables because the probability at a given point is zero since there are infinite number of possible values.\n",
        "\n",
        "An alternate to this is: pdf= P (x-e<X<=x)/e as e tends to zero.\n",
        "\n",
        "- CDF ( Cumulative Distribution Function)\n",
        "\n",
        "As the name cumulative suggests, this is simply the probability up to a particular value of the random variable, say x. Generally denoted by F, F= P (X<=x) for any value of x in the X space. It is defined for both discrete and continuous random variables.\n",
        "\n",
        "![Cumulative Density Function](images/CDF.png)\n",
        "\n",
        "**Probability Density Function (PDF) of a normal distribution - stats.norm.pdf()**"
      ]
    },
    {
      "cell_type": "code",
      "metadata": {
        "id": "bchpxd98yBSn",
        "colab_type": "code",
        "colab": {
          "base_uri": "https://localhost:8080/",
          "height": 34
        },
        "outputId": "ae339b4a-1b80-454c-f664-6824fe49e7f0"
      },
      "source": [
        "# Use the PDF \n",
        "\n",
        "prob_under_minus1 = stats.norm.cdf(x= -1,  \n",
        "                                loc = 0,               \n",
        "                                scale= 1)     \n",
        "\n",
        "prob_under_1 = stats.norm.cdf(x= 1,  \n",
        "               loc = 0,               \n",
        "               scale= 1) \n",
        "\n",
        "prob_over_1 = 1 - prob_under_1\n",
        "\n",
        "between_prob = 1-(prob_under_minus1+prob_over_1)\n",
        "\n",
        "print(prob_under_minus1, prob_under_1, prob_over_1, between_prob)"
      ],
      "execution_count": 57,
      "outputs": [
        {
          "output_type": "stream",
          "text": [
            "0.15865525393145707 0.8413447460685429 0.15865525393145707 0.6826894921370859\n"
          ],
          "name": "stdout"
        }
      ]
    },
    {
      "cell_type": "markdown",
      "metadata": {
        "id": "nD779PRPyBSs",
        "colab_type": "text"
      },
      "source": [
        "The output shows that roughly 16% of the data generated by a normal distribution with mean 0 and standard deviation 1 is below -1, 16% is above 1 and 68% lies between -1 and 1, which agrees with the 68, 95, 99.7 rule. Let's plot the normal distribution and inspect areas we calculated:"
      ]
    },
    {
      "cell_type": "code",
      "metadata": {
        "id": "HLdzUsvzyBSt",
        "colab_type": "code",
        "colab": {
          "base_uri": "https://localhost:8080/",
          "height": 500
        },
        "outputId": "92c82dc9-18c8-459e-ba5a-33bf89cabc0b"
      },
      "source": [
        "# Plot normal distribution areas\n",
        "\n",
        "\n",
        "                                  \n",
        "plt.fill_between(x=np.arange(-4,-1,0.01), \n",
        "                 y1= stats.norm.pdf(np.arange(-4,-1,0.01)) ,\n",
        "                 facecolor='red',\n",
        "                 alpha=0.35)\n",
        "\n",
        "plt.fill_between(x=np.arange(1,4,0.01), \n",
        "                 y1= stats.norm.pdf(np.arange(1,4,0.01)) ,\n",
        "                 facecolor='red',\n",
        "                 alpha=0.35)\n",
        "\n",
        "plt.fill_between(x=np.arange(-1,1,0.01), \n",
        "                 y1= stats.norm.pdf(np.arange(-1,1,0.01)) ,\n",
        "                 facecolor='blue',\n",
        "                 alpha=0.35)\n",
        "\n",
        "plt.text(x=-1.8, y=0.03, s= round(prob_under_minus1,3))\n",
        "plt.text(x=-0.2, y=0.1, s= round(between_prob,3))\n",
        "plt.text(x=1.4, y=0.03, s= round(prob_over_1,3))"
      ],
      "execution_count": 59,
      "outputs": [
        {
          "output_type": "execute_result",
          "data": {
            "text/plain": [
              "Text(1.4, 0.03, '0.159')"
            ]
          },
          "metadata": {
            "tags": []
          },
          "execution_count": 59
        },
        {
          "output_type": "display_data",
          "data": {
            "image/png": "[encoded data removed]",
            "text/plain": [
              "<Figure size 864x576 with 1 Axes>"
            ]
          },
          "metadata": {
            "tags": [],
            "needs_background": "light"
          }
        }
      ]
    },
    {
      "cell_type": "markdown",
      "metadata": {
        "id": "hsKDx60ayBSy",
        "colab_type": "text"
      },
      "source": [
        "The plot above shows the bell shape of the normal distribution, the area below and above one standard deviation and the area within 1 standard deviation of the mean.\n",
        "Finding quantiles of the normal distribution is a common task when performing statistical tests. You can check normal distribution quantiles with stats.norm.ppf(). ppd = Percent Point Function. "
      ]
    },
    {
      "cell_type": "code",
      "metadata": {
        "id": "wBoEJkDgyBSy",
        "colab_type": "code",
        "colab": {},
        "outputId": "191e2347-9507-408c-ff16-826152ff17a3"
      },
      "source": [
        "# Find the quantile for the 2.5% cutoff Percentage point function PPF\n",
        "print( stats.norm.ppf(q=0.025) ) \n",
        "\n",
        "# Find the quantile for the 97.5% cutoff\n",
        "print( stats.norm.ppf(q=0.975) ) "
      ],
      "execution_count": 0,
      "outputs": [
        {
          "output_type": "stream",
          "text": [
            "-1.9599639845400545\n",
            "1.959963984540054\n"
          ],
          "name": "stdout"
        }
      ]
    },
    {
      "cell_type": "markdown",
      "metadata": {
        "id": "9if49kNOyBS5",
        "colab_type": "text"
      },
      "source": [
        "The quantile output above confirms that roughly 5% of the data lies more than 2 standard deviations from the mean.\n",
        "\n",
        "*Note: The standard normal distribution has a mean of 0 and standard deviation of 1."
      ]
    },
    {
      "cell_type": "markdown",
      "metadata": {
        "id": "iL3LdPfdyBS7",
        "colab_type": "text"
      },
      "source": [
        "#### Cumulative Distribution Function (CDC) of a normal distribution using stats.norm.cdf()"
      ]
    },
    {
      "cell_type": "code",
      "metadata": {
        "id": "C1aBwf3VyBS8",
        "colab_type": "code",
        "colab": {},
        "outputId": "19baa85d-f793-4bda-87e5-6884ac58c18c"
      },
      "source": [
        "# Cumulative Distribution Function (CDF)\n",
        "# The location (loc) keyword specifies the mean. \n",
        "# The scale (scale) keyword specifies the standard deviation.\n",
        "\n",
        "stats.norm.cdf(1.96, loc=0, scale=1)"
      ],
      "execution_count": 0,
      "outputs": [
        {
          "output_type": "execute_result",
          "data": {
            "text/plain": [
              "0.9750021048517795"
            ]
          },
          "metadata": {
            "tags": []
          },
          "execution_count": 5
        }
      ]
    },
    {
      "cell_type": "code",
      "metadata": {
        "id": "cGI68xtwyBTB",
        "colab_type": "code",
        "colab": {},
        "outputId": "ad0972d9-9774-45f4-f796-bb5f7e2962b8"
      },
      "source": [
        "# The default loc is 0, scale is 1\n",
        "stats.norm.cdf(-1.96)"
      ],
      "execution_count": 0,
      "outputs": [
        {
          "output_type": "execute_result",
          "data": {
            "text/plain": [
              "0.024997895148220435"
            ]
          },
          "metadata": {
            "tags": []
          },
          "execution_count": 7
        }
      ]
    }
  ]
}