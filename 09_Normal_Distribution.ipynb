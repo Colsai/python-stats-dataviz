{
  "nbformat": 4,
  "nbformat_minor": 0,
  "metadata": {
    "kernelspec": {
      "display_name": "Python 3",
      "language": "python",
      "name": "python3"
    },
    "language_info": {
      "codemirror_mode": {
        "name": "ipython",
        "version": 3
      },
      "file_extension": ".py",
      "mimetype": "text/x-python",
      "name": "python",
      "nbconvert_exporter": "python",
      "pygments_lexer": "ipython3",
      "version": "3.7.4"
    },
    "colab": {
      "name": "09 - Normal Distribution.ipynb",
      "provenance": [],
      "include_colab_link": true
    }
  },
  "cells": [
    {
      "cell_type": "markdown",
      "metadata": {
        "id": "view-in-github",
        "colab_type": "text"
      },
      "source": [
        "<a href=\"https://colab.research.google.com/github/wcj365/python-stats-dataviz/blob/master/09_Normal_Distribution.ipynb\" target=\"_parent\"><img src=\"https://colab.research.google.com/assets/colab-badge.svg\" alt=\"Open In Colab\"/></a>"
      ]
    },
    {
      "cell_type": "markdown",
      "metadata": {
        "id": "_OwpDQQuyBSG",
        "colab_type": "text"
      },
      "source": [
        "### 09 - The Normal Distribution\n",
        "References: \n",
        "- http://hamelg.blogspot.com/2015/11/python-for-data-analysis-part-22.html\n",
        "- https://online.stat.psu.edu/stat414/node/97/\n",
        "\n",
        "A continuous random variable takes on an uncountably infinite number of possible values. For a discrete random variable X that takes on a finite or countably infinite number of possible values, we determined P(X = x) for all of the possible values of X, and called it the probability mass function (\"p.m.f.\"). \n",
        "\n",
        "For continuous random variables, as we shall soon see, the probability that X takes on any particular value x is 0. That is, finding P(X = x) for a continuous random variable X is not going to work. Instead, we'll need to find the probability that X falls in some interval (a, b), that is, we'll need to find P(a < X < b). We'll do that using a probability density function (\"p.d.f.\").\n",
        "\n",
        "The normal or Gaussian distribution is a continuous probability distribution characterized by a symmetric bell-shaped curve. A normal distribution is defined by its center (mean) and spread (standard deviation.). The bulk of the observations generated from a normal distribution lie near the mean, which lies at the exact center of the distribution: as a rule of thumb, about 68% of the data lies within 1 standard deviation of the mean, 95% lies within 2 standard deviations and 99.7% lies within 3 standard deviations.\n",
        "The normal distribution is perhaps the most important distribution in all of statistics. It turns out that many real world phenomena, like IQ test scores and human heights, roughly follow a normal distribution, so it is often used to model random variables. Many common statistical tests assume distributions are normal.\n",
        "\n",
        "#### Properties of normal distribution\n",
        "- Mean = Median = Mode\n",
        "- Curve is symmetric about the center, i.e 50% of the values are less than the mean(𝜇) and 50% of values are greater than the mean(𝜇)\n",
        "- The total area under the curve is 1. This curve is called probability density functoin (PDF)\n",
        "- 68% of values are within 1 standard deviation of the mean, 𝜇±𝜎\n",
        "- 95% of values are within 2 standard deviations of the mean, 𝜇±2𝜎\n",
        "- 99.7% of values are within 3 standard deviations of the mean, 𝜇±3𝜎 (This is where the famous 6 sigma came from)"
      ]
    },
    {
      "cell_type": "code",
      "metadata": {
        "id": "7i6j7hPfyBSH",
        "colab_type": "code",
        "colab": {}
      },
      "source": [
        "import numpy as np\n",
        "from scipy import stats\n",
        "import matplotlib.pyplot as plt\n",
        "import seaborn as sns\n",
        "\n",
        "plt.rcParams[\"figure.figsize\"] = (12,8)  # global setting"
      ],
      "execution_count": 0,
      "outputs": []
    },
    {
      "cell_type": "markdown",
      "metadata": {
        "id": "d2q4WKXJyBSN",
        "colab_type": "text"
      },
      "source": [
        "## Probability Density Functoin (PDF) of a Normal Distribution\n",
        "\n",
        "Inputs:\n",
        "- x = list of values (x-axis)\n",
        "- mu = the mean\n",
        "- sigma = the standard variance\n",
        "\n",
        "Outputs:\n",
        "- list of probabilities (y-axis)\n",
        "\n",
        "![Normal Distribution Density Function](https://github.com/wcj365/python-stats-dataviz/blob/master/images/Normal-Distribution.jpg?raw=1)"
      ]
    },
    {
      "cell_type": "code",
      "metadata": {
        "id": "rEyzNS8TyBSO",
        "colab_type": "code",
        "colab": {}
      },
      "source": [
        "# Write a function to implement the PDF of a normal distribution.\n",
        "\n",
        "def norm_pdf(x, mu,sigma):\n",
        "    return np.exp(-((x - mu)**2) / (2* sigma**2)) / (sigma * np.sqrt(2*np.pi)) \n"
      ],
      "execution_count": 0,
      "outputs": []
    },
    {
      "cell_type": "code",
      "metadata": {
        "id": "CAnFunkLyBSR",
        "colab_type": "code",
        "outputId": "45de8ad4-065d-4873-976c-28c9c7da8bf8",
        "colab": {
          "base_uri": "https://localhost:8080/",
          "height": 34
        }
      },
      "source": [
        "# Call this function to generate a data point\n",
        "x = 0\n",
        "y = norm_pdf(x, 0, 1)\n",
        "round(y,3)"
      ],
      "execution_count": 11,
      "outputs": [
        {
          "output_type": "execute_result",
          "data": {
            "text/plain": [
              "0.399"
            ]
          },
          "metadata": {
            "tags": []
          },
          "execution_count": 11
        }
      ]
    },
    {
      "cell_type": "markdown",
      "metadata": {
        "id": "LO8ynLtsyBSX",
        "colab_type": "text"
      },
      "source": [
        "#### The Standard Normal Distribution\n",
        "It’s a normal distribution with 𝜇 = 0 and 𝜎 = 1, commonly represented by 𝑁(0,1)\n",
        "We can convert any normal distribution to standard normal distribution i.e 𝑁(0,1) by taking the data points (say 𝑥) and transform it to z=(𝑥-𝜇)/𝜎\n",
        "This process is called standardizing & the value of z is called a z-score"
      ]
    },
    {
      "cell_type": "code",
      "metadata": {
        "id": "O7rchRA9yBSY",
        "colab_type": "code",
        "outputId": "31397982-040d-49cf-c797-aed4e59ec969",
        "colab": {
          "base_uri": "https://localhost:8080/",
          "height": 34
        }
      },
      "source": [
        "# Generate sample data of standard normal distribution\n",
        "\n",
        "mu = 0\n",
        "sigma = 1\n",
        "\n",
        "# generate a sequence of numbers starting at -5, increment by 0.1 until it reaches 5\n",
        "x = np.arange(-5, 5, 0.1)  \n",
        "\n",
        "# calculate the y according to the normal probability density function\n",
        "y = norm_pdf(x, mu, sigma)  \n",
        "\n",
        "len(x)        # find out how many data points we have generated"
      ],
      "execution_count": 12,
      "outputs": [
        {
          "output_type": "execute_result",
          "data": {
            "text/plain": [
              "100"
            ]
          },
          "metadata": {
            "tags": []
          },
          "execution_count": 12
        }
      ]
    },
    {
      "cell_type": "code",
      "metadata": {
        "id": "0bAtVH5L5dX8",
        "colab_type": "code",
        "outputId": "d426f43c-afca-41a1-815b-0c450a5e9bfc",
        "colab": {
          "base_uri": "https://localhost:8080/",
          "height": 500
        }
      },
      "source": [
        "# Use Mtplotlib scatter plot\n",
        "\n",
        "# plt.figure(figsize=(12,8))\n",
        "plt.scatter(x,y, lw=3)"
      ],
      "execution_count": 13,
      "outputs": [
        {
          "output_type": "execute_result",
          "data": {
            "text/plain": [
              "<matplotlib.collections.PathCollection at 0x7f26418349b0>"
            ]
          },
          "metadata": {
            "tags": []
          },
          "execution_count": 13
        },
        {
          "output_type": "display_data",
          "data": {
            "image/png": "[encoded data removed]",
            "text/plain": [
              "<Figure size 864x576 with 1 Axes>"
            ]
          },
          "metadata": {
            "tags": [],
            "needs_background": "light"
          }
        }
      ]
    },
    {
      "cell_type": "code",
      "metadata": {
        "id": "VvrV0eJ1-E4J",
        "colab_type": "code",
        "outputId": "cfc560bc-aa43-434c-fdec-466fe16de5c9",
        "colab": {
          "base_uri": "https://localhost:8080/",
          "height": 500
        }
      },
      "source": [
        "# Use Mtplotlib line plot\n",
        "\n",
        "# plt.figure(figsize=(12,8))\n",
        "plt.plot(x,y, lw=3)"
      ],
      "execution_count": 14,
      "outputs": [
        {
          "output_type": "execute_result",
          "data": {
            "text/plain": [
              "[<matplotlib.lines.Line2D at 0x7f264179b668>]"
            ]
          },
          "metadata": {
            "tags": []
          },
          "execution_count": 14
        },
        {
          "output_type": "display_data",
          "data": {
            "image/png": "[encoded data removed]",
            "text/plain": [
              "<Figure size 864x576 with 1 Axes>"
            ]
          },
          "metadata": {
            "tags": [],
            "needs_background": "light"
          }
        }
      ]
    },
    {
      "cell_type": "code",
      "metadata": {
        "id": "03Rd6goG8Pz0",
        "colab_type": "code",
        "outputId": "c542c203-6b85-4e90-e2bc-c8c5ecb0119c",
        "colab": {
          "base_uri": "https://localhost:8080/",
          "height": 500
        }
      },
      "source": [
        "# Use Seaborn lineplot\n",
        "\n",
        "sns.lineplot(x,y)"
      ],
      "execution_count": 15,
      "outputs": [
        {
          "output_type": "execute_result",
          "data": {
            "text/plain": [
              "<matplotlib.axes._subplots.AxesSubplot at 0x7f2641763080>"
            ]
          },
          "metadata": {
            "tags": []
          },
          "execution_count": 15
        },
        {
          "output_type": "display_data",
          "data": {
            "image/png": "[encoded data removed]",
            "text/plain": [
              "<Figure size 864x576 with 1 Axes>"
            ]
          },
          "metadata": {
            "tags": [],
            "needs_background": "light"
          }
        }
      ]
    },
    {
      "cell_type": "code",
      "metadata": {
        "id": "Iz-TLHeEyBSc",
        "colab_type": "code",
        "outputId": "ff1535f1-6dab-4403-b247-8e9b2bfa7fe8",
        "colab": {
          "base_uri": "https://localhost:8080/",
          "height": 993
        }
      },
      "source": [
        "# Use Numpy's random number generator of a normal distribution\n",
        "# Generate 100 data points and plot the histogram\n",
        "\n",
        "np.random.seed(10)\n",
        "sample_data = np.random.normal(0,1,1000)     # 100 data points\n",
        "#plt.figure(figsize=(12,8))\n",
        "plt.hist(sample_data, bins=100, alpha=0.7)"
      ],
      "execution_count": 17,
      "outputs": [
        {
          "output_type": "execute_result",
          "data": {
            "text/plain": [
              "(array([ 1.,  0.,  0.,  1.,  0.,  0.,  2.,  0.,  0.,  0.,  0.,  1.,  0.,\n",
              "         2.,  0.,  1.,  1.,  1.,  2.,  0.,  6.,  5.,  7.,  0.,  3.,  6.,\n",
              "         6.,  5.,  9.,  5.,  6., 11.,  9., 10., 13., 14., 13., 20., 11.,\n",
              "        15., 14., 20., 18., 18., 16., 24., 24., 19., 26., 24., 32., 23.,\n",
              "        23., 29., 23., 22., 26., 30., 29., 23., 16., 19., 28., 23., 27.,\n",
              "        20., 13., 19., 14., 12., 15., 14., 11., 15., 14.,  9.,  8., 10.,\n",
              "         9.,  8.,  5.,  3.,  5.,  1.,  1.,  4.,  3.,  1.,  3.,  2.,  3.,\n",
              "         4.,  2.,  1.,  2.,  2.,  2.,  0.,  0.,  3.]),\n",
              " array([-3.20440134, -3.14555823, -3.08671511, -3.02787199, -2.96902888,\n",
              "        -2.91018576, -2.85134265, -2.79249953, -2.73365641, -2.6748133 ,\n",
              "        -2.61597018, -2.55712706, -2.49828395, -2.43944083, -2.38059771,\n",
              "        -2.3217546 , -2.26291148, -2.20406836, -2.14522525, -2.08638213,\n",
              "        -2.02753901, -1.9686959 , -1.90985278, -1.85100966, -1.79216655,\n",
              "        -1.73332343, -1.67448031, -1.6156372 , -1.55679408, -1.49795097,\n",
              "        -1.43910785, -1.38026473, -1.32142162, -1.2625785 , -1.20373538,\n",
              "        -1.14489227, -1.08604915, -1.02720603, -0.96836292, -0.9095198 ,\n",
              "        -0.85067668, -0.79183357, -0.73299045, -0.67414733, -0.61530422,\n",
              "        -0.5564611 , -0.49761798, -0.43877487, -0.37993175, -0.32108863,\n",
              "        -0.26224552, -0.2034024 , -0.14455929, -0.08571617, -0.02687305,\n",
              "         0.03197006,  0.09081318,  0.1496563 ,  0.20849941,  0.26734253,\n",
              "         0.32618565,  0.38502876,  0.44387188,  0.502715  ,  0.56155811,\n",
              "         0.62040123,  0.67924435,  0.73808746,  0.79693058,  0.8557737 ,\n",
              "         0.91461681,  0.97345993,  1.03230305,  1.09114616,  1.14998928,\n",
              "         1.20883239,  1.26767551,  1.32651863,  1.38536174,  1.44420486,\n",
              "         1.50304798,  1.56189109,  1.62073421,  1.67957733,  1.73842044,\n",
              "         1.79726356,  1.85610668,  1.91494979,  1.97379291,  2.03263603,\n",
              "         2.09147914,  2.15032226,  2.20916538,  2.26800849,  2.32685161,\n",
              "         2.38569473,  2.44453784,  2.50338096,  2.56222407,  2.62106719,\n",
              "         2.67991031]),\n",
              " <a list of 100 Patch objects>)"
            ]
          },
          "metadata": {
            "tags": []
          },
          "execution_count": 17
        },
        {
          "output_type": "display_data",
          "data": {
            "image/png": "[encoded data removed]",
            "text/plain": [
              "<Figure size 864x576 with 1 Axes>"
            ]
          },
          "metadata": {
            "tags": [],
            "needs_background": "light"
          }
        }
      ]
    },
    {
      "cell_type": "code",
      "metadata": {
        "id": "BOt66XujyBSh",
        "colab_type": "code",
        "outputId": "6259ea14-5a18-49b7-f9d9-3eafc688ce78",
        "colab": {
          "base_uri": "https://localhost:8080/",
          "height": 1000
        }
      },
      "source": [
        "# Use Numpy's random number generator of a normal distribution\n",
        "# Generate 10,000 data points and plot the histogram\n",
        "\n",
        "np.random.seed(10)\n",
        "sample_data = np.random.normal(0,1,1000000)    # 10,000 data points\n",
        "plt.figure(figsize=(12,8))\n",
        "plt.hist(sample_data, bins=100, alpha=0.7)\n"
      ],
      "execution_count": 20,
      "outputs": [
        {
          "output_type": "execute_result",
          "data": {
            "text/plain": [
              "(array([1.0000e+00, 0.0000e+00, 1.0000e+00, 1.0000e+00, 0.0000e+00,\n",
              "        0.0000e+00, 0.0000e+00, 2.0000e+00, 0.0000e+00, 4.0000e+00,\n",
              "        5.0000e+00, 1.4000e+01, 1.4000e+01, 2.7000e+01, 3.3000e+01,\n",
              "        5.7000e+01, 7.4000e+01, 9.2000e+01, 1.5600e+02, 2.0500e+02,\n",
              "        2.6100e+02, 3.4300e+02, 5.1600e+02, 6.7100e+02, 8.7900e+02,\n",
              "        1.1500e+03, 1.4700e+03, 1.8320e+03, 2.4120e+03, 3.0070e+03,\n",
              "        3.7650e+03, 4.6570e+03, 5.6020e+03, 6.9940e+03, 8.4800e+03,\n",
              "        9.8970e+03, 1.1466e+04, 1.3488e+04, 1.5639e+04, 1.7383e+04,\n",
              "        1.9820e+04, 2.2423e+04, 2.4398e+04, 2.7116e+04, 2.9259e+04,\n",
              "        3.1310e+04, 3.3347e+04, 3.5348e+04, 3.7096e+04, 3.8102e+04,\n",
              "        3.8867e+04, 3.9253e+04, 3.9564e+04, 3.9814e+04, 3.8814e+04,\n",
              "        3.7774e+04, 3.6143e+04, 3.4547e+04, 3.2787e+04, 3.0514e+04,\n",
              "        2.8832e+04, 2.6176e+04, 2.3737e+04, 2.1181e+04, 1.9056e+04,\n",
              "        1.6864e+04, 1.4840e+04, 1.2572e+04, 1.0860e+04, 9.1200e+03,\n",
              "        7.7730e+03, 6.4480e+03, 5.3980e+03, 4.4060e+03, 3.5340e+03,\n",
              "        2.9030e+03, 2.2360e+03, 1.7280e+03, 1.3180e+03, 1.0930e+03,\n",
              "        8.0200e+02, 6.4100e+02, 4.3700e+02, 3.2500e+02, 2.5000e+02,\n",
              "        1.7600e+02, 1.1300e+02, 7.9000e+01, 6.7000e+01, 5.0000e+01,\n",
              "        2.8000e+01, 2.2000e+01, 1.4000e+01, 8.0000e+00, 9.0000e+00,\n",
              "        2.0000e+00, 4.0000e+00, 1.0000e+00, 2.0000e+00, 1.0000e+00]),\n",
              " array([-5.19356023, -5.09431284, -4.99506546, -4.89581807, -4.79657068,\n",
              "        -4.69732329, -4.5980759 , -4.49882851, -4.39958112, -4.30033373,\n",
              "        -4.20108634, -4.10183895, -4.00259156, -3.90334418, -3.80409679,\n",
              "        -3.7048494 , -3.60560201, -3.50635462, -3.40710723, -3.30785984,\n",
              "        -3.20861245, -3.10936506, -3.01011767, -2.91087029, -2.8116229 ,\n",
              "        -2.71237551, -2.61312812, -2.51388073, -2.41463334, -2.31538595,\n",
              "        -2.21613856, -2.11689117, -2.01764378, -1.91839639, -1.81914901,\n",
              "        -1.71990162, -1.62065423, -1.52140684, -1.42215945, -1.32291206,\n",
              "        -1.22366467, -1.12441728, -1.02516989, -0.9259225 , -0.82667512,\n",
              "        -0.72742773, -0.62818034, -0.52893295, -0.42968556, -0.33043817,\n",
              "        -0.23119078, -0.13194339, -0.032696  ,  0.06655139,  0.16579878,\n",
              "         0.26504616,  0.36429355,  0.46354094,  0.56278833,  0.66203572,\n",
              "         0.76128311,  0.8605305 ,  0.95977789,  1.05902528,  1.15827267,\n",
              "         1.25752005,  1.35676744,  1.45601483,  1.55526222,  1.65450961,\n",
              "         1.753757  ,  1.85300439,  1.95225178,  2.05149917,  2.15074656,\n",
              "         2.24999395,  2.34924133,  2.44848872,  2.54773611,  2.6469835 ,\n",
              "         2.74623089,  2.84547828,  2.94472567,  3.04397306,  3.14322045,\n",
              "         3.24246784,  3.34171522,  3.44096261,  3.54021   ,  3.63945739,\n",
              "         3.73870478,  3.83795217,  3.93719956,  4.03644695,  4.13569434,\n",
              "         4.23494173,  4.33418912,  4.4334365 ,  4.53268389,  4.63193128,\n",
              "         4.73117867]),\n",
              " <a list of 100 Patch objects>)"
            ]
          },
          "metadata": {
            "tags": []
          },
          "execution_count": 20
        },
        {
          "output_type": "display_data",
          "data": {
            "image/png": "[encoded data removed]",
            "text/plain": [
              "<Figure size 864x576 with 1 Axes>"
            ]
          },
          "metadata": {
            "tags": [],
            "needs_background": "light"
          }
        }
      ]
    },
    {
      "cell_type": "markdown",
      "metadata": {
        "id": "FwB2LoXzyBSm",
        "colab_type": "text"
      },
      "source": [
        "### The scipy.stats library \n",
        "\n",
        "It provides handy facilities for normal distribution so that we don't need to use the raw probability function as seen in the previoius cell:\n",
        "- Our own function\n",
        "- Numpy's random number generator\n",
        "\n",
        "The scipy nickname for the normal distribution is norm. \n",
        "\n",
        "This graph shows the relationship between PDF and CDF.\n",
        "\n",
        "- pdf ( probability density function)\n",
        "\n",
        "This basically is a probability law for a continuous random variable ( for discrete, it is probability mass function).\n",
        "\n",
        "The probability law defines the chances of the random variable taking a particular value say x, i.e. P (X=x). However this definition is not valid for continuous random variables because the probability at a given point is zero since there are infinite number of possible values.\n",
        "\n",
        "An alternate to this is: pdf= P (x-e<X<=x)/e as e tends to zero.\n",
        "\n",
        "- CDF ( Cumulative Distribution Function)\n",
        "\n",
        "As the name cumulative suggests, this is simply the probability up to a particular value of the random variable, say x. Generally denoted by F, F= P (X<=x) for any value of x in the X space. It is defined for both discrete and continuous random variables.\n",
        "\n",
        "![Cumulative Density Function](https://github.com/wcj365/python-stats-dataviz/blob/master/images/CDF.png?raw=1)\n",
        "\n",
        "**Probability Density Function (PDF) of a normal distribution - stats.norm.pdf()**"
      ]
    },
    {
      "cell_type": "code",
      "metadata": {
        "id": "bchpxd98yBSn",
        "colab_type": "code",
        "outputId": "d7a5510b-b5ab-4e3f-a1bf-f3b914d121f1",
        "colab": {
          "base_uri": "https://localhost:8080/",
          "height": 34
        }
      },
      "source": [
        "# Use the PDF \n",
        "\n",
        "prob_under_minus1 = stats.norm.cdf(x= -1,  \n",
        "                                loc = 0,               \n",
        "                                scale= 1)     \n",
        "\n",
        "prob_under_1 = stats.norm.cdf(x= 1,  \n",
        "               loc = 0,               \n",
        "               scale= 1) \n",
        "\n",
        "prob_over_1 = 1 - prob_under_1\n",
        "\n",
        "between_prob = 1-(prob_under_minus1+prob_over_1)\n",
        "\n",
        "print(prob_under_minus1, prob_under_1, prob_over_1, between_prob)"
      ],
      "execution_count": 21,
      "outputs": [
        {
          "output_type": "stream",
          "text": [
            "0.15865525393145707 0.8413447460685429 0.15865525393145707 0.6826894921370859\n"
          ],
          "name": "stdout"
        }
      ]
    },
    {
      "cell_type": "markdown",
      "metadata": {
        "id": "nD779PRPyBSs",
        "colab_type": "text"
      },
      "source": [
        "The output shows that roughly 16% of the data generated by a normal distribution with mean 0 and standard deviation 1 is below -1, 16% is above 1 and 68% lies between -1 and 1, which agrees with the 68, 95, 99.7 rule. Let's plot the normal distribution and inspect areas we calculated:"
      ]
    },
    {
      "cell_type": "code",
      "metadata": {
        "id": "HLdzUsvzyBSt",
        "colab_type": "code",
        "outputId": "4051bff4-4d86-400a-99e3-c994629be68b",
        "colab": {
          "base_uri": "https://localhost:8080/",
          "height": 500
        }
      },
      "source": [
        "# Plot normal distribution areas\n",
        "\n",
        "\n",
        "                                  \n",
        "plt.fill_between(x=np.arange(-4,-1,0.01), \n",
        "                 y1= stats.norm.pdf(np.arange(-4,-1,0.01)) ,\n",
        "                 facecolor='red',\n",
        "                 alpha=0.35)\n",
        "\n",
        "plt.fill_between(x=np.arange(1,4,0.01), \n",
        "                 y1= stats.norm.pdf(np.arange(1,4,0.01)) ,\n",
        "                 facecolor='red',\n",
        "                 alpha=0.35)\n",
        "\n",
        "plt.fill_between(x=np.arange(-1,1,0.01), \n",
        "                 y1= stats.norm.pdf(np.arange(-1,1,0.01)) ,\n",
        "                 facecolor='blue',\n",
        "                 alpha=0.35)\n",
        "\n",
        "plt.text(x=-1.8, y=0.03, s= round(prob_under_minus1,3))\n",
        "plt.text(x=-0.2, y=0.1, s= round(between_prob,3))\n",
        "plt.text(x=1.4, y=0.03, s= round(prob_over_1,3))"
      ],
      "execution_count": 22,
      "outputs": [
        {
          "output_type": "execute_result",
          "data": {
            "text/plain": [
              "Text(1.4, 0.03, '0.159')"
            ]
          },
          "metadata": {
            "tags": []
          },
          "execution_count": 22
        },
        {
          "output_type": "display_data",
          "data": {
            "image/png": "[encoded data removed]",
            "text/plain": [
              "<Figure size 864x576 with 1 Axes>"
            ]
          },
          "metadata": {
            "tags": [],
            "needs_background": "light"
          }
        }
      ]
    },
    {
      "cell_type": "code",
      "metadata": {
        "id": "3nwgWaS6KUEW",
        "colab_type": "code",
        "colab": {
          "base_uri": "https://localhost:8080/",
          "height": 34
        },
        "outputId": "6efe1984-0eba-4afe-d777-301f6280da64"
      },
      "source": [
        "# Use the PDF \n",
        "\n",
        "prob_under_minus2 = stats.norm.cdf(x= -2,  \n",
        "                                loc = 0,               \n",
        "                                scale= 1)     \n",
        "\n",
        "prob_under_2 = stats.norm.cdf(x= 2,  \n",
        "               loc = 0,               \n",
        "               scale= 1) \n",
        "\n",
        "prob_over_2 = 1 - prob_under_2\n",
        "\n",
        "between_prob = 1-(prob_under_minus2+prob_over_2)\n",
        "\n",
        "print(prob_under_minus2, prob_under_2, prob_over_2, between_prob)"
      ],
      "execution_count": 28,
      "outputs": [
        {
          "output_type": "stream",
          "text": [
            "0.022750131948179195 0.9772498680518208 0.02275013194817921 0.9544997361036416\n"
          ],
          "name": "stdout"
        }
      ]
    },
    {
      "cell_type": "code",
      "metadata": {
        "id": "Q_GUzvnWJwEU",
        "colab_type": "code",
        "colab": {
          "base_uri": "https://localhost:8080/",
          "height": 500
        },
        "outputId": "90772349-c890-4b9f-9490-6c643b2f0b50"
      },
      "source": [
        " #Plot normal distribution areas\n",
        "\n",
        "\n",
        "                                  \n",
        "plt.fill_between(x=np.arange(-4,-2,0.01), \n",
        "                 y1= stats.norm.pdf(np.arange(-4,-2,0.01)) ,\n",
        "                 facecolor='red',\n",
        "                 alpha=0.35)\n",
        "\n",
        "plt.fill_between(x=np.arange(2,4,0.01), \n",
        "                 y1= stats.norm.pdf(np.arange(2,4,0.01)) ,\n",
        "                 facecolor='red',\n",
        "                 alpha=0.35)\n",
        "\n",
        "plt.fill_between(x=np.arange(-2,2,0.01), \n",
        "                 y1= stats.norm.pdf(np.arange(-2,2,0.01)) ,\n",
        "                 facecolor='blue',\n",
        "                 alpha=0.35)\n",
        "\n",
        "plt.text(x=-2.5, y=0.03, s= round(prob_under_minus2,3))\n",
        "plt.text(x=-0.2, y=0.1, s= round(between_prob,3))\n",
        "plt.text(x=2.5, y=0.03, s= round(prob_over_2,3))"
      ],
      "execution_count": 29,
      "outputs": [
        {
          "output_type": "execute_result",
          "data": {
            "text/plain": [
              "Text(2.5, 0.03, '0.023')"
            ]
          },
          "metadata": {
            "tags": []
          },
          "execution_count": 29
        },
        {
          "output_type": "display_data",
          "data": {
            "image/png": "[encoded data removed]",
            "text/plain": [
              "<Figure size 864x576 with 1 Axes>"
            ]
          },
          "metadata": {
            "tags": [],
            "needs_background": "light"
          }
        }
      ]
    },
    {
      "cell_type": "code",
      "metadata": {
        "id": "A7mYvLPOLVQh",
        "colab_type": "code",
        "colab": {
          "base_uri": "https://localhost:8080/",
          "height": 34
        },
        "outputId": "20b0953c-8ef6-4e72-c71a-1cced61e1725"
      },
      "source": [
        "# Use the PDF \n",
        "\n",
        "prob_under_minus3 = stats.norm.cdf(x= -3,  \n",
        "                                loc = 0,               \n",
        "                                scale= 1)     \n",
        "\n",
        "prob_under_3 = stats.norm.cdf(x= 3,  \n",
        "               loc = 0,               \n",
        "               scale= 1) \n",
        "\n",
        "prob_over_3 = 1 - prob_under_3\n",
        "\n",
        "between_prob = 1-(prob_under_minus3+prob_over_3)\n",
        "\n",
        "print(prob_under_minus3, prob_under_3, prob_over_3, between_prob)"
      ],
      "execution_count": 30,
      "outputs": [
        {
          "output_type": "stream",
          "text": [
            "0.0013498980316300933 0.9986501019683699 0.0013498980316301035 0.9973002039367398\n"
          ],
          "name": "stdout"
        }
      ]
    },
    {
      "cell_type": "code",
      "metadata": {
        "id": "A2-Wnx3NLlqe",
        "colab_type": "code",
        "colab": {
          "base_uri": "https://localhost:8080/",
          "height": 500
        },
        "outputId": "f802e08b-96fd-43cf-ab06-0c63497112d1"
      },
      "source": [
        " #Plot normal distribution areas\n",
        "\n",
        "\n",
        "                                  \n",
        "plt.fill_between(x=np.arange(-4,-3,0.01), \n",
        "                 y1= stats.norm.pdf(np.arange(-4,-3,0.01)) ,\n",
        "                 facecolor='red',\n",
        "                 alpha=0.35)\n",
        "\n",
        "plt.fill_between(x=np.arange(3,4,0.01), \n",
        "                 y1= stats.norm.pdf(np.arange(3,4,0.01)) ,\n",
        "                 facecolor='red',\n",
        "                 alpha=0.35)\n",
        "\n",
        "plt.fill_between(x=np.arange(-3,3,0.01), \n",
        "                 y1= stats.norm.pdf(np.arange(-3,3,0.01)) ,\n",
        "                 facecolor='blue',\n",
        "                 alpha=0.35)\n",
        "\n",
        "plt.text(x=-3.5, y=0.03, s= round(prob_under_minus3,3))\n",
        "plt.text(x=-0.2, y=0.1, s= round(between_prob,3))\n",
        "plt.text(x=3.5, y=0.03, s= round(prob_over_3,3))"
      ],
      "execution_count": 31,
      "outputs": [
        {
          "output_type": "execute_result",
          "data": {
            "text/plain": [
              "Text(3.5, 0.03, '0.001')"
            ]
          },
          "metadata": {
            "tags": []
          },
          "execution_count": 31
        },
        {
          "output_type": "display_data",
          "data": {
            "image/png": "[encoded data removed]",
            "text/plain": [
              "<Figure size 864x576 with 1 Axes>"
            ]
          },
          "metadata": {
            "tags": [],
            "needs_background": "light"
          }
        }
      ]
    },
    {
      "cell_type": "markdown",
      "metadata": {
        "id": "hsKDx60ayBSy",
        "colab_type": "text"
      },
      "source": [
        "The plot above shows the bell shape of the normal distribution, the area below and above one standard deviation and the area within 1 standard deviation of the mean.\n",
        "Finding quantiles of the normal distribution is a common task when performing statistical tests. You can check normal distribution quantiles with stats.norm.ppf(). ppd = Percent Point Function. "
      ]
    },
    {
      "cell_type": "code",
      "metadata": {
        "id": "wBoEJkDgyBSy",
        "colab_type": "code",
        "outputId": "191e2347-9507-408c-ff16-826152ff17a3",
        "colab": {}
      },
      "source": [
        "# Find the quantile for the 2.5% cutoff Percentage point function PPF\n",
        "print( stats.norm.ppf(q=0.025) ) \n",
        "\n",
        "# Find the quantile for the 97.5% cutoff\n",
        "print( stats.norm.ppf(q=0.975) ) "
      ],
      "execution_count": 0,
      "outputs": [
        {
          "output_type": "stream",
          "text": [
            "-1.9599639845400545\n",
            "1.959963984540054\n"
          ],
          "name": "stdout"
        }
      ]
    },
    {
      "cell_type": "markdown",
      "metadata": {
        "id": "9if49kNOyBS5",
        "colab_type": "text"
      },
      "source": [
        "The quantile output above confirms that roughly 5% of the data lies more than 2 standard deviations from the mean.\n",
        "\n",
        "*Note: The standard normal distribution has a mean of 0 and standard deviation of 1."
      ]
    },
    {
      "cell_type": "markdown",
      "metadata": {
        "id": "iL3LdPfdyBS7",
        "colab_type": "text"
      },
      "source": [
        "#### Cumulative Distribution Function (CDC) of a normal distribution using stats.norm.cdf()"
      ]
    },
    {
      "cell_type": "code",
      "metadata": {
        "id": "C1aBwf3VyBS8",
        "colab_type": "code",
        "outputId": "19baa85d-f793-4bda-87e5-6884ac58c18c",
        "colab": {}
      },
      "source": [
        "# Cumulative Distribution Function (CDF)\n",
        "# The location (loc) keyword specifies the mean. \n",
        "# The scale (scale) keyword specifies the standard deviation.\n",
        "\n",
        "stats.norm.cdf(1.96, loc=0, scale=1)"
      ],
      "execution_count": 0,
      "outputs": [
        {
          "output_type": "execute_result",
          "data": {
            "text/plain": [
              "0.9750021048517795"
            ]
          },
          "metadata": {
            "tags": []
          },
          "execution_count": 5
        }
      ]
    },
    {
      "cell_type": "code",
      "metadata": {
        "id": "cGI68xtwyBTB",
        "colab_type": "code",
        "outputId": "ad0972d9-9774-45f4-f796-bb5f7e2962b8",
        "colab": {}
      },
      "source": [
        "# The default loc is 0, scale is 1\n",
        "stats.norm.cdf(-1.96)"
      ],
      "execution_count": 0,
      "outputs": [
        {
          "output_type": "execute_result",
          "data": {
            "text/plain": [
              "0.024997895148220435"
            ]
          },
          "metadata": {
            "tags": []
          },
          "execution_count": 7
        }
      ]
    }
  ]
}