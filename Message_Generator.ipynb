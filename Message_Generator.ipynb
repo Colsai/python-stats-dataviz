{
  "nbformat": 4,
  "nbformat_minor": 0,
  "metadata": {
    "colab": {
      "name": "Message Generator",
      "provenance": [],
      "collapsed_sections": [],
      "authorship_tag": "ABX9TyPTWbZlNDEUXgX8cqiG5O0l",
      "include_colab_link": true
    },
    "kernelspec": {
      "name": "python3",
      "display_name": "Python 3"
    }
  },
  "cells": [
    {
      "cell_type": "markdown",
      "metadata": {
        "id": "view-in-github",
        "colab_type": "text"
      },
      "source": [
        "<a href=\"https://colab.research.google.com/github/Colsai/python-stats-dataviz/blob/master/Message_Generator.ipynb\" target=\"_parent\"><img src=\"https://colab.research.google.com/assets/colab-badge.svg\" alt=\"Open In Colab\"/></a>"
      ]
    },
    {
      "cell_type": "code",
      "metadata": {
        "id": "Gqrk-1Bd3_UX"
      },
      "source": [
        "#Quick Message Generator\n",
        "full_name = input(\"Full name?\")\n",
        "classpd = int(input(\"Class pd?\"))\n",
        "classnm = input(\"Class name?\")"
      ],
      "execution_count": null,
      "outputs": []
    },
    {
      "cell_type": "code",
      "metadata": {
        "id": "SdUdc1RY35ib"
      },
      "source": [
        "name = input(\"SN? \")\n",
        "missing = int(input(\"Missing? \"))\n",
        "\n",
        "#Generating The Message\n",
        "print(f\"\\n\\nHello {name},\\n\")\n",
        "print(f\"This is a message from your period {classpd} {classnm} with {full_name}. \\nThere are about 2.5 weeks left of class for Quarter 1.\")\n",
        "print(f\"\\nThis is a message letting you know that you are missing some assignments.\\n Specifically, you are missing {missing} assignments.\")\n",
        "print(f\"\\nThe Assignments are:\")\n",
        "\n",
        "for i in range(1,missing+1):\n",
        "    print(f\"{i}.\")\n",
        "print(f\"\\nBest,\\n{full_name}\")\n",
        "\n",
        "#End of Message"
      ],
      "execution_count": null,
      "outputs": []
    },
    {
      "cell_type": "code",
      "metadata": {
        "id": "NZAzqdqp4EuO"
      },
      "source": [
        ""
      ],
      "execution_count": null,
      "outputs": []
    }
  ]
}