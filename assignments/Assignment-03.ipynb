{
 "cells": [
  {
   "cell_type": "markdown",
   "metadata": {},
   "source": [
    "# Assignment #03\n",
    "1. Explore College Scorecard website - https://collegescorecard.ed.gov/ \n",
    "\n",
    "2. Explore College Scorecard Data web page - https://collegescorecard.ed.gov/data/\n",
    "\n",
    "3. Download and skim the documentation - https://collegescorecard.ed.gov/assets/FullDataDocumentation.pdf\n",
    "\n",
    "4. Download the dataset - https://ed-public-download.app.cloud.gov/downloads/CollegeScorecard_Raw_Data.zip (265MB Zip File)\n",
    "\n",
    "5. Unzip the file into a folder (there are many files, one for each school year)\n",
    "\n",
    "6. Import the 2017-2018 school year file \"MERGED2017_18_PP.csv\" and explore:   \n",
    "\n",
    "    * how many colleges or rows?   \n",
    "\n",
    "    * how many variables or columns?   \n",
    "\n",
    "    * Look at the first 20 rows   \n",
    "\n",
    "    * look at the last 20 rows   \n",
    "\n",
    "    * Look at a random sample of 20 rows    \n",
    "\n",
    "7. Since there are too many variables to explore, many of which are not interesting. Modify your import statement to only import the following 12 variables:\n",
    "\n",
    "\n",
    "UNITID             OPEID              OPEID6             INSTNM            CITY            STABBR             ZIP               ADM_RATE           UGDS              TUITIONFEE_IN      TUITIONFEE_OUT    MN_EARN_WNE_P10 \n",
    "\n",
    "8. Download and read the data dictionary file - https://collegescorecard.ed.gov/assets/CollegeScorecardDataDictionary.xlsx\n",
    "\n",
    "\n",
    "Find out the definition of the above 12 variables and document the definitions in the Jupyter Notebook so that the readers will not need to repeat what you have done to know the meaning of the variables.\n",
    "\n",
    "\n",
    "9. Find out the 10 colleges that are hardest to get in (top 10)\n",
    "\n",
    "\n",
    "10. Find out the average in-state tuition of top 10\n",
    "\n",
    "\n",
    "11 Find out the average earnings of graduates from the top 10\n",
    "\n",
    "\n",
    "12. Find out the 10 colleges that are easiest to get in (bottom 10)\n",
    "\n",
    "\n",
    "13. Find out the average in-state tuition of the bottom 10\n",
    "\n",
    "\n",
    "14. Find out the average earnings of graduates from the bottom 10\n",
    "\n",
    "When in doubt, Google. Find example, read documents/tutorials. \n",
    "\n",
    "Have fun!"
   ]
  },
  {
   "cell_type": "code",
   "execution_count": null,
   "metadata": {},
   "outputs": [],
   "source": [
    "# Import libraries\n",
    "(Write code here)"
   ]
  },
  {
   "cell_type": "code",
   "execution_count": null,
   "metadata": {},
   "outputs": [],
   "source": [
    "# load the 2017-2018 school year file \"MERGED2017_18_PP.csv\"   \n",
    "(Write code here)"
   ]
  },
  {
   "cell_type": "code",
   "execution_count": null,
   "metadata": {},
   "outputs": [],
   "source": [
    "# Find out how many colleges or rows?   \n",
    "# Find out how many variables or columns? \n",
    "(Write code here)"
   ]
  },
  {
   "cell_type": "code",
   "execution_count": null,
   "metadata": {},
   "outputs": [],
   "source": [
    "# Look at the first 20 rows  \n",
    "(Write code here)"
   ]
  },
  {
   "cell_type": "code",
   "execution_count": null,
   "metadata": {},
   "outputs": [],
   "source": [
    "# Look at the last 20 rows \n",
    "(Write code here)"
   ]
  },
  {
   "cell_type": "code",
   "execution_count": null,
   "metadata": {},
   "outputs": [],
   "source": [
    "# Look at a random sample of 20 rows    \n",
    "(Write code here)"
   ]
  },
  {
   "cell_type": "markdown",
   "metadata": {},
   "source": [
    "Read (with naked eyes, not computer) the dictionary and find out the definitions of the following 12 columns and copy the text next to the column name\n",
    "- UNITID: (definition here)\n",
    "- OPEID:              \n",
    "- OPEID6:            \n",
    "- INSTNM:          \n",
    "- CITY:                      \n",
    "- ZIP:               \n",
    "- ADM_RATE:           \n",
    "- UGDS:              \n",
    "- TUITIONFEE_IN:      \n",
    "- TUITIONFEE_OUT:    \n",
    "- MN_EARN_WNE_P10:"
   ]
  },
  {
   "cell_type": "code",
   "execution_count": null,
   "metadata": {},
   "outputs": [],
   "source": [
    "# reimport the data with above 12 columns (ignore all other variables)\n",
    "(Write code here)"
   ]
  },
  {
   "cell_type": "code",
   "execution_count": null,
   "metadata": {},
   "outputs": [],
   "source": [
    "# Find out the 10 colleges that are hardest to get in (top 10)\n",
    "(Write code here)"
   ]
  },
  {
   "cell_type": "code",
   "execution_count": null,
   "metadata": {},
   "outputs": [],
   "source": [
    "# 10. Find out the average in-state tuition of top 10\n",
    "(Write code here)"
   ]
  },
  {
   "cell_type": "code",
   "execution_count": null,
   "metadata": {},
   "outputs": [],
   "source": [
    "# Find out the average earnings of graduates from the top 10\n",
    "(Write code here)"
   ]
  },
  {
   "cell_type": "code",
   "execution_count": null,
   "metadata": {},
   "outputs": [],
   "source": [
    "# Find out the 10 colleges that are easiest to get in (bottom 10)\n",
    "(Write code here)"
   ]
  },
  {
   "cell_type": "code",
   "execution_count": null,
   "metadata": {},
   "outputs": [],
   "source": [
    "# Find out the average in-state tuition of the bottom 10\n",
    "(Write code here)"
   ]
  },
  {
   "cell_type": "code",
   "execution_count": null,
   "metadata": {},
   "outputs": [],
   "source": [
    "# Find out the average earnings of graduates from the bottom 10\n",
    "(Write code here)"
   ]
  }
 ],
 "metadata": {
  "kernelspec": {
   "display_name": "Python 3",
   "language": "python",
   "name": "python3"
  },
  "language_info": {
   "codemirror_mode": {
    "name": "ipython",
    "version": 3
   },
   "file_extension": ".py",
   "mimetype": "text/x-python",
   "name": "python",
   "nbconvert_exporter": "python",
   "pygments_lexer": "ipython3",
   "version": "3.7.4"
  }
 },
 "nbformat": 4,
 "nbformat_minor": 2
}
