{
 "cells": [
  {
   "cell_type": "markdown",
   "metadata": {},
   "source": [
    "# Assignment #01\n",
    "Create a program that does the following:\n",
    "\n",
    "* Prompts a user to enter 10 numbers.\n",
    "* If the user enters anything other than numbers, remind her that only numbers are allowed and let her retry.\n",
    "* Don't allow the user to enter more than 10 or less than 10 numbers.\n",
    "* Display the 10 numbers back to the user at the end.\n",
    "* Calculate the following statistics from the 10 numbers entered:\n",
    "\n",
    "    * Minimum\n",
    "    * Maximum\n",
    "    * Range \n",
    "    * Mean\n",
    "    * Median (optional)\n",
    "    * Mode (optional)\n",
    "    * Variance (optional)\n",
    "    * Standard Deviation (optional)\n",
    "\n",
    "Note:\n",
    "\n",
    "1. Use the Python concepts and methods covered so far. Try not to use uncovered methods.\n",
    "2. Use infinite loop: while True\n",
    "3. Use break/continue\n",
    "4. Use try/except\n",
    "5. Implement this in two ways and produce and submit two different files:\n",
    "    * Produce a Python script (.py). \n",
    "    * Produce a Jupyter Notebook (.ipynb). "
   ]
  },
  {
   "cell_type": "code",
   "execution_count": null,
   "metadata": {},
   "outputs": [],
   "source": []
  }
 ],
 "metadata": {
  "kernelspec": {
   "display_name": "Python 3",
   "language": "python",
   "name": "python3"
  },
  "language_info": {
   "codemirror_mode": {
    "name": "ipython",
    "version": 3
   },
   "file_extension": ".py",
   "mimetype": "text/x-python",
   "name": "python",
   "nbconvert_exporter": "python",
   "pygments_lexer": "ipython3",
   "version": "3.7.4"
  }
 },
 "nbformat": 4,
 "nbformat_minor": 2
}
