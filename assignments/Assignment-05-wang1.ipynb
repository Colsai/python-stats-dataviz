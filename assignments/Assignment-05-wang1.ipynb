{
 "cells": [
  {
   "cell_type": "code",
   "execution_count": 2,
   "metadata": {},
   "outputs": [],
   "source": [
    "import pandas as pd\n",
    "import numpy as np\n",
    "import matplotlib.pyplot as plt\n",
    "import os"
   ]
  },
  {
   "cell_type": "code",
   "execution_count": 3,
   "metadata": {},
   "outputs": [
    {
     "data": {
      "text/plain": [
       "'C:\\\\Users\\\\jay\\\\apps\\\\DATA690-1\\\\Assignment #5'"
      ]
     },
     "execution_count": 3,
     "metadata": {},
     "output_type": "execute_result"
    }
   ],
   "source": [
    "os.getcwd()"
   ]
  },
  {
   "cell_type": "code",
   "execution_count": 4,
   "metadata": {},
   "outputs": [
    {
     "data": {
      "text/plain": [
       "['.ipynb_checkpoints',\n",
       " 'Assignment #5 Template.ipynb',\n",
       " 'ConcatenateSolution.ipynb']"
      ]
     },
     "execution_count": 4,
     "metadata": {},
     "output_type": "execute_result"
    }
   ],
   "source": [
    "os.listdir()"
   ]
  },
  {
   "cell_type": "code",
   "execution_count": 7,
   "metadata": {},
   "outputs": [
    {
     "data": {
      "text/plain": [
       "['Crosswalks.zip',\n",
       " 'data.yaml',\n",
       " 'MERGED1996_97_PP.csv',\n",
       " 'MERGED1997_98_PP.csv',\n",
       " 'MERGED1998_99_PP.csv',\n",
       " 'MERGED1999_00_PP.csv',\n",
       " 'MERGED2000_01_PP.csv',\n",
       " 'MERGED2001_02_PP.csv',\n",
       " 'MERGED2002_03_PP.csv',\n",
       " 'MERGED2003_04_PP.csv',\n",
       " 'MERGED2004_05_PP.csv',\n",
       " 'MERGED2005_06_PP.csv',\n",
       " 'MERGED2006_07_PP.csv',\n",
       " 'MERGED2007_08_PP.csv',\n",
       " 'MERGED2008_09_PP.csv',\n",
       " 'MERGED2009_10_PP.csv',\n",
       " 'MERGED2010_11_PP.csv',\n",
       " 'MERGED2011_12_PP.csv',\n",
       " 'MERGED2012_13_PP.csv',\n",
       " 'MERGED2013_14_PP.csv',\n",
       " 'MERGED2014_15_PP.csv',\n",
       " 'MERGED2015_16_PP.csv',\n",
       " 'MERGED2016_17_PP.csv',\n",
       " 'MERGED2017_18_PP.csv']"
      ]
     },
     "execution_count": 7,
     "metadata": {},
     "output_type": "execute_result"
    }
   ],
   "source": [
    "data_dir = \"../College-Scorecard/CollegeScorecard_Raw_Data/\"\n",
    "file_list = os.listdir(data_dir)\n",
    "file_list"
   ]
  },
  {
   "cell_type": "code",
   "execution_count": 8,
   "metadata": {},
   "outputs": [
    {
     "name": "stdout",
     "output_type": "stream",
     "text": [
      "Crosswalks.zip\n",
      "data.yaml\n",
      "MERGED1996_97_PP.csv\n",
      "MERGED1997_98_PP.csv\n",
      "MERGED1998_99_PP.csv\n",
      "MERGED1999_00_PP.csv\n",
      "MERGED2000_01_PP.csv\n",
      "MERGED2001_02_PP.csv\n",
      "MERGED2002_03_PP.csv\n",
      "MERGED2003_04_PP.csv\n",
      "MERGED2004_05_PP.csv\n",
      "MERGED2005_06_PP.csv\n",
      "MERGED2006_07_PP.csv\n",
      "MERGED2007_08_PP.csv\n",
      "MERGED2008_09_PP.csv\n",
      "MERGED2009_10_PP.csv\n",
      "MERGED2010_11_PP.csv\n",
      "MERGED2011_12_PP.csv\n",
      "MERGED2012_13_PP.csv\n",
      "MERGED2013_14_PP.csv\n",
      "MERGED2014_15_PP.csv\n",
      "MERGED2015_16_PP.csv\n",
      "MERGED2016_17_PP.csv\n",
      "MERGED2017_18_PP.csv\n"
     ]
    }
   ],
   "source": [
    "for file in file_list:\n",
    "    print(file)"
   ]
  },
  {
   "cell_type": "code",
   "execution_count": 9,
   "metadata": {},
   "outputs": [
    {
     "data": {
      "text/plain": [
       "['MERGED1996_97_PP.csv',\n",
       " 'MERGED1997_98_PP.csv',\n",
       " 'MERGED1998_99_PP.csv',\n",
       " 'MERGED1999_00_PP.csv',\n",
       " 'MERGED2000_01_PP.csv',\n",
       " 'MERGED2001_02_PP.csv',\n",
       " 'MERGED2002_03_PP.csv',\n",
       " 'MERGED2003_04_PP.csv',\n",
       " 'MERGED2004_05_PP.csv',\n",
       " 'MERGED2005_06_PP.csv',\n",
       " 'MERGED2006_07_PP.csv',\n",
       " 'MERGED2007_08_PP.csv',\n",
       " 'MERGED2008_09_PP.csv',\n",
       " 'MERGED2009_10_PP.csv',\n",
       " 'MERGED2010_11_PP.csv',\n",
       " 'MERGED2011_12_PP.csv',\n",
       " 'MERGED2012_13_PP.csv',\n",
       " 'MERGED2013_14_PP.csv',\n",
       " 'MERGED2014_15_PP.csv',\n",
       " 'MERGED2015_16_PP.csv',\n",
       " 'MERGED2016_17_PP.csv',\n",
       " 'MERGED2017_18_PP.csv']"
      ]
     },
     "execution_count": 9,
     "metadata": {},
     "output_type": "execute_result"
    }
   ],
   "source": [
    "#file_list = os.listdir(data_dir)\n",
    "file_list.pop(0)\n",
    "file_list.pop(0)\n",
    "file_list"
   ]
  },
  {
   "cell_type": "code",
   "execution_count": null,
   "metadata": {},
   "outputs": [],
   "source": []
  },
  {
   "cell_type": "code",
   "execution_count": 5,
   "metadata": {},
   "outputs": [
    {
     "name": "stdout",
     "output_type": "stream",
     "text": [
      "<class 'pandas.core.frame.DataFrame'>\n",
      "Int64Index: 154285 entries, 0 to 7114\n",
      "Data columns (total 4 columns):\n",
      "UNITID           154285 non-null int64\n",
      "ADM_RATE         42583 non-null float64\n",
      "TUITIONFEE_IN    74895 non-null float64\n",
      "YEAR             154285 non-null object\n",
      "dtypes: float64(2), int64(1), object(1)\n",
      "memory usage: 5.9+ MB\n"
     ]
    }
   ],
   "source": [
    "column_list = [\"UNITID\", \"ADM_RATE\",\"TUITIONFEE_IN\"]\n",
    "\n",
    "df_list = []\n",
    "for file in file_list:\n",
    "    df_tmp = pd.read_csv(data_dir + file, usecols=column_list)\n",
    "    df_tmp[\"YEAR\"] = file[6:10]\n",
    "    df_list.append(df_tmp)\n",
    "\n",
    "df = pd.concat(df_list)\n",
    "df.info()"
   ]
  },
  {
   "cell_type": "code",
   "execution_count": 22,
   "metadata": {},
   "outputs": [
    {
     "data": {
      "text/html": [
       "<div>\n",
       "<style scoped>\n",
       "    .dataframe tbody tr th:only-of-type {\n",
       "        vertical-align: middle;\n",
       "    }\n",
       "\n",
       "    .dataframe tbody tr th {\n",
       "        vertical-align: top;\n",
       "    }\n",
       "\n",
       "    .dataframe thead th {\n",
       "        text-align: right;\n",
       "    }\n",
       "</style>\n",
       "<table border=\"1\" class=\"dataframe\">\n",
       "  <thead>\n",
       "    <tr style=\"text-align: right;\">\n",
       "      <th></th>\n",
       "      <th>UNITID</th>\n",
       "      <th>ADM_RATE</th>\n",
       "      <th>TUITIONFEE_IN</th>\n",
       "      <th>YEAR</th>\n",
       "    </tr>\n",
       "  </thead>\n",
       "  <tbody>\n",
       "    <tr>\n",
       "      <th>1489</th>\n",
       "      <td>162928</td>\n",
       "      <td>0.1284</td>\n",
       "      <td>50410.0</td>\n",
       "      <td>2016</td>\n",
       "    </tr>\n",
       "    <tr>\n",
       "      <th>1970</th>\n",
       "      <td>162928</td>\n",
       "      <td>NaN</td>\n",
       "      <td>NaN</td>\n",
       "      <td>1997</td>\n",
       "    </tr>\n",
       "    <tr>\n",
       "      <th>1799</th>\n",
       "      <td>163268</td>\n",
       "      <td>0.7143</td>\n",
       "      <td>8520.0</td>\n",
       "      <td>2005</td>\n",
       "    </tr>\n",
       "    <tr>\n",
       "      <th>1741</th>\n",
       "      <td>162928</td>\n",
       "      <td>0.2609</td>\n",
       "      <td>37700.0</td>\n",
       "      <td>2008</td>\n",
       "    </tr>\n",
       "    <tr>\n",
       "      <th>1533</th>\n",
       "      <td>162928</td>\n",
       "      <td>0.1412</td>\n",
       "      <td>48710.0</td>\n",
       "      <td>2015</td>\n",
       "    </tr>\n",
       "    <tr>\n",
       "      <th>1889</th>\n",
       "      <td>163268</td>\n",
       "      <td>0.6551</td>\n",
       "      <td>5910.0</td>\n",
       "      <td>2001</td>\n",
       "    </tr>\n",
       "    <tr>\n",
       "      <th>1473</th>\n",
       "      <td>162928</td>\n",
       "      <td>0.1254</td>\n",
       "      <td>52170.0</td>\n",
       "      <td>2017</td>\n",
       "    </tr>\n",
       "    <tr>\n",
       "      <th>1862</th>\n",
       "      <td>162928</td>\n",
       "      <td>0.3506</td>\n",
       "      <td>27390.0</td>\n",
       "      <td>2002</td>\n",
       "    </tr>\n",
       "    <tr>\n",
       "      <th>1843</th>\n",
       "      <td>162928</td>\n",
       "      <td>0.3060</td>\n",
       "      <td>28730.0</td>\n",
       "      <td>2003</td>\n",
       "    </tr>\n",
       "    <tr>\n",
       "      <th>1980</th>\n",
       "      <td>163268</td>\n",
       "      <td>NaN</td>\n",
       "      <td>NaN</td>\n",
       "      <td>1997</td>\n",
       "    </tr>\n",
       "    <tr>\n",
       "      <th>1880</th>\n",
       "      <td>162928</td>\n",
       "      <td>0.3431</td>\n",
       "      <td>26210.0</td>\n",
       "      <td>2001</td>\n",
       "    </tr>\n",
       "    <tr>\n",
       "      <th>2072</th>\n",
       "      <td>162928</td>\n",
       "      <td>NaN</td>\n",
       "      <td>NaN</td>\n",
       "      <td>1996</td>\n",
       "    </tr>\n",
       "    <tr>\n",
       "      <th>1748</th>\n",
       "      <td>163268</td>\n",
       "      <td>0.7174</td>\n",
       "      <td>8780.0</td>\n",
       "      <td>2008</td>\n",
       "    </tr>\n",
       "    <tr>\n",
       "      <th>1761</th>\n",
       "      <td>163268</td>\n",
       "      <td>0.6895</td>\n",
       "      <td>8708.0</td>\n",
       "      <td>2007</td>\n",
       "    </tr>\n",
       "    <tr>\n",
       "      <th>1906</th>\n",
       "      <td>162928</td>\n",
       "      <td>NaN</td>\n",
       "      <td>NaN</td>\n",
       "      <td>1999</td>\n",
       "    </tr>\n",
       "    <tr>\n",
       "      <th>1792</th>\n",
       "      <td>162928</td>\n",
       "      <td>0.3509</td>\n",
       "      <td>31620.0</td>\n",
       "      <td>2005</td>\n",
       "    </tr>\n",
       "    <tr>\n",
       "      <th>1638</th>\n",
       "      <td>162928</td>\n",
       "      <td>0.1843</td>\n",
       "      <td>43390.0</td>\n",
       "      <td>2012</td>\n",
       "    </tr>\n",
       "    <tr>\n",
       "      <th>1645</th>\n",
       "      <td>163268</td>\n",
       "      <td>0.6035</td>\n",
       "      <td>9764.0</td>\n",
       "      <td>2012</td>\n",
       "    </tr>\n",
       "    <tr>\n",
       "      <th>1608</th>\n",
       "      <td>162928</td>\n",
       "      <td>0.1813</td>\n",
       "      <td>45470.0</td>\n",
       "      <td>2013</td>\n",
       "    </tr>\n",
       "    <tr>\n",
       "      <th>1615</th>\n",
       "      <td>163268</td>\n",
       "      <td>0.6315</td>\n",
       "      <td>10068.0</td>\n",
       "      <td>2013</td>\n",
       "    </tr>\n",
       "    <tr>\n",
       "      <th>1496</th>\n",
       "      <td>163268</td>\n",
       "      <td>0.5683</td>\n",
       "      <td>11264.0</td>\n",
       "      <td>2016</td>\n",
       "    </tr>\n",
       "    <tr>\n",
       "      <th>1776</th>\n",
       "      <td>163268</td>\n",
       "      <td>0.7153</td>\n",
       "      <td>8622.0</td>\n",
       "      <td>2006</td>\n",
       "    </tr>\n",
       "    <tr>\n",
       "      <th>1720</th>\n",
       "      <td>162928</td>\n",
       "      <td>0.2782</td>\n",
       "      <td>39150.0</td>\n",
       "      <td>2009</td>\n",
       "    </tr>\n",
       "    <tr>\n",
       "      <th>1590</th>\n",
       "      <td>162928</td>\n",
       "      <td>0.1608</td>\n",
       "      <td>47060.0</td>\n",
       "      <td>2014</td>\n",
       "    </tr>\n",
       "    <tr>\n",
       "      <th>1871</th>\n",
       "      <td>163268</td>\n",
       "      <td>0.6327</td>\n",
       "      <td>6362.0</td>\n",
       "      <td>2002</td>\n",
       "    </tr>\n",
       "    <tr>\n",
       "      <th>1540</th>\n",
       "      <td>163268</td>\n",
       "      <td>0.5942</td>\n",
       "      <td>11006.0</td>\n",
       "      <td>2015</td>\n",
       "    </tr>\n",
       "    <tr>\n",
       "      <th>1805</th>\n",
       "      <td>162928</td>\n",
       "      <td>0.3071</td>\n",
       "      <td>30140.0</td>\n",
       "      <td>2004</td>\n",
       "    </tr>\n",
       "    <tr>\n",
       "      <th>1478</th>\n",
       "      <td>163268</td>\n",
       "      <td>0.6021</td>\n",
       "      <td>11518.0</td>\n",
       "      <td>2017</td>\n",
       "    </tr>\n",
       "    <tr>\n",
       "      <th>1694</th>\n",
       "      <td>163268</td>\n",
       "      <td>0.6589</td>\n",
       "      <td>9171.0</td>\n",
       "      <td>2010</td>\n",
       "    </tr>\n",
       "    <tr>\n",
       "      <th>1597</th>\n",
       "      <td>163268</td>\n",
       "      <td>0.5961</td>\n",
       "      <td>10384.0</td>\n",
       "      <td>2014</td>\n",
       "    </tr>\n",
       "    <tr>\n",
       "      <th>1727</th>\n",
       "      <td>163268</td>\n",
       "      <td>0.6890</td>\n",
       "      <td>8872.0</td>\n",
       "      <td>2009</td>\n",
       "    </tr>\n",
       "    <tr>\n",
       "      <th>1869</th>\n",
       "      <td>162928</td>\n",
       "      <td>NaN</td>\n",
       "      <td>24930.0</td>\n",
       "      <td>2000</td>\n",
       "    </tr>\n",
       "    <tr>\n",
       "      <th>1754</th>\n",
       "      <td>162928</td>\n",
       "      <td>0.2571</td>\n",
       "      <td>35900.0</td>\n",
       "      <td>2007</td>\n",
       "    </tr>\n",
       "    <tr>\n",
       "      <th>1812</th>\n",
       "      <td>163268</td>\n",
       "      <td>0.7014</td>\n",
       "      <td>8020.0</td>\n",
       "      <td>2004</td>\n",
       "    </tr>\n",
       "    <tr>\n",
       "      <th>1915</th>\n",
       "      <td>163268</td>\n",
       "      <td>NaN</td>\n",
       "      <td>NaN</td>\n",
       "      <td>1999</td>\n",
       "    </tr>\n",
       "    <tr>\n",
       "      <th>1915</th>\n",
       "      <td>162928</td>\n",
       "      <td>NaN</td>\n",
       "      <td>NaN</td>\n",
       "      <td>1998</td>\n",
       "    </tr>\n",
       "    <tr>\n",
       "      <th>2083</th>\n",
       "      <td>163268</td>\n",
       "      <td>NaN</td>\n",
       "      <td>NaN</td>\n",
       "      <td>1996</td>\n",
       "    </tr>\n",
       "    <tr>\n",
       "      <th>1687</th>\n",
       "      <td>162928</td>\n",
       "      <td>0.2225</td>\n",
       "      <td>40680.0</td>\n",
       "      <td>2010</td>\n",
       "    </tr>\n",
       "    <tr>\n",
       "      <th>1878</th>\n",
       "      <td>163268</td>\n",
       "      <td>NaN</td>\n",
       "      <td>5490.0</td>\n",
       "      <td>2000</td>\n",
       "    </tr>\n",
       "    <tr>\n",
       "      <th>1769</th>\n",
       "      <td>162928</td>\n",
       "      <td>0.2792</td>\n",
       "      <td>33900.0</td>\n",
       "      <td>2006</td>\n",
       "    </tr>\n",
       "  </tbody>\n",
       "</table>\n",
       "</div>"
      ],
      "text/plain": [
       "      UNITID  ADM_RATE  TUITIONFEE_IN  YEAR\n",
       "1489  162928    0.1284        50410.0  2016\n",
       "1970  162928       NaN            NaN  1997\n",
       "1799  163268    0.7143         8520.0  2005\n",
       "1741  162928    0.2609        37700.0  2008\n",
       "1533  162928    0.1412        48710.0  2015\n",
       "1889  163268    0.6551         5910.0  2001\n",
       "1473  162928    0.1254        52170.0  2017\n",
       "1862  162928    0.3506        27390.0  2002\n",
       "1843  162928    0.3060        28730.0  2003\n",
       "1980  163268       NaN            NaN  1997\n",
       "1880  162928    0.3431        26210.0  2001\n",
       "2072  162928       NaN            NaN  1996\n",
       "1748  163268    0.7174         8780.0  2008\n",
       "1761  163268    0.6895         8708.0  2007\n",
       "1906  162928       NaN            NaN  1999\n",
       "1792  162928    0.3509        31620.0  2005\n",
       "1638  162928    0.1843        43390.0  2012\n",
       "1645  163268    0.6035         9764.0  2012\n",
       "1608  162928    0.1813        45470.0  2013\n",
       "1615  163268    0.6315        10068.0  2013\n",
       "1496  163268    0.5683        11264.0  2016\n",
       "1776  163268    0.7153         8622.0  2006\n",
       "1720  162928    0.2782        39150.0  2009\n",
       "1590  162928    0.1608        47060.0  2014\n",
       "1871  163268    0.6327         6362.0  2002\n",
       "1540  163268    0.5942        11006.0  2015\n",
       "1805  162928    0.3071        30140.0  2004\n",
       "1478  163268    0.6021        11518.0  2017\n",
       "1694  163268    0.6589         9171.0  2010\n",
       "1597  163268    0.5961        10384.0  2014\n",
       "1727  163268    0.6890         8872.0  2009\n",
       "1869  162928       NaN        24930.0  2000\n",
       "1754  162928    0.2571        35900.0  2007\n",
       "1812  163268    0.7014         8020.0  2004\n",
       "1915  163268       NaN            NaN  1999\n",
       "1915  162928       NaN            NaN  1998\n",
       "2083  163268       NaN            NaN  1996\n",
       "1687  162928    0.2225        40680.0  2010\n",
       "1878  163268       NaN         5490.0  2000\n",
       "1769  162928    0.2792        33900.0  2006"
      ]
     },
     "execution_count": 22,
     "metadata": {},
     "output_type": "execute_result"
    }
   ],
   "source": [
    "df_time = df[(df[\"UNITID\"] == 163268) | (df[\"UNITID\"] == 162928)]\n",
    "df_time.sample(40)"
   ]
  },
  {
   "cell_type": "code",
   "execution_count": 26,
   "metadata": {},
   "outputs": [
    {
     "data": {
      "text/plain": [
       "['1996',\n",
       " '1997',\n",
       " '1998',\n",
       " '1999',\n",
       " '2000',\n",
       " '2001',\n",
       " '2002',\n",
       " '2003',\n",
       " '2004',\n",
       " '2005',\n",
       " '2006',\n",
       " '2007',\n",
       " '2008',\n",
       " '2009',\n",
       " '2010',\n",
       " '2011',\n",
       " '2012',\n",
       " '2013',\n",
       " '2014',\n",
       " '2015',\n",
       " '2016',\n",
       " '2017']"
      ]
     },
     "execution_count": 26,
     "metadata": {},
     "output_type": "execute_result"
    },
    {
     "data": {
      "image/png": "[encoded data removed]",
      "text/plain": [
       "<Figure size 1080x720 with 1 Axes>"
      ]
     },
     "metadata": {
      "needs_background": "light"
     },
     "output_type": "display_data"
    }
   ],
   "source": [
    "df1 = df_time[df_time[\"UNITID\"] == 162928]\n",
    "fig, ax = plt.subplots(figsize=(15,10))\n",
    "\n",
    "df1.plot(x=\"YEAR\", y = \"TUITIONFEE_IN\", xticks=list(df1[\"YEAR\"]), kind=\"line\", ax=ax)\n",
    "#df_time[df_time[\"UNITID\"] == 163268].plot(x=\"YEAR\", y = \"TUITIONFEE_IN\", kind=\"line\", ax=ax)"
   ]
  },
  {
   "cell_type": "code",
   "execution_count": 27,
   "metadata": {},
   "outputs": [
    {
     "name": "stdout",
     "output_type": "stream",
     "text": [
      "<class 'pandas.core.frame.DataFrame'>\n",
      "Int64Index: 44 entries, 2072 to 1478\n",
      "Data columns (total 4 columns):\n",
      "UNITID           44 non-null int64\n",
      "ADM_RATE         34 non-null float64\n",
      "TUITIONFEE_IN    36 non-null float64\n",
      "YEAR             44 non-null datetime64[ns]\n",
      "dtypes: datetime64[ns](1), float64(2), int64(1)\n",
      "memory usage: 1.7 KB\n"
     ]
    },
    {
     "name": "stderr",
     "output_type": "stream",
     "text": [
      "C:\\Users\\jay\\Anaconda3\\lib\\site-packages\\ipykernel_launcher.py:1: SettingWithCopyWarning: \n",
      "A value is trying to be set on a copy of a slice from a DataFrame.\n",
      "Try using .loc[row_indexer,col_indexer] = value instead\n",
      "\n",
      "See the caveats in the documentation: http://pandas.pydata.org/pandas-docs/stable/indexing.html#indexing-view-versus-copy\n",
      "  \"\"\"Entry point for launching an IPython kernel.\n"
     ]
    }
   ],
   "source": [
    "df_time[\"YEAR\"] = pd.to_datetime(df_time[\"YEAR\"], format='%Y')\n",
    "df_time.info()"
   ]
  },
  {
   "cell_type": "code",
   "execution_count": 28,
   "metadata": {},
   "outputs": [
    {
     "data": {
      "text/html": [
       "<div>\n",
       "<style scoped>\n",
       "    .dataframe tbody tr th:only-of-type {\n",
       "        vertical-align: middle;\n",
       "    }\n",
       "\n",
       "    .dataframe tbody tr th {\n",
       "        vertical-align: top;\n",
       "    }\n",
       "\n",
       "    .dataframe thead th {\n",
       "        text-align: right;\n",
       "    }\n",
       "</style>\n",
       "<table border=\"1\" class=\"dataframe\">\n",
       "  <thead>\n",
       "    <tr style=\"text-align: right;\">\n",
       "      <th></th>\n",
       "      <th>UNITID</th>\n",
       "      <th>ADM_RATE</th>\n",
       "      <th>TUITIONFEE_IN</th>\n",
       "    </tr>\n",
       "    <tr>\n",
       "      <th>YEAR</th>\n",
       "      <th></th>\n",
       "      <th></th>\n",
       "      <th></th>\n",
       "    </tr>\n",
       "  </thead>\n",
       "  <tbody>\n",
       "    <tr>\n",
       "      <th>1996-01-01</th>\n",
       "      <td>162928</td>\n",
       "      <td>NaN</td>\n",
       "      <td>NaN</td>\n",
       "    </tr>\n",
       "    <tr>\n",
       "      <th>1996-01-01</th>\n",
       "      <td>163268</td>\n",
       "      <td>NaN</td>\n",
       "      <td>NaN</td>\n",
       "    </tr>\n",
       "    <tr>\n",
       "      <th>1997-01-01</th>\n",
       "      <td>162928</td>\n",
       "      <td>NaN</td>\n",
       "      <td>NaN</td>\n",
       "    </tr>\n",
       "    <tr>\n",
       "      <th>1997-01-01</th>\n",
       "      <td>163268</td>\n",
       "      <td>NaN</td>\n",
       "      <td>NaN</td>\n",
       "    </tr>\n",
       "    <tr>\n",
       "      <th>1998-01-01</th>\n",
       "      <td>162928</td>\n",
       "      <td>NaN</td>\n",
       "      <td>NaN</td>\n",
       "    </tr>\n",
       "  </tbody>\n",
       "</table>\n",
       "</div>"
      ],
      "text/plain": [
       "            UNITID  ADM_RATE  TUITIONFEE_IN\n",
       "YEAR                                       \n",
       "1996-01-01  162928       NaN            NaN\n",
       "1996-01-01  163268       NaN            NaN\n",
       "1997-01-01  162928       NaN            NaN\n",
       "1997-01-01  163268       NaN            NaN\n",
       "1998-01-01  162928       NaN            NaN"
      ]
     },
     "execution_count": 28,
     "metadata": {},
     "output_type": "execute_result"
    }
   ],
   "source": [
    "df_time.set_index(keys=[\"YEAR\"], inplace=True)\n",
    "df_time.head()"
   ]
  },
  {
   "cell_type": "code",
   "execution_count": 39,
   "metadata": {},
   "outputs": [
    {
     "data": {
      "text/plain": [
       "<matplotlib.axes._subplots.AxesSubplot at 0x12cb48979e8>"
      ]
     },
     "execution_count": 39,
     "metadata": {},
     "output_type": "execute_result"
    },
    {
     "data": {
      "image/png": "[encoded data removed]",
      "text/plain": [
       "<Figure size 1080x720 with 2 Axes>"
      ]
     },
     "metadata": {
      "needs_background": "light"
     },
     "output_type": "display_data"
    }
   ],
   "source": [
    "fig, ax = plt.subplots(2, figsize=(15,10))\n",
    "\n",
    "df_time_UMBC = df_time[df_time[\"UNITID\"] == 163268]\n",
    "df_time_JHU = df_time[df_time[\"UNITID\"] == 162928]\n",
    "\n",
    "#df_time_JHU[\"TUITIONFEE_IN\"].plot(ax=ax)\n",
    "#df_time_JHU[\"TUITIONFEE_IN\"].plot(kind=\"line\", ax=ax)\n",
    "df_time_JHU[\"TUITIONFEE_IN\"].plot.line(ax=ax[0],legend=True, title=\"UMBC\")\n",
    "df_time_UMBC[\"TUITIONFEE_IN\"].plot(ax=ax[1], legend=True, title=\"JHU\")\n",
    "#df_time_JHU[\"TUITIONFEE_IN\"].plot(ax=ax)"
   ]
  },
  {
   "cell_type": "code",
   "execution_count": null,
   "metadata": {},
   "outputs": [],
   "source": []
  }
 ],
 "metadata": {
  "kernelspec": {
   "display_name": "Python 3",
   "language": "python",
   "name": "python3"
  },
  "language_info": {
   "codemirror_mode": {
    "name": "ipython",
    "version": 3
   },
   "file_extension": ".py",
   "mimetype": "text/x-python",
   "name": "python",
   "nbconvert_exporter": "python",
   "pygments_lexer": "ipython3",
   "version": "3.7.4"
  }
 },
 "nbformat": 4,
 "nbformat_minor": 2
}
