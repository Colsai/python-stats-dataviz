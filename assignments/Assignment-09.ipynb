{
 "cells": [
  {
   "cell_type": "markdown",
   "metadata": {},
   "source": [
    "# Assignment #09\n",
    "\n",
    "This assignment has two parts and both requires the use of Kaggle.com. \n",
    "So you need to create an account and get familiar with it if you have not already.\n",
    "Submit the links to your database and kernels to the blackboard.\n",
    "You can make your database and kernels public. If you keep them private, please add me as a collaborator.\n",
    "\n",
    "## Part A\n",
    "\n",
    "1. In Kaggle, create a kernel named \"Rolling Dice Simulation\".\n",
    "2. Write code to simulate the rolling of a dice for N time. N will be 1 to 1000. The first simulation, you roll the dice once;  the second simulation, you roll the dice twice; ... the 1000th simulation, you roll the dice 1000 times.\n",
    "3. Write code to calculate the mean of each simulation and append the means to a list variable.\n",
    "4. Make a plot that shows how the means fluctuate/converge as the number of rolls increase. \n",
    "5. From the plot, what do you conclude?\n",
    "\n",
    "\n",
    "## Part B\n",
    "\n",
    "1. Create a database in Kaggle\n",
    "2. Load the college scorecard data for 2017-2018 academic year nad name it \"College Tuition Data 2017-2018\"\n",
    "3. Create a kernel for this database and name it \"Public College Tuition Analysis 2017-2018\"\n",
    "4. Write code to read the data - only read the needed columns: CONTROL, TUITIONFEE_IN\n",
    "5. Filter the data so you have only public institutions\n",
    "6. Drop the colleges that either have zero tuition or have missing tuition. The remaining colleges constitute the population.\n",
    "7. Get a random sample of 100 colleges from the population. \n",
    "8. Calculate the sample mean and sample standard error.\n",
    "9. Calculate the confidence interval of the mean estimate at 68%, 95%. and 99.7%\n",
    "10. Calculate the population mean.\n",
    "11. Compare the population mean with the sample mean - display the difference\n",
    "12. Check the confidence intervals and determine if the population mean within the confidence intervals calculated above. You don't need to write code, just check using your eyes.\n",
    "\n"
   ]
  },
  {
   "cell_type": "code",
   "execution_count": null,
   "metadata": {},
   "outputs": [],
   "source": []
  }
 ],
 "metadata": {
  "kernelspec": {
   "display_name": "Python 3",
   "language": "python",
   "name": "python3"
  },
  "language_info": {
   "codemirror_mode": {
    "name": "ipython",
    "version": 3
   },
   "file_extension": ".py",
   "mimetype": "text/x-python",
   "name": "python",
   "nbconvert_exporter": "python",
   "pygments_lexer": "ipython3",
   "version": "3.7.4"
  }
 },
 "nbformat": 4,
 "nbformat_minor": 2
}
