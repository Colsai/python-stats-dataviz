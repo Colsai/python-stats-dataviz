{
 "cells": [
  {
   "cell_type": "markdown",
   "metadata": {},
   "source": [
    "### Assignment 6\n",
    "\n",
    "The first half of this assignment is a repeat of assignment 5.\n",
    "\n",
    "This gives you a chance to refresh.\n",
    "\n",
    "The second half is new and gives you a chance to perform additional practices.\n",
    "\n",
    "You also get a chance to use some of the Python techniques: \n",
    "\n",
    "- List Comprehensions\n",
    "\n",
    "- Functions\n",
    "\n",
    "You will unzip the zip file manually in preparation for this assignment.\n",
    "\n",
    "The link to the zip file is (you have already used it in your assignment 5):\n",
    "\n",
    "https://ed-public-download.app.cloud.gov/downloads/CollegeScorecard_Raw_Data.zip\n",
    "\n",
    "After unzipping, You will have all files in one folder named \"CollegeScorecard_Raw_Data\" \n",
    "\n",
    "The folder contains the yearly data files from 1996 to 2017 school years.\n",
    "\n",
    "Your Jupyter Notebook file should not be in the CollegeScorecard_Raw_Data folder. \n",
    "\n",
    "I suggest you create a new folder call \"Assignment4\" and place the Notebook file and the data folder under it.\n",
    "\n",
    "Assignment4/\n",
    "    - Jay.ipynb\n",
    "    - CollegeScorecard_Raw_Data/\n",
    "        - ...\n",
    "        - 'MERGED1996_97_PP.csv',\n",
    "        - 'MERGED2015_16_PP.csv',\n",
    "        - ...\n",
    "        - 'MERGED2017_18_PP.csv'\n"
   ]
  },
  {
   "cell_type": "code",
   "execution_count": null,
   "metadata": {},
   "outputs": [],
   "source": [
    "# <1> \n",
    "# Import libraries\n",
    "\n",
    "#(Write code here)\n"
   ]
  },
  {
   "cell_type": "code",
   "execution_count": null,
   "metadata": {},
   "outputs": [],
   "source": [
    "# <2> \n",
    "# Display the current workin directory using os.getcwd()\n",
    "# you would need to import a standard Python library call os which stands for operating system,\n",
    "# so place that import statement in the previous cell.\n",
    "# Since your notebook and your data files are not in # the same folder, \n",
    "# you want to make sure what is the current working folder and \n",
    "# how to access a data file in a different folder\n",
    "\n",
    "#(Write code here)\n"
   ]
  },
  {
   "cell_type": "code",
   "execution_count": null,
   "metadata": {},
   "outputs": [],
   "source": [
    "# <3> \n",
    "# os library has a method call listdir which generates a list of files in a directory/folder.\n",
    "# use this method to assign the contents of the data folder to a variable and display it\n",
    "# Since you already have the data file in your assignment 5 subfolder, you would want Python to \n",
    "# get the files from there. DON'T COPY THE DATA FOLDER FROM #5 FOLDER TO #6 FOLDER.\n",
    "# You can use ../ construct to traverse to the parent folder and then to another foloder parallel to the current folder\n",
    "\n",
    "#(Write code here)\n"
   ]
  },
  {
   "cell_type": "code",
   "execution_count": null,
   "metadata": {},
   "outputs": [],
   "source": [
    "# <4> \n",
    "# The folder contains files that are not the yearly data files\n",
    "# write code to remove the unwanted files from the list vsriable \n",
    "# Note: don't remove/delete these files from the folder in your drive\n",
    "# hint: method one - use pop function of a list \n",
    "#       method two - use remove functions of a list. \n",
    "#       method three - use the file extension to only keep the csv files \n",
    "#       method four - use the name patter - data file name begins with \"MERGED\"\n",
    "# For this assignment please use method three or four and also use the concept of list comprehension to write just \n",
    "# one line of code instead of using a for loop\n",
    "\n",
    "#(Write code here)\n"
   ]
  },
  {
   "cell_type": "code",
   "execution_count": null,
   "metadata": {},
   "outputs": [],
   "source": [
    "# <5> \n",
    "# Now that you have a clean list of the yearly files, you want to loop through them\n",
    "# and read them into a dataframe one at a time. You only load three columns: \n",
    "# [\"UNITID\", \"INSTNM\", \"STABBR\", \"REGION\", \"ADM_RATE\", \"TUITIONFEE_IN\"]\n",
    "# You also want to add a new column call \"YEAR\" to differentiate the data frames from each other.\n",
    "# The YEAR variable should be yyyy format so tht you can covert them into integer.\n",
    "# if you use the format yyyy-yy (such as 1997-98 schedule year), you will not be able to convert them directly to integer\n",
    "# if you use scatter plot, the YEAR needs to be converted to integer or float. \n",
    "# \n",
    "# You would use an empty list and append the yearly dataframes to the list.\n",
    "# After all data files are loaded and appended to the list, you would use Pandas to concatenate them into a \n",
    "# new single data frame.\n",
    "# Note: this exercise incorporates many techques we learned before\n",
    "# - list (creating an empty, append an item to the list)\n",
    "# - for loop \n",
    "# - read only the needed columns from a file (using usecols option)\n",
    "# - add a new column to a data frame\n",
    "# - concatenate multiple dataframes into a single one\n",
    "# This exercise may appear a big challenging but it worths the effort. You will learn a lot and  love it. I promise.\n",
    "\n",
    "#(Write code here)\n"
   ]
  },
  {
   "cell_type": "code",
   "execution_count": null,
   "metadata": {},
   "outputs": [],
   "source": [
    "# <6> \n",
    "# explore the new dataframe (# of observations, varibles, head, tail, sample, missing values, statistics,etc.)\n",
    "\n",
    "#(Write code here)\n"
   ]
  },
  {
   "cell_type": "code",
   "execution_count": null,
   "metadata": {},
   "outputs": [],
   "source": [
    "# <7>\n",
    "# the dataframe contains 22 years of data of all U.S. colleges.\n",
    "# let's just look at UMBC\n",
    "# filte/query the dataframe to retrieve only rows that belong to UMBC\n",
    "# save the UMNC data to a new data frame. using a new variable \n",
    "# so that the old big data frame is still available for later use.\n",
    "\n",
    "#(Write code here)\n"
   ]
  },
  {
   "cell_type": "code",
   "execution_count": null,
   "metadata": {},
   "outputs": [],
   "source": [
    "# <8>\n",
    "# Explore this UMBC dataframe (# of observations, varibles, head, tail, sample, missing values, statistics,etc.)\n",
    "\n",
    "#(Write code here)"
   ]
  },
  {
   "cell_type": "code",
   "execution_count": null,
   "metadata": {},
   "outputs": [],
   "source": [
    "# <9> \n",
    "# Plot UMBC's in-state tution overtime from 1996 to 2017 using Bar Chart\n",
    "\n",
    "#(Write code here)\n"
   ]
  },
  {
   "cell_type": "code",
   "execution_count": null,
   "metadata": {},
   "outputs": [],
   "source": [
    "# <10> \n",
    "# Plot UMBC's in-state tution overtime from 1996 to 2017 using Line Chart\n",
    "\n",
    "#(Write code here)\n"
   ]
  },
  {
   "cell_type": "code",
   "execution_count": null,
   "metadata": {},
   "outputs": [],
   "source": [
    "# <11>\n",
    "# Now let's look at the tuition growth rate year over year\n",
    "# We need to calculate UMBC tuition change percentage each year\n",
    "# First convert the TUITIONFEE_IN column to a Python List\n",
    "\n",
    "#(Write code here)"
   ]
  },
  {
   "cell_type": "code",
   "execution_count": null,
   "metadata": {},
   "outputs": [],
   "source": [
    "# Loop through the list and calculate the % change each year over the prior year\n",
    "# This takes some effort. Not hard, just some abstract/logical thinking and some experiments\n",
    "# Have fun on this one\n",
    "\n",
    " #(Write code here)"
   ]
  },
  {
   "cell_type": "code",
   "execution_count": null,
   "metadata": {},
   "outputs": [],
   "source": [
    "# The resulting number has many decimal points which are unnecessary and not visually appealing.\n",
    "# Round up the percentage to two decimal points\n",
    "# You can use for loop. Or better, use list comprehension for simplicity/brevity\n",
    "\n",
    "#(Write code here)"
   ]
  },
  {
   "cell_type": "code",
   "execution_count": null,
   "metadata": {},
   "outputs": [],
   "source": [
    "# Add the list of the percentages to the dataframe as a new column (\"PCT_CHANGE\")\n",
    "# Not as hard as you may think. If you get stuck, you think too hard. \n",
    "# Google it and you will find the answer.\n",
    "\n",
    "#(Write code here)"
   ]
  },
  {
   "cell_type": "code",
   "execution_count": null,
   "metadata": {},
   "outputs": [],
   "source": [
    "# Finaly, we can make the plot - bar or line or both\n",
    "\n",
    "# (write code here)\n",
    "\n"
   ]
  },
  {
   "cell_type": "code",
   "execution_count": null,
   "metadata": {},
   "outputs": [],
   "source": [
    "# <12>\n",
    "# Since we want to do the same calculation for JHU. \n",
    "# Instead of doing it piecemeal as we did for UMBC\n",
    "# Let's create a function which can be reused for any college.\n",
    "# This function takes a list of tuitions and return a list of percentage changes year over year\n",
    "# This function can be used later \n",
    "\n",
    "#(Write code here)\n",
    "\n",
    " "
   ]
  },
  {
   "cell_type": "code",
   "execution_count": null,
   "metadata": {},
   "outputs": [],
   "source": [
    "# <13>\n",
    "# the dataframe contains 22 years of data of all U.S. colleges.\n",
    "# let's just look at JHU\n",
    "# filte/query the dataframe to retrieve only rows that belong to JHU\n",
    "# save the JHU data to a new data frame. using a new variable \n",
    "# so that the old big data frame is still available for later use.\n",
    "\n",
    "#(Write code here)\n"
   ]
  },
  {
   "cell_type": "code",
   "execution_count": null,
   "metadata": {},
   "outputs": [],
   "source": [
    "# <14> \n",
    "# Plot JHU's in-state tuition overtime from 1996 to 2017. \n",
    "# Let's plot bar and line chart together\n",
    "\n",
    "#(Write code here)\n",
    "\n"
   ]
  },
  {
   "cell_type": "code",
   "execution_count": null,
   "metadata": {},
   "outputs": [],
   "source": [
    "# <15>\n",
    "# Let's calculate the JHU tuition percentge growth using the function defined earlier\n",
    "\n",
    "#(Write code here)\n",
    "\n"
   ]
  },
  {
   "cell_type": "code",
   "execution_count": null,
   "metadata": {},
   "outputs": [],
   "source": [
    "# <16>\n",
    "# Add the list of percentage changes to the dataframe as a new column (\"PCT_CHANGE\")\n",
    "\n",
    "#(Write code here)\n",
    "\n"
   ]
  },
  {
   "cell_type": "code",
   "execution_count": null,
   "metadata": {},
   "outputs": [],
   "source": [
    "# <17> Make a bar plot of the JHU percentage changes tuitions over time\n",
    "\n",
    "#(Write code here)\n",
    "\n"
   ]
  },
  {
   "cell_type": "code",
   "execution_count": null,
   "metadata": {},
   "outputs": [],
   "source": [
    "# <18>\n",
    "# In order to plot both UMBC and JHU tuition change over time in the same plot,\n",
    "# we need to combine the two datasets using the common key of YEAR \n",
    "# First make a umbc2 dataframe with only two columns needed. WE don't need other columns.\n",
    "# Also change the column name from \"PCT_CHANGE\" to \"UMBC_PCT\" in preparation for the merge.\n",
    "# This is because both umbc and jhu dataframe have the same column name \"PCT_CHANGE\",\n",
    "# We rename them to there is no collision during the merge. BTW, Pandas handles collision gracefully,\n",
    "# Feel free to try it without changing the column names.\n",
    "\n",
    "#(Write code here)\n",
    "\n"
   ]
  },
  {
   "cell_type": "code",
   "execution_count": null,
   "metadata": {},
   "outputs": [],
   "source": [
    "# Then make a jhu2 dataframe with only two columns needed. WE don't need other columns.\n",
    "# Also change the column name from \"PCT_CHANGE\" to \"JHU_PCT\"  in preparation for the merge\n",
    "\n",
    "#(Write code here)\n",
    "\n"
   ]
  },
  {
   "cell_type": "code",
   "execution_count": null,
   "metadata": {},
   "outputs": [],
   "source": [
    "# Now, merger the two data frames\n",
    "# and display the new dataframe\n",
    "\n",
    "#(Write code here)\n",
    "\n"
   ]
  },
  {
   "cell_type": "code",
   "execution_count": null,
   "metadata": {},
   "outputs": [],
   "source": [
    "# Plot UMBC and JHU separately on the same plot \n",
    "# However, this does not work since the bars overlap.\n",
    "\n",
    "#(Write code here)\n",
    "\n"
   ]
  },
  {
   "cell_type": "code",
   "execution_count": null,
   "metadata": {},
   "outputs": [],
   "source": [
    "# Plot them together using y=[\"UMBC_PCT\",\"JHU_PCT\"] option of bar plot\n",
    "\n",
    "#(Write code here)\n",
    "\n"
   ]
  },
  {
   "cell_type": "code",
   "execution_count": null,
   "metadata": {},
   "outputs": [],
   "source": [
    "# Plot them together using y=[\"UMBC_PCT\",\"JHU_PCT\"] option of line plot\n",
    "\n",
    "#(Write code here)\n",
    "\n"
   ]
  },
  {
   "cell_type": "code",
   "execution_count": null,
   "metadata": {},
   "outputs": [],
   "source": [
    "# <19> \n",
    "# document your observation/conclusion of the comparison plots (bar/line)\n",
    "# use the following Markdown cell"
   ]
  },
  {
   "cell_type": "markdown",
   "metadata": {},
   "source": [
    "#### Based on my observation of the plots\n",
    "#### blah, blah \n",
    "#### blah, blah\n",
    "#### ...\n",
    "#### blah, blah"
   ]
  },
  {
   "cell_type": "code",
   "execution_count": null,
   "metadata": {},
   "outputs": [],
   "source": [
    "# The end."
   ]
  }
 ],
 "metadata": {
  "kernelspec": {
   "display_name": "Python 3",
   "language": "python",
   "name": "python3"
  },
  "language_info": {
   "codemirror_mode": {
    "name": "ipython",
    "version": 3
   },
   "file_extension": ".py",
   "mimetype": "text/x-python",
   "name": "python",
   "nbconvert_exporter": "python",
   "pygments_lexer": "ipython3",
   "version": "3.7.1"
  }
 },
 "nbformat": 4,
 "nbformat_minor": 2
}
