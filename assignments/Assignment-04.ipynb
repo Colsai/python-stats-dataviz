{
 "cells": [
  {
   "cell_type": "code",
   "execution_count": null,
   "metadata": {},
   "outputs": [],
   "source": [
    "# <1> \n",
    "# Import libraries\n",
    "(Write code here)"
   ]
  },
  {
   "cell_type": "code",
   "execution_count": null,
   "metadata": {},
   "outputs": [],
   "source": [
    "# <2>\n",
    "# load the 2017-2018 school year file \"MERGED2017_18_PP.csv\" \n",
    "# Don't include all columns - too many and take up computer resources (computeing power and memory)\n",
    "# Only load the following 10 columns should be loaded:\n",
    "# UNITID: \n",
    "# OPEID:              \n",
    "# OPEID6:            \n",
    "# INSTNM:          \n",
    "# CITY:                      \n",
    "# ZIP:               \n",
    "# ADM_RATE:           \n",
    "# UGDS:              \n",
    "# TUITIONFEE_IN:      \n",
    "\n",
    "(Write code here)"
   ]
  },
  {
   "cell_type": "code",
   "execution_count": null,
   "metadata": {},
   "outputs": [],
   "source": [
    "# <3>\n",
    "# Load the scorecard file Most-Recent-Cohorts-Scorecard-Elements.csv from the link:\n",
    "# https://ed-public-download.app.cloud.gov/downloads/Most-Recent-Cohorts-Scorecard-Elements.csv\n",
    "# This file has thre median earnings which is not present in the previous file\n",
    "# Only load the two columns:\n",
    "# UNITID - This column is the unique identity for each college and will be used to join with the previous file\n",
    "# MD_EARN_WNE_P10  - This column has the median earnings\n",
    "(Write code here)"
   ]
  },
  {
   "cell_type": "code",
   "execution_count": null,
   "metadata": {},
   "outputs": [],
   "source": [
    "# <4> \n",
    "# Explore this file - number of colleges, head/tail/sample etc.\n",
    "# Notice this file has different number of colleges from the previous file\n",
    "# This indicate they are not identical and they overlap (they don't contain the same set of colleges)\n",
    "(Write code here)"
   ]
  },
  {
   "cell_type": "code",
   "execution_count": null,
   "metadata": {},
   "outputs": [],
   "source": [
    "# <5>\n",
    "#Join the two files together to produce a third file which contain all the columns and all colleges that are common to both files\n",
    "(Write code here)"
   ]
  },
  {
   "cell_type": "code",
   "execution_count": null,
   "metadata": {},
   "outputs": [],
   "source": [
    "# <6>\n",
    "# Explore the new file\n",
    "(Write code here)"
   ]
  },
  {
   "cell_type": "code",
   "execution_count": null,
   "metadata": {},
   "outputs": [],
   "source": [
    "# <7>\n",
    "# Find out the top 100 colleges that are hardest to get in (Top 100) from this new file\n",
    "(Write code here)"
   ]
  },
  {
   "cell_type": "code",
   "execution_count": null,
   "metadata": {},
   "outputs": [],
   "source": [
    "# <8>\n",
    "# Display the summary statistics of the in-state tuitions of the top 100 colleges that are hardest to get in\n",
    "(Write code here)"
   ]
  },
  {
   "cell_type": "code",
   "execution_count": null,
   "metadata": {},
   "outputs": [],
   "source": [
    "# <9>\n",
    "# Display the histogram of the in-state tuitions of the top 100 colleges that are hardest to get in\n",
    "(Write code here)"
   ]
  },
  {
   "cell_type": "code",
   "execution_count": null,
   "metadata": {},
   "outputs": [],
   "source": [
    "# <10>\n",
    "# Display the summary statistics of the earning potentials of the top 100 colleges that are hardest to get in\n",
    "(Write code here)"
   ]
  },
  {
   "cell_type": "code",
   "execution_count": null,
   "metadata": {},
   "outputs": [],
   "source": [
    "# <11>\n",
    "# Display the histogram of the earning potentials of the top 100 colleges that are hardest to get in\n",
    "(Write code here)"
   ]
  },
  {
   "cell_type": "code",
   "execution_count": null,
   "metadata": {},
   "outputs": [],
   "source": [
    "# <12>\n",
    "# Make a scatter plot of the in-state tuition and the median graduate earnings of \n",
    "# the top 100 colleges that are hardest to get in\n",
    "# using Pandas\n",
    "(Write code here)"
   ]
  },
  {
   "cell_type": "code",
   "execution_count": null,
   "metadata": {},
   "outputs": [],
   "source": [
    "# <13>\n",
    "# Make a scatter plot of the in-state tuition and the median graduate earnings of \n",
    "# the top 100 colleges that are hardest to get in\n",
    "# using Matplotlib\n",
    "(Write code here)"
   ]
  },
  {
   "cell_type": "code",
   "execution_count": null,
   "metadata": {},
   "outputs": [],
   "source": [
    "# <14>\n",
    "# Make a scatter plot of the in-state tuition and the median graduate earnings of \n",
    "# the top 100 colleges that are hardest to get in\n",
    "# using Seaborn\n",
    "(Write code here)"
   ]
  },
  {
   "cell_type": "code",
   "execution_count": null,
   "metadata": {},
   "outputs": [],
   "source": [
    "# <15> \n",
    "# Your observation/conclusion of the scatter plot (use the following Markdown cell)"
   ]
  },
  {
   "cell_type": "markdown",
   "metadata": {},
   "source": [
    "#### Based on my observation of the scatter plot,\n",
    "#### blah, blah (are the two variable related? how?, etc)\n",
    "#### blah, blah\n",
    "#### ...\n",
    "#### blah, blah"
   ]
  },
  {
   "cell_type": "code",
   "execution_count": null,
   "metadata": {},
   "outputs": [],
   "source": []
  }
 ],
 "metadata": {
  "kernelspec": {
   "display_name": "Python 3",
   "language": "python",
   "name": "python3"
  },
  "language_info": {
   "codemirror_mode": {
    "name": "ipython",
    "version": 3
   },
   "file_extension": ".py",
   "mimetype": "text/x-python",
   "name": "python",
   "nbconvert_exporter": "python",
   "pygments_lexer": "ipython3",
   "version": "3.7.4"
  }
 },
 "nbformat": 4,
 "nbformat_minor": 2
}
