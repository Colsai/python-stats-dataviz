{
  "nbformat": 4,
  "nbformat_minor": 0,
  "metadata": {
    "kernelspec": {
      "display_name": "Python 3",
      "language": "python",
      "name": "python3"
    },
    "language_info": {
      "codemirror_mode": {
        "name": "ipython",
        "version": 3
      },
      "file_extension": ".py",
      "mimetype": "text/x-python",
      "name": "python",
      "nbconvert_exporter": "python",
      "pygments_lexer": "ipython3",
      "version": "3.7.4"
    },
    "colab": {
      "name": "Assignment-04.ipynb",
      "provenance": [],
      "include_colab_link": true
    }
  },
  "cells": [
    {
      "cell_type": "markdown",
      "metadata": {
        "id": "view-in-github",
        "colab_type": "text"
      },
      "source": [
        "<a href=\"https://colab.research.google.com/github/wcj365/python-stats-dataviz/blob/master/assignments/Assignment-04.ipynb\" target=\"_parent\"><img src=\"https://colab.research.google.com/assets/colab-badge.svg\" alt=\"Open In Colab\"/></a>"
      ]
    },
    {
      "cell_type": "code",
      "metadata": {
        "id": "h1dBKntgwtH4",
        "colab_type": "code",
        "colab": {}
      },
      "source": [
        "# <1> \n",
        "# Import libraries\n",
        "(Write code here)"
      ],
      "execution_count": 0,
      "outputs": []
    },
    {
      "cell_type": "code",
      "metadata": {
        "id": "qJ9o7d8twtH_",
        "colab_type": "code",
        "colab": {}
      },
      "source": [
        "# <2>\n",
        "# load the 2017-2018 school year file \"MERGED2017_18_PP.csv\" \n",
        "# Don't include all columns - too many and take up computer resources (computeing power and memory)\n",
        "# Only load the following 10 columns should be loaded:\n",
        "# UNITID: \n",
        "# OPEID:              \n",
        "# OPEID6:            \n",
        "# INSTNM:          \n",
        "# CITY:                      \n",
        "# ZIP:               \n",
        "# ADM_RATE:           \n",
        "# UGDS:              \n",
        "# TUITIONFEE_IN:      \n",
        "\n",
        "(Write code here)"
      ],
      "execution_count": 0,
      "outputs": []
    },
    {
      "cell_type": "code",
      "metadata": {
        "id": "fOIPL0FzwtIC",
        "colab_type": "code",
        "colab": {}
      },
      "source": [
        "# <3>\n",
        "# Load the scorecard file Most-Recent-Cohorts-Scorecard-Elements.csv from the link:\n",
        "# https://ed-public-download.app.cloud.gov/downloads/Most-Recent-Cohorts-Scorecard-Elements.csv\n",
        "# This file has thre median earnings which is not present in the previous file\n",
        "# Only load the two columns:\n",
        "# UNITID - This column is the unique identity for each college and will be used to join with the previous file\n",
        "# MD_EARN_WNE_P10  - This column has the median earnings\n",
        "(Write code here)"
      ],
      "execution_count": 0,
      "outputs": []
    },
    {
      "cell_type": "code",
      "metadata": {
        "id": "Z2r8AaE1wtIE",
        "colab_type": "code",
        "colab": {}
      },
      "source": [
        "# <4> \n",
        "# Explore this file - number of colleges, head/tail/sample etc.\n",
        "# Notice this file has different number of colleges from the previous file\n",
        "# This indicate they are not identical and they overlap (they don't contain the same set of colleges)\n",
        "(Write code here)"
      ],
      "execution_count": 0,
      "outputs": []
    },
    {
      "cell_type": "code",
      "metadata": {
        "id": "aH8NCrmVwtII",
        "colab_type": "code",
        "colab": {}
      },
      "source": [
        "# <5>\n",
        "#Join the two files together to produce a third file which contain all the columns and all colleges that are common to both files\n",
        "(Write code here)"
      ],
      "execution_count": 0,
      "outputs": []
    },
    {
      "cell_type": "code",
      "metadata": {
        "id": "bPiKBlyEwtIM",
        "colab_type": "code",
        "colab": {}
      },
      "source": [
        "# <6>\n",
        "# Explore the new file - number of colleges, head/tail/sample etc.\n",
        "(Write code here)"
      ],
      "execution_count": 0,
      "outputs": []
    },
    {
      "cell_type": "code",
      "metadata": {
        "id": "kHZinqMNwtIQ",
        "colab_type": "code",
        "colab": {}
      },
      "source": [
        "# <7>\n",
        "# Find out the top 100 colleges that are hardest to get in (Top 100) from this new file\n",
        "(Write code here)"
      ],
      "execution_count": 0,
      "outputs": []
    },
    {
      "cell_type": "code",
      "metadata": {
        "id": "UD32npV8wtIU",
        "colab_type": "code",
        "colab": {}
      },
      "source": [
        "# <8>\n",
        "# Display the summary statistics of the in-state tuitions of the top 100 colleges that are hardest to get in\n",
        "(Write code here)"
      ],
      "execution_count": 0,
      "outputs": []
    },
    {
      "cell_type": "code",
      "metadata": {
        "id": "4UwhZr7uwtIX",
        "colab_type": "code",
        "colab": {}
      },
      "source": [
        "# <9>\n",
        "# Display the histogram of the in-state tuitions of the top 100 colleges that are hardest to get in\n",
        "(Write code here)"
      ],
      "execution_count": 0,
      "outputs": []
    },
    {
      "cell_type": "code",
      "metadata": {
        "id": "QCZzQu2QwtIZ",
        "colab_type": "code",
        "colab": {}
      },
      "source": [
        "# <10>\n",
        "# Display the summary statistics of the earning potentials of the top 100 colleges that are hardest to get in\n",
        "(Write code here)"
      ],
      "execution_count": 0,
      "outputs": []
    },
    {
      "cell_type": "code",
      "metadata": {
        "id": "anSvKwsewtId",
        "colab_type": "code",
        "colab": {}
      },
      "source": [
        "# <11>\n",
        "# Display the histogram of the earning potentials of the top 100 colleges that are hardest to get in\n",
        "(Write code here)"
      ],
      "execution_count": 0,
      "outputs": []
    },
    {
      "cell_type": "code",
      "metadata": {
        "id": "59_ol471wtIg",
        "colab_type": "code",
        "colab": {}
      },
      "source": [
        "# <12>\n",
        "# Make a scatter plot of the in-state tuition and the median graduate earnings of \n",
        "# the top 100 colleges that are hardest to get in\n",
        "# using Pandas\n",
        "(Write code here)"
      ],
      "execution_count": 0,
      "outputs": []
    },
    {
      "cell_type": "code",
      "metadata": {
        "id": "FKgN5G-rwtIi",
        "colab_type": "code",
        "colab": {}
      },
      "source": [
        "# <13>\n",
        "# Make a scatter plot of the in-state tuition and the median graduate earnings of \n",
        "# the top 100 colleges that are hardest to get in\n",
        "# using Matplotlib\n",
        "(Write code here)"
      ],
      "execution_count": 0,
      "outputs": []
    },
    {
      "cell_type": "code",
      "metadata": {
        "id": "lQkOKC54wtIk",
        "colab_type": "code",
        "colab": {}
      },
      "source": [
        "# <14>\n",
        "# Make a scatter plot of the in-state tuition and the median graduate earnings of \n",
        "# the top 100 colleges that are hardest to get in\n",
        "# using Seaborn\n",
        "(Write code here)"
      ],
      "execution_count": 0,
      "outputs": []
    },
    {
      "cell_type": "code",
      "metadata": {
        "id": "dm-Hy1-jwtIm",
        "colab_type": "code",
        "colab": {}
      },
      "source": [
        "# <15> \n",
        "# Your observation/conclusion of the scatter plot (use the following Markdown cell)"
      ],
      "execution_count": 0,
      "outputs": []
    },
    {
      "cell_type": "markdown",
      "metadata": {
        "id": "ksJFdaPdwtIp",
        "colab_type": "text"
      },
      "source": [
        "#### Based on my observation of the scatter plot,\n",
        "#### blah, blah (are the two variable related? how?, etc)\n",
        "#### blah, blah\n",
        "#### ...\n",
        "#### blah, blah"
      ]
    },
    {
      "cell_type": "code",
      "metadata": {
        "id": "y-QOPE6UwtIq",
        "colab_type": "code",
        "colab": {}
      },
      "source": [
        ""
      ],
      "execution_count": 0,
      "outputs": []
    }
  ]
}