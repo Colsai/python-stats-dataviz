{
 "cells": [
  {
   "cell_type": "markdown",
   "metadata": {},
   "source": [
    "### Assignment 7\n",
    "For this assignment , we will use the college scorecard dataset. \n"
   ]
  },
  {
   "cell_type": "code",
   "execution_count": 24,
   "metadata": {},
   "outputs": [],
   "source": [
    "# 1 - Import necessary libraries\n",
    "import numpy as np\n",
    "import pandas as pd\n",
    "import matplotlib.pyplot as plt\n",
    "import os\n",
    "import random\n",
    "import math"
   ]
  },
  {
   "cell_type": "code",
   "execution_count": 13,
   "metadata": {},
   "outputs": [
    {
     "data": {
      "text/plain": [
       "['MERGED1996_97_PP.csv',\n",
       " 'MERGED1997_98_PP.csv',\n",
       " 'MERGED1998_99_PP.csv',\n",
       " 'MERGED1999_00_PP.csv',\n",
       " 'MERGED2000_01_PP.csv',\n",
       " 'MERGED2001_02_PP.csv',\n",
       " 'MERGED2002_03_PP.csv',\n",
       " 'MERGED2003_04_PP.csv',\n",
       " 'MERGED2004_05_PP.csv',\n",
       " 'MERGED2005_06_PP.csv',\n",
       " 'MERGED2006_07_PP.csv',\n",
       " 'MERGED2007_08_PP.csv',\n",
       " 'MERGED2008_09_PP.csv',\n",
       " 'MERGED2009_10_PP.csv',\n",
       " 'MERGED2010_11_PP.csv',\n",
       " 'MERGED2011_12_PP.csv',\n",
       " 'MERGED2012_13_PP.csv',\n",
       " 'MERGED2013_14_PP.csv',\n",
       " 'MERGED2014_15_PP.csv',\n",
       " 'MERGED2015_16_PP.csv',\n",
       " 'MERGED2016_17_PP.csv',\n",
       " 'MERGED2017_18_PP.csv']"
      ]
     },
     "execution_count": 13,
     "metadata": {},
     "output_type": "execute_result"
    }
   ],
   "source": [
    "# 2 - Retrieve the names of the 22 files and assign them to a List variable\n",
    "# You would need to filter out other files\n",
    "# Display the names of these 22 files\n",
    "\n",
    "FILE_PATH = \"../College-Scorecard/CollegeScorecard_Raw_Data/\"\n",
    "file_names = os.listdir(FILE_PATH)\n",
    "file_names = [x for x in file_names if x.endswith(\".csv\")]\n",
    "file_names"
   ]
  },
  {
   "cell_type": "code",
   "execution_count": 14,
   "metadata": {},
   "outputs": [
    {
     "data": {
      "text/plain": [
       "'MERGED2015_16_PP.csv'"
      ]
     },
     "execution_count": 14,
     "metadata": {},
     "output_type": "execute_result"
    }
   ],
   "source": [
    "# 3 - Write code to randomly select one file name out of the 22 files names. \n",
    "# Display the file name\n",
    "\n",
    "i = random.randint(0, 23)\n",
    "file_name = file_names[i]\n",
    "file_name"
   ]
  },
  {
   "cell_type": "code",
   "execution_count": 15,
   "metadata": {},
   "outputs": [
    {
     "name": "stdout",
     "output_type": "stream",
     "text": [
      "<class 'pandas.core.frame.DataFrame'>\n",
      "RangeIndex: 7593 entries, 0 to 7592\n",
      "Data columns (total 2 columns):\n",
      "INSTNM           7593 non-null object\n",
      "TUITIONFEE_IN    4303 non-null float64\n",
      "dtypes: float64(1), object(1)\n",
      "memory usage: 118.7+ KB\n"
     ]
    }
   ],
   "source": [
    "# 4 - Only read the two columns: college name (INSTNM) and in state tution (\"TUITIONFEE_IN\")\n",
    "# from this file into a data frame aand display use info() function to display a summary information\n",
    "\n",
    "df = pd.read_csv(FILE_PATH + file_name, usecols=[\"INSTNM\", \"TUITIONFEE_IN\"])\n",
    "df.info()"
   ]
  },
  {
   "cell_type": "code",
   "execution_count": 16,
   "metadata": {},
   "outputs": [
    {
     "data": {
      "text/plain": [
       "INSTNM              0\n",
       "TUITIONFEE_IN    3290\n",
       "dtype: int64"
      ]
     },
     "execution_count": 16,
     "metadata": {},
     "output_type": "execute_result"
    }
   ],
   "source": [
    "# 5 - Find out how many observations have missing value.\n",
    "\n",
    "df.isna().sum()"
   ]
  },
  {
   "cell_type": "code",
   "execution_count": 19,
   "metadata": {},
   "outputs": [
    {
     "data": {
      "text/plain": [
       "4303"
      ]
     },
     "execution_count": 19,
     "metadata": {},
     "output_type": "execute_result"
    }
   ],
   "source": [
    "# 6 - Drop those observations with missing value\n",
    "# Disaply the number of observations afterward\n",
    "\n",
    "df = df.dropna()\n",
    "df.shape[0]"
   ]
  },
  {
   "cell_type": "code",
   "execution_count": 21,
   "metadata": {},
   "outputs": [
    {
     "data": {
      "text/plain": [
       "INSTNM           0\n",
       "TUITIONFEE_IN    0\n",
       "dtype: int64"
      ]
     },
     "execution_count": 21,
     "metadata": {},
     "output_type": "execute_result"
    }
   ],
   "source": [
    "# 7 - Find out how many observations have 0 tution. \n",
    "\n",
    "df[df[\"TUITIONFEE_IN\"] <= 0].count()"
   ]
  },
  {
   "cell_type": "code",
   "execution_count": null,
   "metadata": {},
   "outputs": [],
   "source": [
    "# 8 - Drop those observations with 0 tuition\n",
    "# Disaply the number of observations afterward"
   ]
  },
  {
   "cell_type": "code",
   "execution_count": 28,
   "metadata": {},
   "outputs": [
    {
     "name": "stdout",
     "output_type": "stream",
     "text": [
      "TUITIONFEE_IN    14515.13\n",
      "dtype: float64\n"
     ]
    }
   ],
   "source": [
    "# 9 - Calculate and display the mean (average) of the tuitions of all the remaining observations \n",
    "\n",
    "pop_mean = df.mean()\n",
    "print(round(pop_mean, 2))"
   ]
  },
  {
   "cell_type": "code",
   "execution_count": 31,
   "metadata": {},
   "outputs": [
    {
     "name": "stdout",
     "output_type": "stream",
     "text": [
      "                INSTNM  TUITIONFEE_IN\n",
      "3074  Albright College        39850.0\n"
     ]
    }
   ],
   "source": [
    "# 10 - Randomly select just 1 observation from the data frame.\n",
    "# Display the tuition of that observation. \n",
    "\n",
    "df_1 = df.sample(1)\n",
    "print(df_1)"
   ]
  },
  {
   "cell_type": "code",
   "execution_count": 32,
   "metadata": {},
   "outputs": [
    {
     "name": "stdout",
     "output_type": "stream",
     "text": [
      "TUITIONFEE_IN   -25334.873809\n",
      "dtype: float64\n"
     ]
    }
   ],
   "source": [
    "# 11 - Calculate the different between the tuition of this observation and \n",
    "# the mean tuition off all observations calculated earlier.\n",
    "# Display the difference\n",
    "\n",
    "print(pop_mean - df_1.mean())"
   ]
  },
  {
   "cell_type": "code",
   "execution_count": null,
   "metadata": {},
   "outputs": [],
   "source": [
    "# 12 - Repeat 10 to 11 several times get the feel of the size of the difference in means"
   ]
  },
  {
   "cell_type": "code",
   "execution_count": 39,
   "metadata": {},
   "outputs": [
    {
     "name": "stdout",
     "output_type": "stream",
     "text": [
      "                                                 INSTNM  TUITIONFEE_IN\n",
      "5105              University of Connecticut-Avery Point        11324.0\n",
      "925                              Idaho State University         6784.0\n",
      "2750                         Baldwin Wallace University        29908.0\n",
      "1749                 Kalamazoo Valley Community College         3060.0\n",
      "555             Colorado Northwestern Community College         3554.0\n",
      "1581                                 Bentley University        44085.0\n",
      "6273                ITT Technical Institute-Tallahassee        18048.0\n",
      "3631                                 McMurry University        25763.0\n",
      "2371                          Elmira Business Institute        20780.0\n",
      "1126                                  DePauw University        44678.0\n",
      "4602  School of Professional Horticulture New York B...         7500.0\n",
      "3998                     Madison Area Technical College         4217.0\n",
      "2513               SUNY College of Technology at Canton         7855.0\n",
      "285                                  Coleman University        20725.0\n",
      "2790                                      Davis College        14130.0\n",
      "838                           Augusta Technical College         2644.0\n",
      "3968     Meredith Manor International Equestrian Center        22974.0\n",
      "3766                        Northern Vermont University        11018.0\n",
      "5920                                   Mayfield College        12648.0\n",
      "450                             College of the Redwoods         1142.0\n"
     ]
    }
   ],
   "source": [
    "# 13 - Randomly select 20 observations, display the tuition of these observation. \n",
    "\n",
    "df_20 = df.sample(20)\n",
    "print(df_20)"
   ]
  },
  {
   "cell_type": "code",
   "execution_count": 40,
   "metadata": {},
   "outputs": [
    {
     "name": "stdout",
     "output_type": "stream",
     "text": [
      "TUITIONFEE_IN    15641.85\n",
      "dtype: float64\n"
     ]
    }
   ],
   "source": [
    "# 14 - Calculate and displat the mean tuition of these 20 observations\n",
    "\n",
    "print(df_20.mean())"
   ]
  },
  {
   "cell_type": "code",
   "execution_count": 41,
   "metadata": {},
   "outputs": [
    {
     "name": "stdout",
     "output_type": "stream",
     "text": [
      "TUITIONFEE_IN   -1126.723809\n",
      "dtype: float64\n"
     ]
    }
   ],
   "source": [
    "# 15 - Calculate  the different between the average tuition of these 20 observations \n",
    "# and the mean tuition off all observations calculated earlier.\n",
    "# Display the difference\n",
    "\n",
    "print(pop_mean - df_20.mean())"
   ]
  },
  {
   "cell_type": "code",
   "execution_count": null,
   "metadata": {},
   "outputs": [],
   "source": [
    "# 16 - Repeat 13 to 15 several times and get the feel of the size of the difference in means \n",
    "# Compare these differences with the differences calculated earlier with just 1 observation\n",
    "# Describe your hunch/conclusion"
   ]
  },
  {
   "cell_type": "markdown",
   "metadata": {},
   "source": [
    "Write a function that take two input parameters:\n",
    "- x (number of observations) \n",
    "- y (the name of a dataframe). \n",
    "\n",
    "The function will perform the following: \n",
    "- Randomly select x observations from y\n",
    "- Calculate the mean of these x observations \n",
    "- Calculate the mean of all observations\n",
    "- Calculate the difference between the two means \n",
    "- Return the difference"
   ]
  },
  {
   "cell_type": "code",
   "execution_count": 44,
   "metadata": {},
   "outputs": [],
   "source": [
    "# 17 - write function Code here\n",
    "\n",
    "def diff_mean(x,y):                 # input parameter x (number of observations) and y (the name of a dataframe) \n",
    "    df_x = y.sample(x)              # Randomly select x observations from y\n",
    "    sample_mean = df_x.mean()       # Calculate the mean of these x observations\n",
    "    pop_mean = df.mean()            # Calculate the mean of all observations\n",
    "    diff = pop_mean - sample_mean   # Calculate the difference between the two means\n",
    "    return diff                     # Return the difference"
   ]
  },
  {
   "cell_type": "code",
   "execution_count": 59,
   "metadata": {},
   "outputs": [
    {
     "name": "stdout",
     "output_type": "stream",
     "text": [
      "TUITIONFEE_IN    163.280858\n",
      "dtype: float64\n"
     ]
    }
   ],
   "source": [
    "# 18 - test the function by passing a sample size and the name of the dataframe\n",
    "# Dsplay the return of the function\n",
    "\n",
    "print(diff_mean(3000,df))"
   ]
  },
  {
   "cell_type": "code",
   "execution_count": 84,
   "metadata": {},
   "outputs": [
    {
     "name": "stdout",
     "output_type": "stream",
     "text": [
      "[1, 2, 3, 4, 5, 6, 7, 8, 9, 10, 11, 12, 13, 14, 15, 16, 17, 18, 19, 20, 21, 22, 23, 24, 25, 26, 27, 28, 29, 30, 31, 32, 33, 34, 35, 36, 37, 38, 39, 40, 41, 42, 43, 44, 45, 46, 47, 48, 49, 50, 51, 52, 53, 54, 55, 56, 57, 58, 59, 60, 61, 62, 63, 64, 65, 66, 67, 68, 69, 70, 71, 72, 73, 74, 75, 76, 77, 78, 79, 80, 81, 82, 83, 84, 85, 86, 87, 88, 89, 90, 91, 92, 93, 94, 95, 96, 97, 98, 99, 100]\n"
     ]
    }
   ],
   "source": [
    "# 18 - Create a list of sequence numbers from 1 to 50, name it \"sample_sizes\";\n",
    "# display it to make sure its members are from 1 to 50\n",
    "\n",
    "sample_sizes = list(range(1,101))\n",
    "print(sample_sizes)"
   ]
  },
  {
   "cell_type": "code",
   "execution_count": 85,
   "metadata": {},
   "outputs": [
    {
     "name": "stdout",
     "output_type": "stream",
     "text": [
      "[TUITIONFEE_IN    1971.126191\n",
      "dtype: float64, TUITIONFEE_IN    6040.126191\n",
      "dtype: float64, TUITIONFEE_IN   -2168.873809\n",
      "dtype: float64, TUITIONFEE_IN   -13956.123809\n",
      "dtype: float64, TUITIONFEE_IN    3921.726191\n",
      "dtype: float64, TUITIONFEE_IN   -1436.040476\n",
      "dtype: float64, TUITIONFEE_IN    1765.554762\n",
      "dtype: float64, TUITIONFEE_IN   -755.873809\n",
      "dtype: float64, TUITIONFEE_IN    4642.237302\n",
      "dtype: float64, TUITIONFEE_IN   -1140.373809\n",
      "dtype: float64, TUITIONFEE_IN    5711.762555\n",
      "dtype: float64, TUITIONFEE_IN    6144.626191\n",
      "dtype: float64, TUITIONFEE_IN    3887.972345\n",
      "dtype: float64, TUITIONFEE_IN    2406.911905\n",
      "dtype: float64, TUITIONFEE_IN    2747.459524\n",
      "dtype: float64, TUITIONFEE_IN    3975.751191\n",
      "dtype: float64, TUITIONFEE_IN    2156.94972\n",
      "dtype: float64, TUITIONFEE_IN    3452.903969\n",
      "dtype: float64, TUITIONFEE_IN    2699.073559\n",
      "dtype: float64, TUITIONFEE_IN   -1131.823809\n",
      "dtype: float64, TUITIONFEE_IN    2623.078572\n",
      "dtype: float64, TUITIONFEE_IN   -2598.555627\n",
      "dtype: float64, TUITIONFEE_IN    913.213148\n",
      "dtype: float64, TUITIONFEE_IN    244.126191\n",
      "dtype: float64, TUITIONFEE_IN   -2260.193809\n",
      "dtype: float64, TUITIONFEE_IN    584.780037\n",
      "dtype: float64, TUITIONFEE_IN    2578.978043\n",
      "dtype: float64, TUITIONFEE_IN   -1750.838095\n",
      "dtype: float64, TUITIONFEE_IN    4111.36757\n",
      "dtype: float64, TUITIONFEE_IN    3324.292858\n",
      "dtype: float64, TUITIONFEE_IN   -1982.454454\n",
      "dtype: float64, TUITIONFEE_IN   -2197.186309\n",
      "dtype: float64, TUITIONFEE_IN   -2541.904112\n",
      "dtype: float64, TUITIONFEE_IN   -74.785574\n",
      "dtype: float64, TUITIONFEE_IN    1216.69762\n",
      "dtype: float64, TUITIONFEE_IN    1084.903969\n",
      "dtype: float64, TUITIONFEE_IN    2918.396461\n",
      "dtype: float64, TUITIONFEE_IN   -233.005388\n",
      "dtype: float64, TUITIONFEE_IN    361.690294\n",
      "dtype: float64, TUITIONFEE_IN    174.226191\n",
      "dtype: float64, TUITIONFEE_IN    3177.199362\n",
      "dtype: float64, TUITIONFEE_IN    3391.864286\n",
      "dtype: float64, TUITIONFEE_IN   -1218.455204\n",
      "dtype: float64, TUITIONFEE_IN   -227.851082\n",
      "dtype: float64, TUITIONFEE_IN    297.726191\n",
      "dtype: float64, TUITIONFEE_IN   -4353.612939\n",
      "dtype: float64, TUITIONFEE_IN    1083.253851\n",
      "dtype: float64, TUITIONFEE_IN   -2.561309\n",
      "dtype: float64, TUITIONFEE_IN    593.79966\n",
      "dtype: float64, TUITIONFEE_IN    1244.066191\n",
      "dtype: float64, TUITIONFEE_IN    3155.655603\n",
      "dtype: float64, TUITIONFEE_IN   -169.739194\n",
      "dtype: float64, TUITIONFEE_IN    1016.7677\n",
      "dtype: float64, TUITIONFEE_IN    874.237302\n",
      "dtype: float64, TUITIONFEE_IN    970.035282\n",
      "dtype: float64, TUITIONFEE_IN    316.465477\n",
      "dtype: float64, TUITIONFEE_IN   -234.680827\n",
      "dtype: float64, TUITIONFEE_IN    586.419294\n",
      "dtype: float64, TUITIONFEE_IN   -2073.348385\n",
      "dtype: float64, TUITIONFEE_IN    158.892858\n",
      "dtype: float64, TUITIONFEE_IN    1363.536027\n",
      "dtype: float64, TUITIONFEE_IN   -242.69639\n",
      "dtype: float64, TUITIONFEE_IN   -237.365872\n",
      "dtype: float64, TUITIONFEE_IN   -2860.623809\n",
      "dtype: float64, TUITIONFEE_IN    809.572345\n",
      "dtype: float64, TUITIONFEE_IN   -2105.191991\n",
      "dtype: float64, TUITIONFEE_IN    795.932161\n",
      "dtype: float64, TUITIONFEE_IN   -1663.991456\n",
      "dtype: float64, TUITIONFEE_IN   -440.178157\n",
      "dtype: float64, TUITIONFEE_IN    2685.783334\n",
      "dtype: float64, TUITIONFEE_IN    743.210698\n",
      "dtype: float64, TUITIONFEE_IN   -1513.596031\n",
      "dtype: float64, TUITIONFEE_IN    410.687835\n",
      "dtype: float64, TUITIONFEE_IN   -845.279214\n",
      "dtype: float64, TUITIONFEE_IN    1572.326191\n",
      "dtype: float64, TUITIONFEE_IN    511.678823\n",
      "dtype: float64, TUITIONFEE_IN    1002.866451\n",
      "dtype: float64, TUITIONFEE_IN   -89.784065\n",
      "dtype: float64, TUITIONFEE_IN   -896.36748\n",
      "dtype: float64, TUITIONFEE_IN    2028.663691\n",
      "dtype: float64, TUITIONFEE_IN    651.299031\n",
      "dtype: float64, TUITIONFEE_IN    30.260337\n",
      "dtype: float64, TUITIONFEE_IN    263.017757\n",
      "dtype: float64, TUITIONFEE_IN    657.864286\n",
      "dtype: float64, TUITIONFEE_IN    247.079132\n",
      "dtype: float64, TUITIONFEE_IN   -1226.583111\n",
      "dtype: float64, TUITIONFEE_IN   -630.609441\n",
      "dtype: float64, TUITIONFEE_IN    637.762555\n",
      "dtype: float64, TUITIONFEE_IN    1691.654281\n",
      "dtype: float64, TUITIONFEE_IN   -1576.473809\n",
      "dtype: float64, TUITIONFEE_IN   -1464.368314\n",
      "dtype: float64, TUITIONFEE_IN    3701.463148\n",
      "dtype: float64, TUITIONFEE_IN   -125.024347\n",
      "dtype: float64, TUITIONFEE_IN   -1631.001469\n",
      "dtype: float64, TUITIONFEE_IN    61.663033\n",
      "dtype: float64, TUITIONFEE_IN    931.022024\n",
      "dtype: float64, TUITIONFEE_IN    0.765366\n",
      "dtype: float64, TUITIONFEE_IN    464.789456\n",
      "dtype: float64, TUITIONFEE_IN    985.530231\n",
      "dtype: float64, TUITIONFEE_IN   -143.683809\n",
      "dtype: float64]\n"
     ]
    }
   ],
   "source": [
    "# 19 - Create an empty list and name it \"means_diff\" for differences of population mean and sample means;\n",
    "# Loop through the list sample_sizes:\n",
    "# For each element in the sample size list, obtain a random sample of that size from the data frame;\n",
    "# Calculate the sample mean \n",
    "# Calculate the difference between the population mean and the sample mean\n",
    "# Append the difference to the list \"means_diff\"\n",
    "# Display the list \"means_diff\" after the loop is completed\n",
    "\n",
    "means_diff = []\n",
    "for i in sample_sizes:\n",
    "    df_tmp = df.sample(i)\n",
    "    means_diff.append(pop_mean - df_tmp.mean())\n",
    "    \n",
    "print(means_diff)"
   ]
  },
  {
   "cell_type": "code",
   "execution_count": 86,
   "metadata": {},
   "outputs": [
    {
     "data": {
      "text/plain": [
       "<matplotlib.collections.PathCollection at 0x24203231748>"
      ]
     },
     "execution_count": 86,
     "metadata": {},
     "output_type": "execute_result"
    },
    {
     "data": {
      "image/png": "[encoded data removed]",
      "text/plain": [
       "<Figure size 864x576 with 1 Axes>"
      ]
     },
     "metadata": {
      "needs_background": "light"
     },
     "output_type": "display_data"
    }
   ],
   "source": [
    "# 20 - Make a scatter plot with sample size on the x-axs and  mean difference on the y-axis\n",
    "# Observe as the sample size increases, the sample means converge to the population mean.\n",
    "\n",
    "fig, ax = plt.subplots(figsize=(12,8))\n",
    "ax.scatter(x=sample_sizes, y=means_diff)"
   ]
  },
  {
   "cell_type": "code",
   "execution_count": null,
   "metadata": {},
   "outputs": [],
   "source": [
    "# The end - Give yourself a pat on the back!"
   ]
  }
 ],
 "metadata": {
  "kernelspec": {
   "display_name": "Python 3",
   "language": "python",
   "name": "python3"
  },
  "language_info": {
   "codemirror_mode": {
    "name": "ipython",
    "version": 3
   },
   "file_extension": ".py",
   "mimetype": "text/x-python",
   "name": "python",
   "nbconvert_exporter": "python",
   "pygments_lexer": "ipython3",
   "version": "3.7.1"
  }
 },
 "nbformat": 4,
 "nbformat_minor": 4
}
