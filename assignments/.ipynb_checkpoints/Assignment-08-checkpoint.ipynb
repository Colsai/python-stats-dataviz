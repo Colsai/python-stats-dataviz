{
 "cells": [
  {
   "cell_type": "markdown",
   "metadata": {},
   "source": [
    "# Assignment #08\n",
    "1. Create an Kaggle account if you have not already\n",
    "\n",
    "2. Get familiar with Kaggle by creating a sample dataset with a sample data file and a Jupyter Notebook kernel to explore the data file. This will help you practice how Kaggle works.\n",
    "\n",
    "3. After you are comfortable with Kaggle, create a dataset to host your project data file(s). Create a Jupyter Notebook to process and analyze the data file(s). You can either start from scratch or upload the existing notebook.\n",
    "\n",
    "4. Share your dataset and Jupyter notebook with me. If you make your dataset and notebook public, you can just send me the link to them. If you keep them private, you can add me as a collaborator and allow me to view your data/notebook. You can find me by my Kaggle id (wcj365) "
   ]
  },
  {
   "cell_type": "code",
   "execution_count": null,
   "metadata": {},
   "outputs": [],
   "source": []
  }
 ],
 "metadata": {
  "kernelspec": {
   "display_name": "Python 3",
   "language": "python",
   "name": "python3"
  },
  "language_info": {
   "codemirror_mode": {
    "name": "ipython",
    "version": 3
   },
   "file_extension": ".py",
   "mimetype": "text/x-python",
   "name": "python",
   "nbconvert_exporter": "python",
   "pygments_lexer": "ipython3",
   "version": "3.7.4"
  }
 },
 "nbformat": 4,
 "nbformat_minor": 2
}
