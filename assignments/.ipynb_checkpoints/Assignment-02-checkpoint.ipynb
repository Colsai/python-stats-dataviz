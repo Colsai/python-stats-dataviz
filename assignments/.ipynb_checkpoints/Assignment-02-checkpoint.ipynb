{
 "cells": [
  {
   "cell_type": "markdown",
   "metadata": {},
   "source": [
    "# Assignment #02\n",
    "Write a program that generates 100 random integers between 0 and 9.\n",
    "\n",
    "Print them in a 10 by 10 matrix neatly arranged following the format below (numbers can be different but the asterisks * must be included):\n",
    "<pre>\n",
    "**********************************\n",
    "*  5  1  5  6  2  7  8  6  4  2  *\n",
    "*  2  3  7  0  6  9  2  4  2  8  *\n",
    "*  0  0  8  6  4  1  7  2  7  6  *\n",
    "*  0  1  9  0  0  8  5  8  6  8  *\n",
    "*  4  1  0  5  5  7  4  6  4  4  *\n",
    "*  6  0  2  0  1  9  8  2  3  9  *\n",
    "*  4  0  4  8  1  7  6  6  2  1  *\n",
    "*  1  7  6  8  5  4  1  9  6  7  *\n",
    "*  6  4  7  9  9  3  8  2  6  1  *\n",
    "*  9  0  6  4  0  1  0  6  9  9  *\n",
    "**********************************\n",
    "</pre>\n",
    "Note: You can submit either a Python script (.py) or a Jupyter Notebook (.ipynb) file\n",
    "\n",
    "Hint: \n",
    "\n",
    "1. You can use Python standard library random to generate one random number at a time or you can use NumPy random library to generate 100 random number altogether in one shot. \n",
    "\n",
    "2. You are likely to use nested loop - a loop within in another loop since you are dealing with a 10 x 10 matrix.\n",
    "\n"
   ]
  },
  {
   "cell_type": "code",
   "execution_count": null,
   "metadata": {},
   "outputs": [],
   "source": []
  }
 ],
 "metadata": {
  "kernelspec": {
   "display_name": "Python 3",
   "language": "python",
   "name": "python3"
  },
  "language_info": {
   "codemirror_mode": {
    "name": "ipython",
    "version": 3
   },
   "file_extension": ".py",
   "mimetype": "text/x-python",
   "name": "python",
   "nbconvert_exporter": "python",
   "pygments_lexer": "ipython3",
   "version": "3.7.4"
  }
 },
 "nbformat": 4,
 "nbformat_minor": 2
}
