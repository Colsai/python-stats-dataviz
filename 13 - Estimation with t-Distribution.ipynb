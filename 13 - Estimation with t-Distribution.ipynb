{
  "nbformat": 4,
  "nbformat_minor": 0,
  "metadata": {
    "kernelspec": {
      "display_name": "Python 3",
      "language": "python",
      "name": "python3"
    },
    "language_info": {
      "codemirror_mode": {
        "name": "ipython",
        "version": 3
      },
      "file_extension": ".py",
      "mimetype": "text/x-python",
      "name": "python",
      "nbconvert_exporter": "python",
      "pygments_lexer": "ipython3",
      "version": "3.7.4"
    },
    "colab": {
      "name": "13 - Estimation with t-Distribution.ipynb",
      "provenance": [],
      "include_colab_link": true
    }
  },
  "cells": [
    {
      "cell_type": "markdown",
      "metadata": {
        "id": "view-in-github",
        "colab_type": "text"
      },
      "source": [
        "<a href=\"https://colab.research.google.com/github/wcj365/python-stats-dataviz/blob/master/13%20-%20Estimation%20with%20t-Distribution.ipynb\" target=\"_parent\"><img src=\"https://colab.research.google.com/assets/colab-badge.svg\" alt=\"Open In Colab\"/></a>"
      ]
    },
    {
      "cell_type": "markdown",
      "metadata": {
        "id": "nQoNKsf9_b2O",
        "colab_type": "text"
      },
      "source": [
        "## 13 - Estimation with t-distribution\n",
        "\n",
        "### z-Distribution vs t-Distribution\n",
        "\n",
        "z-distribution - when population standard deviation $\\sigma$ is known (we have more confidence)\n",
        "\n",
        "t-distribution - when population standard deviation is unknown (we have less confidence)\n",
        "\n",
        "![image](https://github.com/wcj365/python-stats-dataviz/blob/master/images/z-and-t-distribution.gif?raw=1)\n",
        "\n",
        "### Three Concepts of Statistical Inferece:\n",
        "#### 1. Point Estimate\n",
        "\n",
        "We use a sample statistics to estimate the population parameters:\n",
        "\n",
        "Sample Mean $\\bar{X}=\\dfrac{1}{n}\\sum\\limits_{i=1}^n X_i$\n",
        "\n",
        "Sample Variance $S^2=\\dfrac{1}{n-1}\\sum\\limits_{i=1}^n (X_i-\\bar{X})^2$\n",
        "\n",
        "Sample Standard Deviation $S=\\sqrt{\\dfrac{1}{n-1}\\sum\\limits_{i=1}^n (X_i-\\bar{X})^2}$\n",
        "\n",
        "#### 2.Interval Estimate/Confidence Interval\n",
        "\n",
        "How confident we are about our point estimate?\n",
        "\n",
        "Confidence Interval = sample statistics $\\pm$ margin of error\n",
        "\n",
        "Margin of Error = Some multiplier M * Standard Error \n",
        "\n",
        "Confidence Interval ($\\sigma$ known) = $\\bar{x}\\space\\pm\\space t_{\\alpha/2}\\left(\\dfrac{\\sigma}{\\sqrt{n}}\\right)$\n",
        "\n",
        "Confidence Interval ($\\sigma$ unknown) = $\\bar{x}\\space\\pm\\space t_{\\alpha/2}\\left(\\dfrac{S}{\\sqrt{n}}\\right)$\n",
        "\n",
        "Note: How confidence are you about your confidence? No 100% if the population standard deviation is not known and we must use the smaple standard deviation to approximate the population standard deviation.\n",
        "\n",
        "#### 3. Hypothese Testing (Challenging the status quo: Null Hypothesis vs Alternative Hypothesis)\n",
        "\n",
        "* One-Sample t-Test\n",
        "A one-sample t-test checks whether a sample mean differs from the population mean.\n",
        "* Two-Sample t-Test\n",
        "A two-sample t-test investigates whether the means of two independent data samples differ from one another. In a two-sample test, the null hypothesis is that the means of both groups are the same."
      ]
    },
    {
      "cell_type": "code",
      "metadata": {
        "id": "0lkQaeLm_b2P",
        "colab_type": "code",
        "colab": {}
      },
      "source": [
        "import math\n",
        "import scipy.stats as stats\n",
        "import numpy as np"
      ],
      "execution_count": 0,
      "outputs": []
    },
    {
      "cell_type": "markdown",
      "metadata": {
        "id": "EpR7wgta_b2T",
        "colab_type": "text"
      },
      "source": [
        "### Point and interval estimate example\n",
        "\n",
        "A random sample of **16** Americans yielded the following data on the number of pounds of beef consumed per year:\n",
        "\n",
        "**118    115    125    110    112    130    117    112\n",
        "115    120    113    118    119    122    123    126**\n",
        "\n",
        "What is the average number of pounds of beef consumed each year per person in the United States?"
      ]
    },
    {
      "cell_type": "markdown",
      "metadata": {
        "id": "PkBVZq7s_b2U",
        "colab_type": "text"
      },
      "source": [
        "### Step 1. Calculate Sample Size and Sample Mean"
      ]
    },
    {
      "cell_type": "code",
      "metadata": {
        "id": "kH44mBW8_b2V",
        "colab_type": "code",
        "colab": {},
        "outputId": "5adcdca6-2350-41f3-f36d-d5452d4a1a3e"
      },
      "source": [
        "x = [118, 115, 125, 110, 112, 130, 117, 112, 115, 120, 113, 118, 119, 122, 123, 126]\n",
        "n = len(x)\n",
        "print(type(x))\n",
        "print(\"Sample size =\", n)"
      ],
      "execution_count": 0,
      "outputs": [
        {
          "output_type": "stream",
          "text": [
            "<class 'list'>\n",
            "Sample size = 16\n"
          ],
          "name": "stdout"
        }
      ]
    },
    {
      "cell_type": "code",
      "metadata": {
        "id": "_yIK2C_A_b2b",
        "colab_type": "code",
        "colab": {},
        "outputId": "102d5cba-8af1-416c-b75b-91c577954211"
      },
      "source": [
        "sample_mean = np.mean(x)\n",
        "sample_mean = round(sample_mean,2)\n",
        "print(\"Sample mean =\", sample_mean)"
      ],
      "execution_count": 0,
      "outputs": [
        {
          "output_type": "stream",
          "text": [
            "Sample mean = 118.44\n"
          ],
          "name": "stdout"
        }
      ]
    },
    {
      "cell_type": "markdown",
      "metadata": {
        "id": "lPmyoZ8r_b2e",
        "colab_type": "text"
      },
      "source": [
        "So, our point estimate for the annual beef consumption per capita in US is **118.44 pounds**.\n",
        "That is an easy part. Now let's perform **interval estimate**:"
      ]
    },
    {
      "cell_type": "markdown",
      "metadata": {
        "id": "oBHRQ08v_b2e",
        "colab_type": "text"
      },
      "source": [
        "### Step 2 - Calculate the Sample Standard Deviation & Sample Error\n",
        "\n",
        "Sample Standard Deviation $S=\\sqrt{\\dfrac{1}{n-1}\\sum\\limits_{i=1}^n (X_i-\\bar{X})^2}$\n",
        "\n",
        "Sample Error = $\\dfrac{S}{\\sqrt{n}}$\n",
        "\n",
        "Note: The default **Delta Degree of Freedom (DDOF)** is 0 which is applicable to populate data. \n",
        "\n",
        "For sample data, make sure to specify **ddof=1**.\n"
      ]
    },
    {
      "cell_type": "code",
      "metadata": {
        "id": "MrFVzRXe_b2f",
        "colab_type": "code",
        "colab": {},
        "outputId": "6c06588f-e042-41d5-91a3-c0730aaf6cea"
      },
      "source": [
        "sample_std = round(np.std(x, ddof=1),2)         \n",
        "print(\"Sample Standard Deviation =\", sample_std)"
      ],
      "execution_count": 0,
      "outputs": [
        {
          "output_type": "stream",
          "text": [
            "Sample Standard Deviation = 5.66\n"
          ],
          "name": "stdout"
        }
      ]
    },
    {
      "cell_type": "code",
      "metadata": {
        "id": "P_uQzlUE_b2i",
        "colab_type": "code",
        "colab": {},
        "outputId": "eef128a7-47a2-482e-f867-7e852620c3a4"
      },
      "source": [
        "std_err = sample_std / math.sqrt(len(x))\n",
        "std_err = round(std_err,2)\n",
        "print(\"Sample Standard Error is\", std_err)"
      ],
      "execution_count": 0,
      "outputs": [
        {
          "output_type": "stream",
          "text": [
            "Sample Standard Error is 1.42\n"
          ],
          "name": "stdout"
        }
      ]
    },
    {
      "cell_type": "markdown",
      "metadata": {
        "id": "M2jmwXFe_b2m",
        "colab_type": "text"
      },
      "source": [
        "### Step 3 - Calculate t Critical Value using t-Distribution\n",
        "\n",
        "At 95% confidence level, the t value is 2.13 according to the  Student T Distribution Table:\n",
        "![Student T Table](https://github.com/wcj365/python-stats-dataviz/blob/master/images/StudentTTable.png?raw=1)\n",
        "\n",
        "$\\alpha$ = 1 - Confidence Level = 1 - 95% = 0.05\n",
        "\n",
        "$\\dfrac{\\alpha}{2}$ = 0.025\n",
        "\n",
        "n (sample size) = 16\n",
        "\n",
        "df (degree of freedom) = n - 1 = 16 - 1 = 15\n",
        "\n",
        "$t_{0.025,15}=2.13$\n",
        "\n",
        "Instead of looking it up in the t-table, you use Python scipy.stats t-distribution as follows:"
      ]
    },
    {
      "cell_type": "code",
      "metadata": {
        "id": "tE7Qz6zn_b2m",
        "colab_type": "code",
        "colab": {},
        "outputId": "375274dd-cc63-4034-9a1f-03a975c9a803"
      },
      "source": [
        "t_value = stats.t.ppf(0.975, 15)\n",
        "print(\"t critical value = \", round(t_value,2))"
      ],
      "execution_count": 0,
      "outputs": [
        {
          "output_type": "stream",
          "text": [
            "t critical value =  2.13\n"
          ],
          "name": "stdout"
        }
      ]
    },
    {
      "cell_type": "markdown",
      "metadata": {
        "id": "bOM5StXN_b2r",
        "colab_type": "text"
      },
      "source": [
        "### Step 4 - Calculate Margin of Error\n",
        " Margin of Error = t-statistics * Sample Standard Error = $t_{\\alpha/2,n-1}\\left(\\dfrac{s}{\\sqrt{n}}\\right)$"
      ]
    },
    {
      "cell_type": "code",
      "metadata": {
        "id": "s0SGfqAG_b2r",
        "colab_type": "code",
        "colab": {},
        "outputId": "55e14dec-5ce3-489a-a5b0-d01c0d4a75c7"
      },
      "source": [
        "margin_of_error = round(t_value * std_err,2) \n",
        "print(\"Margin of Error =\", margin_of_error)"
      ],
      "execution_count": 0,
      "outputs": [
        {
          "output_type": "stream",
          "text": [
            "Margin of Error = 3.03\n"
          ],
          "name": "stdout"
        }
      ]
    },
    {
      "cell_type": "markdown",
      "metadata": {
        "id": "dDLjLxBM_b2u",
        "colab_type": "text"
      },
      "source": [
        "### Step 5 - Calculate Lower and Upper Limit of the Confidence Interval\n",
        "Lower Limit = Sample Mean - Margin of Error\n",
        "Upper Limit = Sample Mean + Margin of Error"
      ]
    },
    {
      "cell_type": "code",
      "metadata": {
        "id": "w6WPXpKO_b2u",
        "colab_type": "code",
        "colab": {},
        "outputId": "25773882-83b4-4311-d6f5-98ce0cf151a9"
      },
      "source": [
        "lower_limit = sample_mean - margin_of_error\n",
        "print (\"Lower Limit = \", lower_limit)"
      ],
      "execution_count": 0,
      "outputs": [
        {
          "output_type": "stream",
          "text": [
            "Lower Limit =  115.41\n"
          ],
          "name": "stdout"
        }
      ]
    },
    {
      "cell_type": "code",
      "metadata": {
        "id": "bBQRY3DO_b2x",
        "colab_type": "code",
        "colab": {},
        "outputId": "027be4e3-ee05-4ab1-eb3f-b5d967869111"
      },
      "source": [
        "upper_limit = sample_mean + margin_of_error\n",
        "print (\"Upper Limit = \", upper_limit)"
      ],
      "execution_count": 0,
      "outputs": [
        {
          "output_type": "stream",
          "text": [
            "Upper Limit =  121.47\n"
          ],
          "name": "stdout"
        }
      ]
    },
    {
      "cell_type": "markdown",
      "metadata": {
        "id": "Yz8o502o_b22",
        "colab_type": "text"
      },
      "source": [
        "### Step 6 - Now You have the Confidence Interval\n",
        "Confidence Interval ($\\sigma$ unknown) = $\\bar{x}\\space\\pm\\space t_{\\alpha/2}\\left(\\dfrac{S}{\\sqrt{n}}\\right)$"
      ]
    },
    {
      "cell_type": "code",
      "metadata": {
        "id": "Sp-0SXaU_b23",
        "colab_type": "code",
        "colab": {},
        "outputId": "af4a2dbf-954f-4f25-a52d-9427b8e15185"
      },
      "source": [
        "print(\"The 95% Confidence Interval = (\", lower_limit, \",\", upper_limit, \")\")"
      ],
      "execution_count": 0,
      "outputs": [
        {
          "output_type": "stream",
          "text": [
            "The 95% Confidence Interval = ( 115.41 , 121.47 )\n"
          ],
          "name": "stdout"
        }
      ]
    },
    {
      "cell_type": "markdown",
      "metadata": {
        "id": "p6NdwAqQ_b28",
        "colab_type": "text"
      },
      "source": [
        "### The End"
      ]
    }
  ]
}